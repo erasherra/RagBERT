{
 "cells": [
  {
   "cell_type": "code",
   "execution_count": 1,
   "id": "9739e420-ec21-4da7-9f58-30bdfa90e336",
   "metadata": {},
   "outputs": [
    {
     "name": "stderr",
     "output_type": "stream",
     "text": [
      "C:\\Users\\amiri\\anaconda3\\envs\\RagBERT\\Lib\\site-packages\\deepeval\\__init__.py:51: UserWarning: You are using deepeval version 2.1.7, however version 2.3.2 is available. You should consider upgrading via the \"pip install --upgrade deepeval\" command.\n",
      "  warnings.warn(\n"
     ]
    }
   ],
   "source": [
    "from deepeval import evaluate\n",
    "from deepeval.metrics import ContextualRelevancyMetric\n",
    "from deepeval.test_case import LLMTestCase"
   ]
  },
  {
   "cell_type": "code",
   "execution_count": 2,
   "id": "b20bfa90-0057-4d09-b0c2-cb26bdc3794b",
   "metadata": {},
   "outputs": [],
   "source": [
    "import os"
   ]
  },
  {
   "cell_type": "code",
   "execution_count": 3,
   "id": "9d4c7ea7-7080-41bc-93dd-4546b05a68ed",
   "metadata": {},
   "outputs": [],
   "source": [
    "from embedchain import App"
   ]
  },
  {
   "cell_type": "code",
   "execution_count": 4,
   "id": "e9b299f6-ce46-4dfc-91f5-f5038b3a74d9",
   "metadata": {},
   "outputs": [],
   "source": [
    "from transformers import pipeline"
   ]
  },
  {
   "cell_type": "code",
   "execution_count": 5,
   "id": "3c2d5030-f0c3-474e-a5e7-73ed59470293",
   "metadata": {},
   "outputs": [],
   "source": [
    "def calculateContextRelevancy(actual_output = \"\", retrieval_context=[], input=\"\"):\n",
    "    metric = ContextualRelevancyMetric(\n",
    "        threshold=0.7,\n",
    "        model=\"gpt-4\",\n",
    "        include_reason=True\n",
    "    )\n",
    "    test_case = LLMTestCase(\n",
    "        input,\n",
    "        actual_output=actual_output,\n",
    "        retrieval_context=retrieval_context\n",
    "    )\n",
    "\n",
    "    metric.measure(test_case)\n",
    "    print(metric.score)\n",
    "    print(metric.reason)\n",
    "    print()\n",
    "    \n",
    "    \n",
    "    return test_case, metric"
   ]
  },
  {
   "cell_type": "code",
   "execution_count": 6,
   "id": "5d0364c3-8bd1-481e-91ca-8839d6566254",
   "metadata": {},
   "outputs": [],
   "source": [
    "def evaluate_in_bulk(test_case, metric):\n",
    "    # evaluate test cases in bulk\n",
    "    evaluate([test_case], [metric])"
   ]
  },
  {
   "cell_type": "code",
   "execution_count": 7,
   "id": "4d1125d7-1be1-4bb7-9927-89d0c24d00dd",
   "metadata": {},
   "outputs": [],
   "source": [
    "inputs = [\"\"\"Voiko luottamustehtävässä edelleen olla, jos muuttaa toiselle paikkakunnalle (answer IN FINNISH)?\"\"\",\n",
    "         \"\"\"Voidaanko turhaa irtaimistoa lahjoittaa yliopistolle ja kuka päättää irtaimiston lahjoittamisesta (answer IN FINNISH)?\"\"\",\n",
    "         \"\"\"Kuka päättää uusien virkojen perustamisesta (answer IN FINNISH)?\"\"\",\n",
    "         \"\"\"Mikäli toimipisteessä sattuu vesivahinko, jonka myötä toiminta\n",
    "         tulee siirtää muualle, kuka päättää toimipisteen siirrosta, mikäli\n",
    "         asiasta on jo tehty viranhaltijapäätös kahdelle kuukaudelle, mutta\n",
    "         alkuperäisessä toimipisteessä olevien laajojen ongelmien vuoksi,\n",
    "         toimintaa joudutaan edelleen jatkamaan toisessa toimipisteessä (answer IN FINNISH)?\"\"\",\n",
    "         \"\"\"Mikä on aluehallituksen rooli osakeyhtiön perustamiseen liittyvissä asioissa (answer IN FINNISH)?\"\"\"]"
   ]
  },
  {
   "cell_type": "code",
   "execution_count": 8,
   "id": "2494746c-fd4a-49eb-9ff6-a43506e689e9",
   "metadata": {},
   "outputs": [],
   "source": [
    "dir_path = \"./chunks_hallinto/\""
   ]
  },
  {
   "cell_type": "code",
   "execution_count": 9,
   "id": "fad415b6-cdbd-45d8-b9ad-7bbc5be719fd",
   "metadata": {},
   "outputs": [],
   "source": [
    "file_names = []\n",
    "for i, file in enumerate(os.listdir(dir_path)):\n",
    "        file = dir_path + file\n",
    "        # Check if the file has a .txt extension\n",
    "        if file.endswith('.txt'):\n",
    "            file_names.append( file)"
   ]
  },
  {
   "cell_type": "code",
   "execution_count": 10,
   "id": "b82068a6-0f4f-4fc1-98f1-601f97085d71",
   "metadata": {},
   "outputs": [
    {
     "data": {
      "text/plain": [
       "['./chunks_hallinto/chunk.txt',\n",
       " './chunks_hallinto/chunk2.txt',\n",
       " './chunks_hallinto/chunk3.txt',\n",
       " './chunks_hallinto/chunk4.txt',\n",
       " './chunks_hallinto/chunk5.txt',\n",
       " './chunks_hallinto/chunk6.txt']"
      ]
     },
     "execution_count": 10,
     "metadata": {},
     "output_type": "execute_result"
    }
   ],
   "source": [
    "file_names"
   ]
  },
  {
   "cell_type": "markdown",
   "id": "f1e4bcff-8b6a-4d5d-aa1a-bf393fc82954",
   "metadata": {},
   "source": [
    "## Evaluate RAG + Vector DB"
   ]
  },
  {
   "cell_type": "markdown",
   "id": "20d73dee-7249-43e6-9721-763575f2ac0e",
   "metadata": {},
   "source": [
    "### Initialize embedcahin"
   ]
  },
  {
   "cell_type": "code",
   "execution_count": 11,
   "id": "2646b252-9e64-4adb-b077-0bfdc56304e4",
   "metadata": {},
   "outputs": [
    {
     "data": {
      "text/plain": [
       "'3e655cea63f45a0f404b6ba32ad6e35f'"
      ]
     },
     "execution_count": 11,
     "metadata": {},
     "output_type": "execute_result"
    }
   ],
   "source": [
    "app = App()\n",
    "app.add('./chunks_hallinto/chunk.txt', data_type=\"text_file\")\n",
    "app.add('./chunks_hallinto/chunk2.txt', data_type=\"text_file\")\n",
    "app.add('./chunks_hallinto/chunk3.txt', data_type=\"text_file\")\n",
    "app.add('./chunks_hallinto/chunk4.txt', data_type=\"text_file\")\n",
    "app.add('./chunks_hallinto/chunk5.txt', data_type=\"text_file\")\n",
    "app.add('./chunks_hallinto/chunk6.txt', data_type=\"text_file\")\n",
    "\n"
   ]
  },
  {
   "cell_type": "code",
   "execution_count": 12,
   "id": "5e416ba1-52e4-4c98-84cc-de22c4cdd800",
   "metadata": {},
   "outputs": [],
   "source": [
    "embedchain_results = []"
   ]
  },
  {
   "cell_type": "markdown",
   "id": "06819468-d39f-4bcd-b114-43d950066267",
   "metadata": {},
   "source": [
    "#### Analyze the inputs"
   ]
  },
  {
   "cell_type": "code",
   "execution_count": 13,
   "id": "e88319bd-d4e8-4085-8cb2-19698e0bf710",
   "metadata": {},
   "outputs": [
    {
     "data": {
      "application/vnd.jupyter.widget-view+json": {
       "model_id": "",
       "version_major": 2,
       "version_minor": 0
      },
      "text/plain": [
       "Output()"
      ]
     },
     "metadata": {},
     "output_type": "display_data"
    },
    {
     "data": {
      "text/html": [
       "<pre style=\"white-space:pre;overflow-x:auto;line-height:normal;font-family:Menlo,'DejaVu Sans Mono',consolas,'Courier New',monospace\">Event loop is already running. Applying nest_asyncio patch to allow async execution...\n",
       "</pre>\n"
      ],
      "text/plain": [
       "Event loop is already running. Applying nest_asyncio patch to allow async execution...\n"
      ]
     },
     "metadata": {},
     "output_type": "display_data"
    },
    {
     "data": {
      "text/html": [
       "<pre style=\"white-space:pre;overflow-x:auto;line-height:normal;font-family:Menlo,'DejaVu Sans Mono',consolas,'Courier New',monospace\"></pre>\n"
      ],
      "text/plain": []
     },
     "metadata": {},
     "output_type": "display_data"
    },
    {
     "name": "stdout",
     "output_type": "stream",
     "text": [
      "0.0\n",
      "The score is 0.00 because none of the statements in the retrieval context address the question of whether one can continue in a position of trust if one moves to another municipality. All statements referenced matters not relevant to the question, such as 'the authority in personnel matters when no laws or administrative regulations are established' and 'the eligibility of certain individuals to be elected into the regional council', among others.\n",
      "\n"
     ]
    },
    {
     "data": {
      "application/vnd.jupyter.widget-view+json": {
       "model_id": "",
       "version_major": 2,
       "version_minor": 0
      },
      "text/plain": [
       "Output()"
      ]
     },
     "metadata": {},
     "output_type": "display_data"
    },
    {
     "data": {
      "text/html": [
       "<pre style=\"white-space:pre;overflow-x:auto;line-height:normal;font-family:Menlo,'DejaVu Sans Mono',consolas,'Courier New',monospace\">Event loop is already running. Applying nest_asyncio patch to allow async execution...\n",
       "</pre>\n"
      ],
      "text/plain": [
       "Event loop is already running. Applying nest_asyncio patch to allow async execution...\n"
      ]
     },
     "metadata": {},
     "output_type": "display_data"
    },
    {
     "data": {
      "text/html": [
       "<pre style=\"white-space:pre;overflow-x:auto;line-height:normal;font-family:Menlo,'DejaVu Sans Mono',consolas,'Courier New',monospace\"></pre>\n"
      ],
      "text/plain": []
     },
     "metadata": {},
     "output_type": "display_data"
    },
    {
     "name": "stdout",
     "output_type": "stream",
     "text": [
      "0.0\n",
      "The score is 0.00 because the retrieval context does not contain any statements related to the input about donating unnecessary property to the university. All the statements quoted are irrelevant as they discuss topics such as roles and responsibilities of board members, eligibility rules for a regional council, and the composition of the council instead of the donation process.\n",
      "\n"
     ]
    },
    {
     "data": {
      "application/vnd.jupyter.widget-view+json": {
       "model_id": "",
       "version_major": 2,
       "version_minor": 0
      },
      "text/plain": [
       "Output()"
      ]
     },
     "metadata": {},
     "output_type": "display_data"
    },
    {
     "data": {
      "text/html": [
       "<pre style=\"white-space:pre;overflow-x:auto;line-height:normal;font-family:Menlo,'DejaVu Sans Mono',consolas,'Courier New',monospace\">Event loop is already running. Applying nest_asyncio patch to allow async execution...\n",
       "</pre>\n"
      ],
      "text/plain": [
       "Event loop is already running. Applying nest_asyncio patch to allow async execution...\n"
      ]
     },
     "metadata": {},
     "output_type": "display_data"
    },
    {
     "data": {
      "text/html": [
       "<pre style=\"white-space:pre;overflow-x:auto;line-height:normal;font-family:Menlo,'DejaVu Sans Mono',consolas,'Courier New',monospace\"></pre>\n"
      ],
      "text/plain": []
     },
     "metadata": {},
     "output_type": "display_data"
    },
    {
     "name": "stdout",
     "output_type": "stream",
     "text": [
      "0.14285714285714285\n",
      "The score is 0.14 because the retrieval context mainly contains information about different aspects of job positions, such as changing the name, qualification requirements, refilling, and reorganization, which are irrelevant to the decision on the establishment of new positions. However, it does include two statements about which bodies decide on the establishment and abolition of certain positions, which are somewhat relevant to the input query.\n",
      "\n"
     ]
    },
    {
     "data": {
      "application/vnd.jupyter.widget-view+json": {
       "model_id": "",
       "version_major": 2,
       "version_minor": 0
      },
      "text/plain": [
       "Output()"
      ]
     },
     "metadata": {},
     "output_type": "display_data"
    },
    {
     "data": {
      "text/html": [
       "<pre style=\"white-space:pre;overflow-x:auto;line-height:normal;font-family:Menlo,'DejaVu Sans Mono',consolas,'Courier New',monospace\">Event loop is already running. Applying nest_asyncio patch to allow async execution...\n",
       "</pre>\n"
      ],
      "text/plain": [
       "Event loop is already running. Applying nest_asyncio patch to allow async execution...\n"
      ]
     },
     "metadata": {},
     "output_type": "display_data"
    },
    {
     "data": {
      "text/html": [
       "<pre style=\"white-space:pre;overflow-x:auto;line-height:normal;font-family:Menlo,'DejaVu Sans Mono',consolas,'Courier New',monospace\"></pre>\n"
      ],
      "text/plain": []
     },
     "metadata": {},
     "output_type": "display_data"
    },
    {
     "name": "stdout",
     "output_type": "stream",
     "text": [
      "0.5454545454545454\n",
      "The score is 0.55 because while the retrieved context does mention 'Viran siirtämisestä toimialalta toiselle päättää hyvinvointialuejohtaja tai hänen määräämänsä viranhaltija' which is somewhat relevant to the input about decision-making process in the event of water damage, much of the context discusses unrelated topics such as 'authority in personnel matters', 'establishing and terminating positions', and 'changes in the employment relationship'.\n",
      "\n"
     ]
    },
    {
     "data": {
      "application/vnd.jupyter.widget-view+json": {
       "model_id": "",
       "version_major": 2,
       "version_minor": 0
      },
      "text/plain": [
       "Output()"
      ]
     },
     "metadata": {},
     "output_type": "display_data"
    },
    {
     "data": {
      "text/html": [
       "<pre style=\"white-space:pre;overflow-x:auto;line-height:normal;font-family:Menlo,'DejaVu Sans Mono',consolas,'Courier New',monospace\">Event loop is already running. Applying nest_asyncio patch to allow async execution...\n",
       "</pre>\n"
      ],
      "text/plain": [
       "Event loop is already running. Applying nest_asyncio patch to allow async execution...\n"
      ]
     },
     "metadata": {},
     "output_type": "display_data"
    },
    {
     "data": {
      "text/html": [
       "<pre style=\"white-space:pre;overflow-x:auto;line-height:normal;font-family:Menlo,'DejaVu Sans Mono',consolas,'Courier New',monospace\"></pre>\n"
      ],
      "text/plain": []
     },
     "metadata": {},
     "output_type": "display_data"
    },
    {
     "name": "stdout",
     "output_type": "stream",
     "text": [
      "0.07142857142857142\n",
      "The score is 0.07 because the retrieval context mainly discusses the general duties, responsibilities and roles of the regional government, which are not specifically related to the establishment of a company. Only one relevant statement was found: 'Aluehallitus päättää osakeyhtiön perustamisesta'.\n",
      "\n"
     ]
    }
   ],
   "source": [
    "\n",
    "for input in inputs:\n",
    "    answer, sources = app.query(input, citations=True)\n",
    "    source_list = []\n",
    "    for s in sources:\n",
    "        source_list.append(s[0])\n",
    "    test_case_ragV, metric_ragV = calculateContextRelevancy(answer, source_list, input)\n",
    "    embedchain_results.append((test_case_ragV, metric_ragV))"
   ]
  },
  {
   "cell_type": "code",
   "execution_count": null,
   "id": "6cd3981d-9ac5-4f71-be56-a2f4d2c0d45f",
   "metadata": {},
   "outputs": [],
   "source": []
  },
  {
   "cell_type": "markdown",
   "id": "ac5473d3-ff18-41bb-b3d7-ac63998cf48d",
   "metadata": {},
   "source": [
    "## Evaluate RagBERT"
   ]
  },
  {
   "cell_type": "code",
   "execution_count": 15,
   "id": "abfaf382-01e0-4164-af51-b4d903de6a65",
   "metadata": {},
   "outputs": [],
   "source": [
    "from RAGBERT import RagBERT"
   ]
  },
  {
   "cell_type": "code",
   "execution_count": 16,
   "id": "6e5f2fac-d61a-4a06-9dae-1d2c5d038e42",
   "metadata": {},
   "outputs": [
    {
     "name": "stderr",
     "output_type": "stream",
     "text": [
      "Device set to use cuda:0\n"
     ]
    }
   ],
   "source": [
    "bert_model = \"distil_bert_fine_chunk_hallinto_classifier-v2\"\n",
    "classifier = pipeline(\"text-classification\", model=bert_model)"
   ]
  },
  {
   "cell_type": "code",
   "execution_count": 17,
   "id": "50e6c3e5-4296-4781-8b8a-519270abc360",
   "metadata": {},
   "outputs": [],
   "source": [
    "ragbert_results = []"
   ]
  },
  {
   "cell_type": "code",
   "execution_count": 18,
   "id": "303240d3-bc27-457d-8067-0840476cb084",
   "metadata": {},
   "outputs": [],
   "source": [
    "chunk_map = [{'label':'LABEL_0', 'file':'chunk.txt'},\n",
    "                 {'label':'LABEL_1', 'file':'chunk2.txt'},\n",
    "                 {'label':'LABEL_2', 'file':'chunk3.txt'},\n",
    "                 {'label':'LABEL_3', 'file':'chunk4.txt'},\n",
    "                 {'label':'LABEL_4', 'file':'chunk5.txt'},\n",
    "                 {'label':'LABEL_5', 'file':'chunk6.txt'}]"
   ]
  },
  {
   "cell_type": "code",
   "execution_count": null,
   "id": "8538d8d5-4918-46e4-aa60-3a3d7698110c",
   "metadata": {},
   "outputs": [],
   "source": []
  },
  {
   "cell_type": "code",
   "execution_count": 19,
   "id": "0eb9fcd6-db07-46d6-9f18-e9e6932da25e",
   "metadata": {
    "scrolled": true
   },
   "outputs": [
    {
     "name": "stderr",
     "output_type": "stream",
     "text": [
      "C:\\Users\\amiri\\anaconda3\\envs\\RagBERT\\Lib\\site-packages\\transformers\\pipelines\\text_classification.py:106: UserWarning: `return_all_scores` is now deprecated,  if want a similar functionality use `top_k=None` instead of `return_all_scores=True` or `top_k=1` instead of `return_all_scores=False`.\n",
      "  warnings.warn(\n"
     ]
    },
    {
     "name": "stdout",
     "output_type": "stream",
     "text": [
      "[[{'label': 'LABEL_0', 'score': 0.7795916199684143}, {'label': 'LABEL_1', 'score': 0.03009897656738758}, {'label': 'LABEL_2', 'score': 0.09950163960456848}, {'label': 'LABEL_3', 'score': 0.03744695708155632}, {'label': 'LABEL_4', 'score': 0.03293641656637192}, {'label': 'LABEL_5', 'score': 0.020424384623765945}]]\n",
      "LABEL_0 [{'label': 'LABEL_0', 'file': 'chunk.txt'}]\n",
      "[{'label': 'LABEL_0', 'file': 'chunk.txt'}, {'label': 'LABEL_1', 'file': 'chunk2.txt'}, {'label': 'LABEL_2', 'file': 'chunk3.txt'}, {'label': 'LABEL_3', 'file': 'chunk4.txt'}, {'label': 'LABEL_4', 'file': 'chunk5.txt'}, {'label': 'LABEL_5', 'file': 'chunk6.txt'}]\n",
      "final_query:  \n",
      "    \n",
      "        76 Â§\n",
      "Yleinen vaalikelpoisuus\n",
      "Vaalikelpoinen hyvinvointialueen luottamustoimeen on henkilÃ¶:\n",
      "\n",
      "1)â€‚joka on kyseisen hyvinvointialueen asukas;\n",
      "\n",
      "2)â€‚jolla on jollakin hyvinvointialueella Ã¤Ã¤nioikeus aluevaaleissa sinÃ¤ vuonna, jona valtuutetut valitaan tai vaali muuhun luottamustoimeen toimitetaan; ja\n",
      "\n",
      "3)â€‚jota ei ole julistettu vajaavaltaiseksi.\n",
      "\n",
      "77 Â§\n",
      "Vaalikelpoisuus aluevaltuustoon\n",
      "Vaalikelpoinen aluevaltuustoon ei ole:\n",
      "\n",
      "1)â€‚valtion virkamies, joka hoitaa vÃ¤littÃ¶mÃ¤sti hyvinvointialuetta koskevia valvontatehtÃ¤viÃ¤;\n",
      "\n",
      "2)â€‚hyvinvointialueen palveluksessa oleva henkilÃ¶, joka toimii aluehallituksen tai lautakunnan tehtÃ¤vÃ¤alueen tai hyvinvointialueen liikelaitoksen johtavassa tehtÃ¤vÃ¤ssÃ¤ tai sellaiseen rinnastettavassa vastuullisessa tehtÃ¤vÃ¤ssÃ¤;\n",
      "\n",
      "3)â€‚hyvinvointialueen mÃ¤Ã¤rÃ¤ysvallassa olevan yhteisÃ¶n tai sÃ¤Ã¤tiÃ¶n palveluksessa oleva henkilÃ¶, joka asemaltaan voidaan rinnastaa 2 kohdassa tarkoitettuun hyvinvointialueen palveluksessa olevaan henkilÃ¶Ã¶n;\n",
      "\n",
      "4)â€‚hyvinvointiyhtymÃ¤n jÃ¤senenÃ¤ olevan hyvinvointialueen aluevaltuuston osalta hyvinvointiyhtymÃ¤n palveluksessa oleva henkilÃ¶, joka asemaltaan voidaan rinnastaa 2 kohdassa tarkoitettuun hyvinvointialueen palveluksessa olevaan henkilÃ¶Ã¶n.\n",
      "\n",
      "EdellÃ¤ 1 momentissa tarkoitetussa palvelussuhteessa oleva on kuitenkin vaalikelpoinen valtuutetuksi, jos palvelussuhde pÃ¤Ã¤ttyy ennen kuin valtuutettujen toimikausi alkaa.\n",
      "\n",
      "78 Â§\n",
      "Vaalikelpoisuus aluehallitukseen\n",
      "Vaalikelpoinen aluehallitukseen on henkilÃ¶, joka on vaalikelpoinen aluevaltuustoon, ei kuitenkaan:\n",
      "\n",
      "1)â€‚vÃ¤littÃ¶mÃ¤sti aluehallituksen alaisena toimiva hyvinvointialueen palveluksessa oleva henkilÃ¶;\n",
      "\n",
      "2)â€‚hyvinvointialueen mÃ¤Ã¤rÃ¤ysvallassa olevan yhteisÃ¶n tai sÃ¤Ã¤tiÃ¶n palveluksessa oleva henkilÃ¶, joka toimii 1 kohdassa tarkoitettuun tehtÃ¤vÃ¤Ã¤n rinnastuvassa tehtÃ¤vÃ¤ssÃ¤;\n",
      "\n",
      "3)â€‚hyvinvointialueen palveluksessa oleva henkilÃ¶, joka lautakunnan esittelijÃ¤nÃ¤ tai muuten vastaa aluehallituksen kÃ¤siteltÃ¤viksi tulevien asioiden valmistelusta;\n",
      "\n",
      "4)â€‚henkilÃ¶, joka on hallituksen tai siihen rinnastettavan toimielimen jÃ¤senenÃ¤ taikka johtavassa ja vastuullisessa tehtÃ¤vÃ¤ssÃ¤ tai siihen rinnastettavassa asemassa liiketoimintaa harjoittavassa yhteisÃ¶ssÃ¤ tai sÃ¤Ã¤tiÃ¶ssÃ¤, jos kysymyksessÃ¤ on sellainen yhteisÃ¶, jolle aluehallituksessa tavanomaisesti kÃ¤siteltÃ¤vien asioiden ratkaisu on omiaan tuottamaan olennaista hyÃ¶tyÃ¤ tai vahinkoa.\n",
      "\n",
      "HenkilÃ¶stÃ¶n edunvalvonnasta asianomaisella hyvinvointialueella huolehtivan yhteisÃ¶n hallituksen tai siihen rinnastettavan toimielimen puheenjohtaja ei ole vaalikelpoinen aluehallitukseen. Vaalikelpoinen ei myÃ¶skÃ¤Ã¤n ole henkilÃ¶, joka yhteisÃ¶n neuvottelijana tai muussa vastaavassa ominaisuudessa vastaa sen edunvalvonnasta.\n",
      "\n",
      "EnemmistÃ¶n aluehallituksen jÃ¤senistÃ¤ on oltava muita kuin hyvinvointialueen tai hyvinvointialueen mÃ¤Ã¤rÃ¤ysvallassa olevan yhteisÃ¶n tai sÃ¤Ã¤tiÃ¶n palveluksessa olevia henkilÃ¶itÃ¤.\n",
      "\n",
      "EdellÃ¤ 1 momentin 4 kohtaa ei sovelleta hyvinvointialueen mÃ¤Ã¤rÃ¤ysvallassa olevan yhteisÃ¶n hallituksen tai siihen rinnastettavan toimielimen jÃ¤seneen.\n",
      "        \n",
      "        \n",
      "\n",
      "    Voiko luottamustehtävässä edelleen olla, jos muuttaa toiselle paikkakunnalle (answer IN FINNISH)?\n",
      "    \n"
     ]
    },
    {
     "data": {
      "application/vnd.jupyter.widget-view+json": {
       "model_id": "",
       "version_major": 2,
       "version_minor": 0
      },
      "text/plain": [
       "Output()"
      ]
     },
     "metadata": {},
     "output_type": "display_data"
    },
    {
     "data": {
      "text/html": [
       "<pre style=\"white-space:pre;overflow-x:auto;line-height:normal;font-family:Menlo,'DejaVu Sans Mono',consolas,'Courier New',monospace\">Event loop is already running. Applying nest_asyncio patch to allow async execution...\n",
       "</pre>\n"
      ],
      "text/plain": [
       "Event loop is already running. Applying nest_asyncio patch to allow async execution...\n"
      ]
     },
     "metadata": {},
     "output_type": "display_data"
    },
    {
     "data": {
      "text/html": [
       "<pre style=\"white-space:pre;overflow-x:auto;line-height:normal;font-family:Menlo,'DejaVu Sans Mono',consolas,'Courier New',monospace\"></pre>\n"
      ],
      "text/plain": []
     },
     "metadata": {},
     "output_type": "display_data"
    },
    {
     "name": "stdout",
     "output_type": "stream",
     "text": [
      "1.0\n",
      "The score is 1.00 because the retrieval context is directly relevant to the input, as evidenced by the statement 'Vaalikelpoinen hyvinvointialueen luottamustoimeen on henkilÃ¶: 1)â€‚joka on kyseisen hyvinvointialueen asukas.' and there are no stated reasons for irrelevancy.\n",
      "\n",
      "[[{'label': 'LABEL_0', 'score': 0.02966916188597679}, {'label': 'LABEL_1', 'score': 0.006383607164025307}, {'label': 'LABEL_2', 'score': 0.9290233254432678}, {'label': 'LABEL_3', 'score': 0.012153920717537403}, {'label': 'LABEL_4', 'score': 0.011851023882627487}, {'label': 'LABEL_5', 'score': 0.01091888826340437}]]\n",
      "LABEL_2 [{'label': 'LABEL_2', 'file': 'chunk3.txt'}]\n",
      "[{'label': 'LABEL_0', 'file': 'chunk.txt'}, {'label': 'LABEL_1', 'file': 'chunk2.txt'}, {'label': 'LABEL_2', 'file': 'chunk3.txt'}, {'label': 'LABEL_3', 'file': 'chunk4.txt'}, {'label': 'LABEL_4', 'file': 'chunk5.txt'}, {'label': 'LABEL_5', 'file': 'chunk6.txt'}]\n",
      "final_query:  \n",
      "    \n",
      "        50 Â§ Toimivalta henkilÃ¶stÃ¶asioissa\n",
      "MikÃ¤li toimivallasta henkilÃ¶stÃ¶asioissa ei ole sÃ¤Ã¤detty laissa eikÃ¤ mÃ¤Ã¤rÃ¤tty hallintosÃ¤Ã¤nnÃ¶ssÃ¤, toimivalta on hyvinvointialuejohtajalla.\n",
      "51 Â§ Viran perustaminen ja lakkauttaminen sekÃ¤ viran kelpoisuusvaatimukset ja\n",
      "nimikkeen muuttaminen\n",
      "Aluevaltuusto pÃ¤Ã¤ttÃ¤Ã¤ hyvinvointialuejohtajan ja toimialajohtajien virkojen perustamisesta ja lakkauttamisesta sekÃ¤ virkanimikkeen muuttamisesta.\n",
      "Aluehallitus pÃ¤Ã¤ttÃ¤Ã¤ muiden virkojen perustamisesta ja lakkauttamisesta. Virkanimikkeen muuttamisesta pÃ¤Ã¤ttÃ¤Ã¤ hyvinvointialuejohtaja.\n",
      "Viran kelpoisuusvaatimusten muuttamisesta pÃ¤Ã¤ttÃ¤Ã¤ toimialajohtaja alaistensa\n",
      "viranhaltijoiden osalta ottaen huomioon, mitÃ¤ erikseen on sÃ¤Ã¤detty tai mÃ¤Ã¤rÃ¤tty.\n",
      "Hyvinvointialuejohtajan viran kelpoisuusvaatimuksista pÃ¤Ã¤ttÃ¤Ã¤ aluevaltuusto.\n",
      "Muiden virkojen kelpoisuusvaatimuksista pÃ¤Ã¤tetÃ¤Ã¤n virkaa perustettaessa.\n",
      "Pelastuslautakunta pÃ¤Ã¤ttÃ¤Ã¤ pelastuslaitosta koskevat asiat 25 Â§:n mukaisesti.\n",
      "52 Â§ Palvelussuhdetta koskevat muutokset\n",
      "Palvelussuhdetta koskevista muutoksista mukaan lukien virkasuhteen muuttaminen tyÃ¶suhteeksi, palvelussuhteen muuttaminen osa-aikaiseksi, viranhaltijan virantoimitusvelvollisuuden muuttaminen ja viranhaltijan siirtÃ¤minen toiseen virkasuhteeseen pÃ¤Ã¤ttÃ¤Ã¤ palvelussuhteeseen ottava viranomainen.\n",
      "53 Â§ Siirrot\n",
      "Viran siirtÃ¤misestÃ¤ toimialalta toiselle pÃ¤Ã¤ttÃ¤Ã¤ hyvinvointialuejohtaja tai hÃ¤nen\n",
      "mÃ¤Ã¤rÃ¤Ã¤mÃ¤nsÃ¤ viranhaltija.\n",
      "Kuitenkin mikÃ¤li aluevaltuusto tai aluehallitus tai pelastuslautakunta pÃ¤Ã¤ttÃ¤Ã¤ viran\n",
      "tÃ¤yttÃ¤misestÃ¤, aluevaltuusto ja vastaavasti aluehallitus ja pelastuslautakunta\n",
      "myÃ¶s pÃ¤Ã¤ttÃ¤Ã¤ viran siirtÃ¤misestÃ¤.\n",
      "54 Â§ Viran haettavaksi julistaminen\n",
      "Viran julistaa haettavaksi valinnasta pÃ¤Ã¤ttÃ¤vÃ¤ toimielin tai viranhaltija. Viran julistaa kuitenkin haettavaksi aluehallitus, kun valinnasta pÃ¤Ã¤ttÃ¤vÃ¤ viranomainen on\n",
      "aluevaltuusto. Kunnan ja hyvinvointialueen viranhaltijasta annetun lain 4 Â§:n 3\n",
      "momentissa sÃ¤Ã¤detyn lisÃ¤ksi henkilÃ¶ voidaan ottaa ilman julkista hakumenettelyÃ¤\n",
      "sellaiseen virkasuhteeseen:\n",
      "Vantaan ja Keravan hyvinvointialueen hallintosÃ¤Ã¤ntÃ¶ Sivu 49\n",
      "1. jossa on kyseessÃ¤ viran mÃ¤Ã¤rÃ¤aikainen tÃ¤yttÃ¶;\n",
      "2. jossa on kyseessÃ¤ viran uudelleen tÃ¤yttÃ¤minen sitÃ¤ aikaisemmin hakeneiden, asianomaiset kelpoisuusvaatimukset tÃ¤yttÃ¤vien joukosta virkaan valitun irtisanouduttua ennen hÃ¤nelle mÃ¤Ã¤rÃ¤ttyÃ¤ virantoimituksen aloittamispÃ¤ivÃ¤Ã¤ tai ilmoitettua, ettei ota virkaa vastaan tai siitÃ¤ syystÃ¤, ettÃ¤ virkasuhde\n",
      "puretaan koeaikana, taikka siitÃ¤ syystÃ¤, ettÃ¤ virkaan ottamista koskeva\n",
      "pÃ¤Ã¤tÃ¶s on lainvoimaisella pÃ¤Ã¤tÃ¶ksellÃ¤ kumottu ja asia palautettu uudelleen\n",
      "kÃ¤siteltÃ¤vÃ¤ksi;\n",
      "3. jossa kyseessÃ¤ on hyvinvointialueen sellaisen entisen viranhaltijan valitseminen, joka saa julkisten alojen elÃ¤kelaissa tarkoitettua tyÃ¶kyvyttÃ¶myyselÃ¤kettÃ¤ ja joka ennen elÃ¤keiÃ¤n saavuttamista todetaan ansiotyÃ¶hÃ¶n kykenevÃ¤ksi;\n",
      "4. johon Vantaan ja Keravan hyvinvointialue on hÃ¤net kouluttanut tai johon\n",
      "vaadittavaa pÃ¤tevÃ¶itymiskoulutusta hyvinvointialue on tukenut ja jonka kelpoisuusvaatimukset henkilÃ¶ tÃ¤yttÃ¤Ã¤,\n",
      "5. johon henkilÃ¶ on tarkoituksenmukaista ottaa hÃ¤nen palvelussuhdettaan\n",
      "koskevien uudelleen jÃ¤rjestelyjen vuoksi;\n",
      "6. muu edellÃ¤ mainittuihin verrattava, hyvÃ¤ksyttÃ¤vÃ¤ syy.\n",
      "\n",
      "        \n",
      "        \n",
      "\n",
      "    Voidaanko turhaa irtaimistoa lahjoittaa yliopistolle ja kuka päättää irtaimiston lahjoittamisesta (answer IN FINNISH)?\n",
      "    \n"
     ]
    },
    {
     "name": "stderr",
     "output_type": "stream",
     "text": [
      "C:\\Users\\amiri\\anaconda3\\envs\\RagBERT\\Lib\\site-packages\\transformers\\pipelines\\text_classification.py:106: UserWarning: `return_all_scores` is now deprecated,  if want a similar functionality use `top_k=None` instead of `return_all_scores=True` or `top_k=1` instead of `return_all_scores=False`.\n",
      "  warnings.warn(\n"
     ]
    },
    {
     "data": {
      "application/vnd.jupyter.widget-view+json": {
       "model_id": "",
       "version_major": 2,
       "version_minor": 0
      },
      "text/plain": [
       "Output()"
      ]
     },
     "metadata": {},
     "output_type": "display_data"
    },
    {
     "data": {
      "text/html": [
       "<pre style=\"white-space:pre;overflow-x:auto;line-height:normal;font-family:Menlo,'DejaVu Sans Mono',consolas,'Courier New',monospace\">Event loop is already running. Applying nest_asyncio patch to allow async execution...\n",
       "</pre>\n"
      ],
      "text/plain": [
       "Event loop is already running. Applying nest_asyncio patch to allow async execution...\n"
      ]
     },
     "metadata": {},
     "output_type": "display_data"
    },
    {
     "data": {
      "text/html": [
       "<pre style=\"white-space:pre;overflow-x:auto;line-height:normal;font-family:Menlo,'DejaVu Sans Mono',consolas,'Courier New',monospace\"></pre>\n"
      ],
      "text/plain": []
     },
     "metadata": {},
     "output_type": "display_data"
    },
    {
     "name": "stdout",
     "output_type": "stream",
     "text": [
      "0.0\n",
      "The score is 0.00 because all statements in the retrieval context are about various personnel and post related matters, and none of them are about donating unnecessary property to the university, as required by the input.\n",
      "\n",
      "[[{'label': 'LABEL_0', 'score': 0.002337086945772171}, {'label': 'LABEL_1', 'score': 0.0011278341989964247}, {'label': 'LABEL_2', 'score': 0.9913187623023987}, {'label': 'LABEL_3', 'score': 0.0021168228704482317}, {'label': 'LABEL_4', 'score': 0.0013927258551120758}, {'label': 'LABEL_5', 'score': 0.0017067393055185676}]]\n",
      "LABEL_2 [{'label': 'LABEL_2', 'file': 'chunk3.txt'}]\n",
      "[{'label': 'LABEL_0', 'file': 'chunk.txt'}, {'label': 'LABEL_1', 'file': 'chunk2.txt'}, {'label': 'LABEL_2', 'file': 'chunk3.txt'}, {'label': 'LABEL_3', 'file': 'chunk4.txt'}, {'label': 'LABEL_4', 'file': 'chunk5.txt'}, {'label': 'LABEL_5', 'file': 'chunk6.txt'}]\n",
      "final_query:  \n",
      "    \n",
      "        50 Â§ Toimivalta henkilÃ¶stÃ¶asioissa\n",
      "MikÃ¤li toimivallasta henkilÃ¶stÃ¶asioissa ei ole sÃ¤Ã¤detty laissa eikÃ¤ mÃ¤Ã¤rÃ¤tty hallintosÃ¤Ã¤nnÃ¶ssÃ¤, toimivalta on hyvinvointialuejohtajalla.\n",
      "51 Â§ Viran perustaminen ja lakkauttaminen sekÃ¤ viran kelpoisuusvaatimukset ja\n",
      "nimikkeen muuttaminen\n",
      "Aluevaltuusto pÃ¤Ã¤ttÃ¤Ã¤ hyvinvointialuejohtajan ja toimialajohtajien virkojen perustamisesta ja lakkauttamisesta sekÃ¤ virkanimikkeen muuttamisesta.\n",
      "Aluehallitus pÃ¤Ã¤ttÃ¤Ã¤ muiden virkojen perustamisesta ja lakkauttamisesta. Virkanimikkeen muuttamisesta pÃ¤Ã¤ttÃ¤Ã¤ hyvinvointialuejohtaja.\n",
      "Viran kelpoisuusvaatimusten muuttamisesta pÃ¤Ã¤ttÃ¤Ã¤ toimialajohtaja alaistensa\n",
      "viranhaltijoiden osalta ottaen huomioon, mitÃ¤ erikseen on sÃ¤Ã¤detty tai mÃ¤Ã¤rÃ¤tty.\n",
      "Hyvinvointialuejohtajan viran kelpoisuusvaatimuksista pÃ¤Ã¤ttÃ¤Ã¤ aluevaltuusto.\n",
      "Muiden virkojen kelpoisuusvaatimuksista pÃ¤Ã¤tetÃ¤Ã¤n virkaa perustettaessa.\n",
      "Pelastuslautakunta pÃ¤Ã¤ttÃ¤Ã¤ pelastuslaitosta koskevat asiat 25 Â§:n mukaisesti.\n",
      "52 Â§ Palvelussuhdetta koskevat muutokset\n",
      "Palvelussuhdetta koskevista muutoksista mukaan lukien virkasuhteen muuttaminen tyÃ¶suhteeksi, palvelussuhteen muuttaminen osa-aikaiseksi, viranhaltijan virantoimitusvelvollisuuden muuttaminen ja viranhaltijan siirtÃ¤minen toiseen virkasuhteeseen pÃ¤Ã¤ttÃ¤Ã¤ palvelussuhteeseen ottava viranomainen.\n",
      "53 Â§ Siirrot\n",
      "Viran siirtÃ¤misestÃ¤ toimialalta toiselle pÃ¤Ã¤ttÃ¤Ã¤ hyvinvointialuejohtaja tai hÃ¤nen\n",
      "mÃ¤Ã¤rÃ¤Ã¤mÃ¤nsÃ¤ viranhaltija.\n",
      "Kuitenkin mikÃ¤li aluevaltuusto tai aluehallitus tai pelastuslautakunta pÃ¤Ã¤ttÃ¤Ã¤ viran\n",
      "tÃ¤yttÃ¤misestÃ¤, aluevaltuusto ja vastaavasti aluehallitus ja pelastuslautakunta\n",
      "myÃ¶s pÃ¤Ã¤ttÃ¤Ã¤ viran siirtÃ¤misestÃ¤.\n",
      "54 Â§ Viran haettavaksi julistaminen\n",
      "Viran julistaa haettavaksi valinnasta pÃ¤Ã¤ttÃ¤vÃ¤ toimielin tai viranhaltija. Viran julistaa kuitenkin haettavaksi aluehallitus, kun valinnasta pÃ¤Ã¤ttÃ¤vÃ¤ viranomainen on\n",
      "aluevaltuusto. Kunnan ja hyvinvointialueen viranhaltijasta annetun lain 4 Â§:n 3\n",
      "momentissa sÃ¤Ã¤detyn lisÃ¤ksi henkilÃ¶ voidaan ottaa ilman julkista hakumenettelyÃ¤\n",
      "sellaiseen virkasuhteeseen:\n",
      "Vantaan ja Keravan hyvinvointialueen hallintosÃ¤Ã¤ntÃ¶ Sivu 49\n",
      "1. jossa on kyseessÃ¤ viran mÃ¤Ã¤rÃ¤aikainen tÃ¤yttÃ¶;\n",
      "2. jossa on kyseessÃ¤ viran uudelleen tÃ¤yttÃ¤minen sitÃ¤ aikaisemmin hakeneiden, asianomaiset kelpoisuusvaatimukset tÃ¤yttÃ¤vien joukosta virkaan valitun irtisanouduttua ennen hÃ¤nelle mÃ¤Ã¤rÃ¤ttyÃ¤ virantoimituksen aloittamispÃ¤ivÃ¤Ã¤ tai ilmoitettua, ettei ota virkaa vastaan tai siitÃ¤ syystÃ¤, ettÃ¤ virkasuhde\n",
      "puretaan koeaikana, taikka siitÃ¤ syystÃ¤, ettÃ¤ virkaan ottamista koskeva\n",
      "pÃ¤Ã¤tÃ¶s on lainvoimaisella pÃ¤Ã¤tÃ¶ksellÃ¤ kumottu ja asia palautettu uudelleen\n",
      "kÃ¤siteltÃ¤vÃ¤ksi;\n",
      "3. jossa kyseessÃ¤ on hyvinvointialueen sellaisen entisen viranhaltijan valitseminen, joka saa julkisten alojen elÃ¤kelaissa tarkoitettua tyÃ¶kyvyttÃ¶myyselÃ¤kettÃ¤ ja joka ennen elÃ¤keiÃ¤n saavuttamista todetaan ansiotyÃ¶hÃ¶n kykenevÃ¤ksi;\n",
      "4. johon Vantaan ja Keravan hyvinvointialue on hÃ¤net kouluttanut tai johon\n",
      "vaadittavaa pÃ¤tevÃ¶itymiskoulutusta hyvinvointialue on tukenut ja jonka kelpoisuusvaatimukset henkilÃ¶ tÃ¤yttÃ¤Ã¤,\n",
      "5. johon henkilÃ¶ on tarkoituksenmukaista ottaa hÃ¤nen palvelussuhdettaan\n",
      "koskevien uudelleen jÃ¤rjestelyjen vuoksi;\n",
      "6. muu edellÃ¤ mainittuihin verrattava, hyvÃ¤ksyttÃ¤vÃ¤ syy.\n",
      "\n",
      "        \n",
      "        \n",
      "\n",
      "    Kuka päättää uusien virkojen perustamisesta (answer IN FINNISH)?\n",
      "    \n"
     ]
    },
    {
     "name": "stderr",
     "output_type": "stream",
     "text": [
      "C:\\Users\\amiri\\anaconda3\\envs\\RagBERT\\Lib\\site-packages\\transformers\\pipelines\\text_classification.py:106: UserWarning: `return_all_scores` is now deprecated,  if want a similar functionality use `top_k=None` instead of `return_all_scores=True` or `top_k=1` instead of `return_all_scores=False`.\n",
      "  warnings.warn(\n"
     ]
    },
    {
     "data": {
      "application/vnd.jupyter.widget-view+json": {
       "model_id": "",
       "version_major": 2,
       "version_minor": 0
      },
      "text/plain": [
       "Output()"
      ]
     },
     "metadata": {},
     "output_type": "display_data"
    },
    {
     "data": {
      "text/html": [
       "<pre style=\"white-space:pre;overflow-x:auto;line-height:normal;font-family:Menlo,'DejaVu Sans Mono',consolas,'Courier New',monospace\">Event loop is already running. Applying nest_asyncio patch to allow async execution...\n",
       "</pre>\n"
      ],
      "text/plain": [
       "Event loop is already running. Applying nest_asyncio patch to allow async execution...\n"
      ]
     },
     "metadata": {},
     "output_type": "display_data"
    },
    {
     "data": {
      "text/html": [
       "<pre style=\"white-space:pre;overflow-x:auto;line-height:normal;font-family:Menlo,'DejaVu Sans Mono',consolas,'Courier New',monospace\"></pre>\n"
      ],
      "text/plain": []
     },
     "metadata": {},
     "output_type": "display_data"
    },
    {
     "name": "stdout",
     "output_type": "stream",
     "text": [
      "1.0\n",
      "The score is 1.00 because there are no irrelevant statements listed and the relevant statements directly answer the question about who decides on the establishment of new positions, in Finnish.\n",
      "\n",
      "[[{'label': 'LABEL_0', 'score': 0.05718198046088219}, {'label': 'LABEL_1', 'score': 0.013595126569271088}, {'label': 'LABEL_2', 'score': 0.7902374267578125}, {'label': 'LABEL_3', 'score': 0.0677618458867073}, {'label': 'LABEL_4', 'score': 0.04866572842001915}, {'label': 'LABEL_5', 'score': 0.022558031603693962}]]\n",
      "LABEL_2 [{'label': 'LABEL_2', 'file': 'chunk3.txt'}]\n",
      "[{'label': 'LABEL_0', 'file': 'chunk.txt'}, {'label': 'LABEL_1', 'file': 'chunk2.txt'}, {'label': 'LABEL_2', 'file': 'chunk3.txt'}, {'label': 'LABEL_3', 'file': 'chunk4.txt'}, {'label': 'LABEL_4', 'file': 'chunk5.txt'}, {'label': 'LABEL_5', 'file': 'chunk6.txt'}]\n",
      "final_query:  \n",
      "    \n",
      "        50 Â§ Toimivalta henkilÃ¶stÃ¶asioissa\n",
      "MikÃ¤li toimivallasta henkilÃ¶stÃ¶asioissa ei ole sÃ¤Ã¤detty laissa eikÃ¤ mÃ¤Ã¤rÃ¤tty hallintosÃ¤Ã¤nnÃ¶ssÃ¤, toimivalta on hyvinvointialuejohtajalla.\n",
      "51 Â§ Viran perustaminen ja lakkauttaminen sekÃ¤ viran kelpoisuusvaatimukset ja\n",
      "nimikkeen muuttaminen\n",
      "Aluevaltuusto pÃ¤Ã¤ttÃ¤Ã¤ hyvinvointialuejohtajan ja toimialajohtajien virkojen perustamisesta ja lakkauttamisesta sekÃ¤ virkanimikkeen muuttamisesta.\n",
      "Aluehallitus pÃ¤Ã¤ttÃ¤Ã¤ muiden virkojen perustamisesta ja lakkauttamisesta. Virkanimikkeen muuttamisesta pÃ¤Ã¤ttÃ¤Ã¤ hyvinvointialuejohtaja.\n",
      "Viran kelpoisuusvaatimusten muuttamisesta pÃ¤Ã¤ttÃ¤Ã¤ toimialajohtaja alaistensa\n",
      "viranhaltijoiden osalta ottaen huomioon, mitÃ¤ erikseen on sÃ¤Ã¤detty tai mÃ¤Ã¤rÃ¤tty.\n",
      "Hyvinvointialuejohtajan viran kelpoisuusvaatimuksista pÃ¤Ã¤ttÃ¤Ã¤ aluevaltuusto.\n",
      "Muiden virkojen kelpoisuusvaatimuksista pÃ¤Ã¤tetÃ¤Ã¤n virkaa perustettaessa.\n",
      "Pelastuslautakunta pÃ¤Ã¤ttÃ¤Ã¤ pelastuslaitosta koskevat asiat 25 Â§:n mukaisesti.\n",
      "52 Â§ Palvelussuhdetta koskevat muutokset\n",
      "Palvelussuhdetta koskevista muutoksista mukaan lukien virkasuhteen muuttaminen tyÃ¶suhteeksi, palvelussuhteen muuttaminen osa-aikaiseksi, viranhaltijan virantoimitusvelvollisuuden muuttaminen ja viranhaltijan siirtÃ¤minen toiseen virkasuhteeseen pÃ¤Ã¤ttÃ¤Ã¤ palvelussuhteeseen ottava viranomainen.\n",
      "53 Â§ Siirrot\n",
      "Viran siirtÃ¤misestÃ¤ toimialalta toiselle pÃ¤Ã¤ttÃ¤Ã¤ hyvinvointialuejohtaja tai hÃ¤nen\n",
      "mÃ¤Ã¤rÃ¤Ã¤mÃ¤nsÃ¤ viranhaltija.\n",
      "Kuitenkin mikÃ¤li aluevaltuusto tai aluehallitus tai pelastuslautakunta pÃ¤Ã¤ttÃ¤Ã¤ viran\n",
      "tÃ¤yttÃ¤misestÃ¤, aluevaltuusto ja vastaavasti aluehallitus ja pelastuslautakunta\n",
      "myÃ¶s pÃ¤Ã¤ttÃ¤Ã¤ viran siirtÃ¤misestÃ¤.\n",
      "54 Â§ Viran haettavaksi julistaminen\n",
      "Viran julistaa haettavaksi valinnasta pÃ¤Ã¤ttÃ¤vÃ¤ toimielin tai viranhaltija. Viran julistaa kuitenkin haettavaksi aluehallitus, kun valinnasta pÃ¤Ã¤ttÃ¤vÃ¤ viranomainen on\n",
      "aluevaltuusto. Kunnan ja hyvinvointialueen viranhaltijasta annetun lain 4 Â§:n 3\n",
      "momentissa sÃ¤Ã¤detyn lisÃ¤ksi henkilÃ¶ voidaan ottaa ilman julkista hakumenettelyÃ¤\n",
      "sellaiseen virkasuhteeseen:\n",
      "Vantaan ja Keravan hyvinvointialueen hallintosÃ¤Ã¤ntÃ¶ Sivu 49\n",
      "1. jossa on kyseessÃ¤ viran mÃ¤Ã¤rÃ¤aikainen tÃ¤yttÃ¶;\n",
      "2. jossa on kyseessÃ¤ viran uudelleen tÃ¤yttÃ¤minen sitÃ¤ aikaisemmin hakeneiden, asianomaiset kelpoisuusvaatimukset tÃ¤yttÃ¤vien joukosta virkaan valitun irtisanouduttua ennen hÃ¤nelle mÃ¤Ã¤rÃ¤ttyÃ¤ virantoimituksen aloittamispÃ¤ivÃ¤Ã¤ tai ilmoitettua, ettei ota virkaa vastaan tai siitÃ¤ syystÃ¤, ettÃ¤ virkasuhde\n",
      "puretaan koeaikana, taikka siitÃ¤ syystÃ¤, ettÃ¤ virkaan ottamista koskeva\n",
      "pÃ¤Ã¤tÃ¶s on lainvoimaisella pÃ¤Ã¤tÃ¶ksellÃ¤ kumottu ja asia palautettu uudelleen\n",
      "kÃ¤siteltÃ¤vÃ¤ksi;\n",
      "3. jossa kyseessÃ¤ on hyvinvointialueen sellaisen entisen viranhaltijan valitseminen, joka saa julkisten alojen elÃ¤kelaissa tarkoitettua tyÃ¶kyvyttÃ¶myyselÃ¤kettÃ¤ ja joka ennen elÃ¤keiÃ¤n saavuttamista todetaan ansiotyÃ¶hÃ¶n kykenevÃ¤ksi;\n",
      "4. johon Vantaan ja Keravan hyvinvointialue on hÃ¤net kouluttanut tai johon\n",
      "vaadittavaa pÃ¤tevÃ¶itymiskoulutusta hyvinvointialue on tukenut ja jonka kelpoisuusvaatimukset henkilÃ¶ tÃ¤yttÃ¤Ã¤,\n",
      "5. johon henkilÃ¶ on tarkoituksenmukaista ottaa hÃ¤nen palvelussuhdettaan\n",
      "koskevien uudelleen jÃ¤rjestelyjen vuoksi;\n",
      "6. muu edellÃ¤ mainittuihin verrattava, hyvÃ¤ksyttÃ¤vÃ¤ syy.\n",
      "\n",
      "        \n",
      "        \n",
      "\n",
      "    Mikäli toimipisteessä sattuu vesivahinko, jonka myötä toiminta\n",
      "         tulee siirtää muualle, kuka päättää toimipisteen siirrosta, mikäli\n",
      "         asiasta on jo tehty viranhaltijapäätös kahdelle kuukaudelle, mutta\n",
      "         alkuperäisessä toimipisteessä olevien laajojen ongelmien vuoksi,\n",
      "         toimintaa joudutaan edelleen jatkamaan toisessa toimipisteessä (answer IN FINNISH)?\n",
      "    \n"
     ]
    },
    {
     "name": "stderr",
     "output_type": "stream",
     "text": [
      "C:\\Users\\amiri\\anaconda3\\envs\\RagBERT\\Lib\\site-packages\\transformers\\pipelines\\text_classification.py:106: UserWarning: `return_all_scores` is now deprecated,  if want a similar functionality use `top_k=None` instead of `return_all_scores=True` or `top_k=1` instead of `return_all_scores=False`.\n",
      "  warnings.warn(\n"
     ]
    },
    {
     "data": {
      "application/vnd.jupyter.widget-view+json": {
       "model_id": "",
       "version_major": 2,
       "version_minor": 0
      },
      "text/plain": [
       "Output()"
      ]
     },
     "metadata": {},
     "output_type": "display_data"
    },
    {
     "data": {
      "text/html": [
       "<pre style=\"white-space:pre;overflow-x:auto;line-height:normal;font-family:Menlo,'DejaVu Sans Mono',consolas,'Courier New',monospace\">Event loop is already running. Applying nest_asyncio patch to allow async execution...\n",
       "</pre>\n"
      ],
      "text/plain": [
       "Event loop is already running. Applying nest_asyncio patch to allow async execution...\n"
      ]
     },
     "metadata": {},
     "output_type": "display_data"
    },
    {
     "data": {
      "text/html": [
       "<pre style=\"white-space:pre;overflow-x:auto;line-height:normal;font-family:Menlo,'DejaVu Sans Mono',consolas,'Courier New',monospace\"></pre>\n"
      ],
      "text/plain": []
     },
     "metadata": {},
     "output_type": "display_data"
    },
    {
     "name": "stdout",
     "output_type": "stream",
     "text": [
      "0.4\n",
      "The score is 0.40 because the retrieval context contains some relevant information about who decides on relocating operations ('Viran siirtÃ¤misestÃ¤ toimialalta toiselle pÃ¤Ã¤ttÃ¤Ã¤ hyvinvointialuejohtaja tai hÃ¤nen mÃ¤Ã¤rÃ¤Ã¤mÃ¤nsÃ¤ viranhaltija.', 'Kuitenkin mikÃ¤li aluevaltuusto tai aluehallitus tai pelastuslautakunta pÃ¤Ã¤ttÃ¤Ã¤ viran tÃ¤yttÃ¤misestÃ¤, aluevaltuusto ja vastaavasti aluehallitus ja pelastuslautakunta myÃ¶s pÃ¤Ã¤ttÃ¤Ã¤ viran siirtÃ¤misestÃ¤.'), but a significant proportion of the context is not relevant to the input, such as information about 'perustamisesta ja lakkauttamisesta sekÃ¤ virkanimikkeen muuttamisesta' and the statement 'Pelastuslautakunta pÃ¤Ã¤ttÃ¤Ã¤ pelastuslaitosta koskevat asiat 25 Â§:n mukaisesti'.\n",
      "\n",
      "[[{'label': 'LABEL_0', 'score': 0.20487233996391296}, {'label': 'LABEL_1', 'score': 0.24692319333553314}, {'label': 'LABEL_2', 'score': 0.11118076741695404}, {'label': 'LABEL_3', 'score': 0.06688091158866882}, {'label': 'LABEL_4', 'score': 0.18773862719535828}, {'label': 'LABEL_5', 'score': 0.18240411579608917}]]\n",
      "LABEL_1 [{'label': 'LABEL_1', 'file': 'chunk2.txt'}]\n",
      "[{'label': 'LABEL_0', 'file': 'chunk.txt'}, {'label': 'LABEL_1', 'file': 'chunk2.txt'}, {'label': 'LABEL_2', 'file': 'chunk3.txt'}, {'label': 'LABEL_3', 'file': 'chunk4.txt'}, {'label': 'LABEL_4', 'file': 'chunk5.txt'}, {'label': 'LABEL_5', 'file': 'chunk6.txt'}]\n",
      "final_query:  \n",
      "    \n",
      "        33 Â§ Toimialajohtajien tehtÃ¤vÃ¤t ja toimivalta\n",
      "Toimialajohtajia ovat:\n",
      "- Lasten, nuorten ja perheiden palvelujen toimialalla lasten, nuorten ja perheiden palvelujen toimialajohtaja\n",
      "- AikuissosiaalityÃ¶n ja vammaisten palvelujen toimialalla aikuissosiaalityÃ¶n ja\n",
      "vammaisten palvelujen toimialajohtaja\n",
      "- Vanhusten palvelujen toimialalla vanhusten palvelujen toimialajohtaja\n",
      "- Terveydenhuollon palvelujen toimialalla terveydenhuollon palvelujen toimialajohtaja\n",
      "- Keski-Uudenmaan pelastuslaitoksen pelastusjohtaja\n",
      "- Konsernipalvelujen toimialalla konsernipalvelujen toimialajohtaja\n",
      "Toimialajohtaja vastaa toimialansa toiminnasta ja taloudesta sekÃ¤ johtaa ja kehittÃ¤Ã¤ toimintaa hyvinvointialuestrategian mukaisesti aluehallituksen ja hyvinvointialuejohtajan\n",
      "alaisuudessa.\n",
      "Toimialajohtajan toimivaltaan kuuluu pÃ¤Ã¤ttÃ¤Ã¤:\n",
      "1. sopimuksista, sitoumuksista, sekÃ¤ hankinnoista 47 Â§:n mukaisesti;\n",
      "2. valtionavun hakemisesta ja muutoksen hakemisesta sitÃ¤ koskevaan pÃ¤Ã¤tÃ¶kseen sekÃ¤ EU-avustuksen hakemisesta;\n",
      "3. toimialaansa koskeviin hankkeisiin osallistumisesta;\n",
      "4. vastauksen antamisesta toimialansa toimintaa koskevaan muistutukseen,\n",
      "kanteluun ja muuhun vastaavaan selvityspyyntÃ¶Ã¶n. Useampaa toimialaa\n",
      "koskevissa muistutuksissa, kanteluissa ja muissa vastaavissa selvityspyynnÃ¶issÃ¤ kukin toimialajohtaja (jonka toimialaa asia koskee) allekirjoittaa vastauksen osaltaan;\n",
      "5. omaa toimialaansa koskevista lausunnoista sekÃ¤ nÃ¤ihin rinnastettavista\n",
      "muista tehtÃ¤vistÃ¤, jollei asiaa sen periaatteellisen tai taloudellisen merkityksen johdosta ole saatettava aluehallituksen kÃ¤siteltÃ¤vÃ¤ksi;\n",
      "6. hyvinvointialueen puhevallan kÃ¤yttÃ¤misestÃ¤ tuomioistuimissa tai missÃ¤\n",
      "muuten hyvinvointialueen oikeudellinen edunvalvonta tulee kyseeseen;\n",
      "7. toimialaa koskevista tutkimusluvista sekÃ¤ tietoluvista;\n",
      "8. toimialaan liittyviin yhdistyksiin liittymisestÃ¤, kun yhdistyksen vuotuinen jÃ¤senmaksu on alle 1000 euroa;\n",
      "9. toimialan laskujen hyvÃ¤ksyjistÃ¤;\n",
      "10. toimialan omaisuuden myymisestÃ¤ ja lahjoittamisesta;\n",
      "11. toimialan tietosuojan ja tietoturvan jÃ¤rjestÃ¤misestÃ¤;\n",
      "12. toimialansa vastuualueelle kuuluvien tyÃ¶ryhmien jÃ¤senten nimeÃ¤misestÃ¤\n",
      "sekÃ¤ edustajien nimeÃ¤misestÃ¤ toimialansa vastuualueelle kuuluviin yhdistyksiin sekÃ¤ niiden kokouksiin, ellei kokous vaadi luottamushenkilÃ¶n nimeÃ¤mistÃ¤ kokousedustajaksi;\n",
      "13. toimialaansa koskevien toimintaohjeiden (pysyvÃ¤isluonteiset mÃ¤Ã¤rÃ¤ykset)\n",
      "antamisesta;\n",
      "14. muistakin toimialalle kuuluvista asioista, ellei toisin ole sÃ¤Ã¤detty tai mÃ¤Ã¤rÃ¤tty.\n",
      "\n",
      "\n",
      "\n",
      "\n",
      "        \n",
      "        \n",
      "\n",
      "    Mikä on aluehallituksen rooli osakeyhtiön perustamiseen liittyvissä asioissa (answer IN FINNISH)?\n",
      "    \n"
     ]
    },
    {
     "name": "stderr",
     "output_type": "stream",
     "text": [
      "C:\\Users\\amiri\\anaconda3\\envs\\RagBERT\\Lib\\site-packages\\transformers\\pipelines\\text_classification.py:106: UserWarning: `return_all_scores` is now deprecated,  if want a similar functionality use `top_k=None` instead of `return_all_scores=True` or `top_k=1` instead of `return_all_scores=False`.\n",
      "  warnings.warn(\n"
     ]
    },
    {
     "data": {
      "application/vnd.jupyter.widget-view+json": {
       "model_id": "",
       "version_major": 2,
       "version_minor": 0
      },
      "text/plain": [
       "Output()"
      ]
     },
     "metadata": {},
     "output_type": "display_data"
    },
    {
     "data": {
      "text/html": [
       "<pre style=\"white-space:pre;overflow-x:auto;line-height:normal;font-family:Menlo,'DejaVu Sans Mono',consolas,'Courier New',monospace\">Event loop is already running. Applying nest_asyncio patch to allow async execution...\n",
       "</pre>\n"
      ],
      "text/plain": [
       "Event loop is already running. Applying nest_asyncio patch to allow async execution...\n"
      ]
     },
     "metadata": {},
     "output_type": "display_data"
    },
    {
     "data": {
      "text/html": [
       "<pre style=\"white-space:pre;overflow-x:auto;line-height:normal;font-family:Menlo,'DejaVu Sans Mono',consolas,'Courier New',monospace\"></pre>\n"
      ],
      "text/plain": []
     },
     "metadata": {},
     "output_type": "display_data"
    },
    {
     "name": "stdout",
     "output_type": "stream",
     "text": [
      "0.4\n",
      "The score is 0.40 because while the relevant statements do discuss a 'Toimialajohtaja' and their responsibilities within a regional government, the irrelevant statements have no connection to the role of regional government in the establishment of a company.\n",
      "\n"
     ]
    }
   ],
   "source": [
    "for input in inputs:\n",
    "    resp, sources, query = RagBERT(classifier, topk=1, query=input, chunk_map=chunk_map, source=\"./chunks_hallinto\")\n",
    "    test_case_ragB, metric_ragB = calculateContextRelevancy(resp, sources, query)\n",
    "    ragbert_results.append((test_case_ragB, metric_ragB))"
   ]
  },
  {
   "cell_type": "markdown",
   "id": "57b4e964-19e4-49a5-bc0f-eab615b3a602",
   "metadata": {},
   "source": [
    "## Show Results"
   ]
  },
  {
   "cell_type": "code",
   "execution_count": 20,
   "id": "782ce2ca-5ab1-4cbd-a099-edbb56cf05c9",
   "metadata": {},
   "outputs": [
    {
     "name": "stdout",
     "output_type": "stream",
     "text": [
      "0.0\n",
      "The score is 0.00 because none of the statements in the retrieval context address the question of whether one can continue in a position of trust if one moves to another municipality. All statements referenced matters not relevant to the question, such as 'the authority in personnel matters when no laws or administrative regulations are established' and 'the eligibility of certain individuals to be elected into the regional council', among others.\n",
      "0.0\n",
      "The score is 0.00 because the retrieval context does not contain any statements related to the input about donating unnecessary property to the university. All the statements quoted are irrelevant as they discuss topics such as roles and responsibilities of board members, eligibility rules for a regional council, and the composition of the council instead of the donation process.\n",
      "0.14285714285714285\n",
      "The score is 0.14 because the retrieval context mainly contains information about different aspects of job positions, such as changing the name, qualification requirements, refilling, and reorganization, which are irrelevant to the decision on the establishment of new positions. However, it does include two statements about which bodies decide on the establishment and abolition of certain positions, which are somewhat relevant to the input query.\n",
      "0.5454545454545454\n",
      "The score is 0.55 because while the retrieved context does mention 'Viran siirtämisestä toimialalta toiselle päättää hyvinvointialuejohtaja tai hänen määräämänsä viranhaltija' which is somewhat relevant to the input about decision-making process in the event of water damage, much of the context discusses unrelated topics such as 'authority in personnel matters', 'establishing and terminating positions', and 'changes in the employment relationship'.\n",
      "0.07142857142857142\n",
      "The score is 0.07 because the retrieval context mainly discusses the general duties, responsibilities and roles of the regional government, which are not specifically related to the establishment of a company. Only one relevant statement was found: 'Aluehallitus päättää osakeyhtiön perustamisesta'.\n"
     ]
    }
   ],
   "source": [
    "# Embedchain\n",
    "for t,m in embedchain_results:\n",
    "    print(m.score)\n",
    "    print(m.reason)"
   ]
  },
  {
   "cell_type": "code",
   "execution_count": 21,
   "id": "d4e79458-1b74-4f58-841b-a4b3e71e959e",
   "metadata": {},
   "outputs": [
    {
     "name": "stdout",
     "output_type": "stream",
     "text": [
      "1.0\n",
      "The score is 1.00 because the retrieval context is directly relevant to the input, as evidenced by the statement 'Vaalikelpoinen hyvinvointialueen luottamustoimeen on henkilÃ¶: 1)â€‚joka on kyseisen hyvinvointialueen asukas.' and there are no stated reasons for irrelevancy.\n",
      "0.0\n",
      "The score is 0.00 because all statements in the retrieval context are about various personnel and post related matters, and none of them are about donating unnecessary property to the university, as required by the input.\n",
      "1.0\n",
      "The score is 1.00 because there are no irrelevant statements listed and the relevant statements directly answer the question about who decides on the establishment of new positions, in Finnish.\n",
      "0.4\n",
      "The score is 0.40 because the retrieval context contains some relevant information about who decides on relocating operations ('Viran siirtÃ¤misestÃ¤ toimialalta toiselle pÃ¤Ã¤ttÃ¤Ã¤ hyvinvointialuejohtaja tai hÃ¤nen mÃ¤Ã¤rÃ¤Ã¤mÃ¤nsÃ¤ viranhaltija.', 'Kuitenkin mikÃ¤li aluevaltuusto tai aluehallitus tai pelastuslautakunta pÃ¤Ã¤ttÃ¤Ã¤ viran tÃ¤yttÃ¤misestÃ¤, aluevaltuusto ja vastaavasti aluehallitus ja pelastuslautakunta myÃ¶s pÃ¤Ã¤ttÃ¤Ã¤ viran siirtÃ¤misestÃ¤.'), but a significant proportion of the context is not relevant to the input, such as information about 'perustamisesta ja lakkauttamisesta sekÃ¤ virkanimikkeen muuttamisesta' and the statement 'Pelastuslautakunta pÃ¤Ã¤ttÃ¤Ã¤ pelastuslaitosta koskevat asiat 25 Â§:n mukaisesti'.\n",
      "0.4\n",
      "The score is 0.40 because while the relevant statements do discuss a 'Toimialajohtaja' and their responsibilities within a regional government, the irrelevant statements have no connection to the role of regional government in the establishment of a company.\n"
     ]
    }
   ],
   "source": [
    "# RagBERT\n",
    "for t,m in ragbert_results:\n",
    "    print(m.score)\n",
    "    print(m.reason)"
   ]
  },
  {
   "cell_type": "markdown",
   "id": "ddb08214-73a9-4693-bd30-07585104232e",
   "metadata": {},
   "source": [
    "## Evaluate in Bulk"
   ]
  },
  {
   "cell_type": "code",
   "execution_count": null,
   "id": "ec9782e6-133b-4b19-9a34-9adc18f4881d",
   "metadata": {},
   "outputs": [],
   "source": [
    "# Embedchain\n",
    "for t,m in embedchain_results:\n",
    "    evaluate_in_bulk(t, m)"
   ]
  },
  {
   "cell_type": "code",
   "execution_count": null,
   "id": "d9505c07-fd10-460a-b3d3-5f9e59a75c9a",
   "metadata": {},
   "outputs": [],
   "source": [
    "# RagBERT\n",
    "for t,m in ragbert_results:\n",
    "    evaluate_in_bulk(t, m)"
   ]
  },
  {
   "cell_type": "code",
   "execution_count": null,
   "id": "499a0ca1-252e-4d34-b240-1179b9233f3b",
   "metadata": {},
   "outputs": [],
   "source": []
  }
 ],
 "metadata": {
  "kernelspec": {
   "display_name": "Python 3 (ipykernel)",
   "language": "python",
   "name": "python3"
  },
  "language_info": {
   "codemirror_mode": {
    "name": "ipython",
    "version": 3
   },
   "file_extension": ".py",
   "mimetype": "text/x-python",
   "name": "python",
   "nbconvert_exporter": "python",
   "pygments_lexer": "ipython3",
   "version": "3.11.10"
  }
 },
 "nbformat": 4,
 "nbformat_minor": 5
}
