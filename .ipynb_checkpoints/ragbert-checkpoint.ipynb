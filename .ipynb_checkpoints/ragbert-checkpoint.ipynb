{
 "cells": [
  {
   "cell_type": "code",
   "execution_count": 1,
   "id": "d306c87d-23ba-43c9-9dab-eb76e5b193f0",
   "metadata": {},
   "outputs": [],
   "source": [
    "\n",
    "import torch\n",
    "from sklearn.metrics import accuracy_score, f1_score\n",
    "from sklearn.metrics import ConfusionMatrixDisplay, confusion_matrix\n",
    "\n",
    "from datasets import load_dataset"
   ]
  },
  {
   "cell_type": "code",
   "execution_count": null,
   "id": "eca18c46-4e76-45bc-8e27-fa7cb87bfcd2",
   "metadata": {},
   "outputs": [],
   "source": []
  },
  {
   "cell_type": "code",
   "execution_count": 2,
   "id": "04d47a12-f1fc-49a1-b036-b122533b5b3e",
   "metadata": {},
   "outputs": [],
   "source": [
    "import pandas as pd"
   ]
  },
  {
   "cell_type": "code",
   "execution_count": 3,
   "id": "eb689b6c-c27b-454c-a005-52df33bbfab8",
   "metadata": {},
   "outputs": [],
   "source": [
    "from transformers import Trainer, TrainingArguments"
   ]
  },
  {
   "cell_type": "code",
   "execution_count": 4,
   "id": "4e981933-db22-4c6a-b50c-122a1528a7c6",
   "metadata": {},
   "outputs": [],
   "source": [
    "from transformers import AutoModelForSequenceClassification"
   ]
  },
  {
   "cell_type": "code",
   "execution_count": 5,
   "id": "c7efc720-5003-4d04-b8b2-465fe462ec09",
   "metadata": {},
   "outputs": [],
   "source": [
    "import matplotlib.pyplot as plt"
   ]
  },
  {
   "cell_type": "code",
   "execution_count": 6,
   "id": "09894171-88dd-45d9-ae5d-5736c893c5e3",
   "metadata": {},
   "outputs": [],
   "source": [
    "from transformers import AutoModel\n",
    "from transformers import AutoTokenizer"
   ]
  },
  {
   "cell_type": "code",
   "execution_count": 7,
   "id": "4261af6b-f1d8-4866-85a0-4dcafcef97f6",
   "metadata": {},
   "outputs": [],
   "source": [
    "from transformers import BertTokenizer"
   ]
  },
  {
   "cell_type": "code",
   "execution_count": null,
   "id": "a4959cf7-46f4-4315-a1ec-2b136eeb0d34",
   "metadata": {},
   "outputs": [],
   "source": [
    "import os"
   ]
  },
  {
   "cell_type": "markdown",
   "id": "43f11d0d-1aae-45ff-b9f7-b55210c69d8e",
   "metadata": {},
   "source": [
    "## Check GPU CUDA"
   ]
  },
  {
   "cell_type": "code",
   "execution_count": 7,
   "id": "d6837e93-9511-4743-8569-e0af06aed492",
   "metadata": {},
   "outputs": [
    {
     "data": {
      "text/plain": [
       "True"
      ]
     },
     "execution_count": 7,
     "metadata": {},
     "output_type": "execute_result"
    }
   ],
   "source": [
    "torch.cuda.is_available()"
   ]
  },
  {
   "cell_type": "code",
   "execution_count": 8,
   "id": "9028c846-b70a-4638-beda-3c45cd091d66",
   "metadata": {},
   "outputs": [
    {
     "data": {
      "text/plain": [
       "tensor([0.], device='cuda:0')"
      ]
     },
     "execution_count": 8,
     "metadata": {},
     "output_type": "execute_result"
    }
   ],
   "source": [
    "torch.zeros(1).cuda()"
   ]
  },
  {
   "cell_type": "markdown",
   "id": "fe6c4b18-8b1b-4bcd-ba38-31e28980611c",
   "metadata": {},
   "source": [
    "## Dataset setup"
   ]
  },
  {
   "cell_type": "code",
   "execution_count": 11,
   "id": "8b43bf31-a1cc-4ee4-89bf-882436f643da",
   "metadata": {},
   "outputs": [],
   "source": [
    "hf_dataset = load_dataset(\"dair-ai/emotion\")"
   ]
  },
  {
   "cell_type": "code",
   "execution_count": 12,
   "id": "e11902d2-3b97-471d-989e-53fe8c21b6bc",
   "metadata": {},
   "outputs": [
    {
     "data": {
      "text/plain": [
       "ClassLabel(names=['sadness', 'joy', 'love', 'anger', 'fear', 'surprise'], id=None)"
      ]
     },
     "execution_count": 12,
     "metadata": {},
     "output_type": "execute_result"
    }
   ],
   "source": [
    "hf_dataset['train'].features['label']"
   ]
  },
  {
   "cell_type": "code",
   "execution_count": 13,
   "id": "89b19285-68ae-41cc-8b1f-ee6942bd7128",
   "metadata": {},
   "outputs": [
    {
     "data": {
      "text/plain": [
       "Value(dtype='string', id=None)"
      ]
     },
     "execution_count": 13,
     "metadata": {},
     "output_type": "execute_result"
    }
   ],
   "source": [
    "hf_dataset['train'].features['text']"
   ]
  },
  {
   "cell_type": "code",
   "execution_count": 14,
   "id": "5eb7ca89-763d-48db-a1b2-0bbcfc0f556d",
   "metadata": {},
   "outputs": [],
   "source": [
    "#hf_dataset.set_format(type=\"pandas\")"
   ]
  },
  {
   "cell_type": "code",
   "execution_count": 15,
   "id": "edd06e73-5472-4261-9c0f-83d55d89a191",
   "metadata": {},
   "outputs": [
    {
     "name": "stdout",
     "output_type": "stream",
     "text": [
      "DatasetDict({\n",
      "    train: Dataset({\n",
      "        features: ['text', 'label'],\n",
      "        num_rows: 16000\n",
      "    })\n",
      "    validation: Dataset({\n",
      "        features: ['text', 'label'],\n",
      "        num_rows: 2000\n",
      "    })\n",
      "    test: Dataset({\n",
      "        features: ['text', 'label'],\n",
      "        num_rows: 2000\n",
      "    })\n",
      "})\n"
     ]
    }
   ],
   "source": [
    "print(hf_dataset)\n"
   ]
  },
  {
   "cell_type": "code",
   "execution_count": 16,
   "id": "10eed98c-44d3-420c-957e-d48c7c07d9dd",
   "metadata": {},
   "outputs": [
    {
     "name": "stdout",
     "output_type": "stream",
     "text": [
      "                                                text  label\n",
      "0                            i didnt feel humiliated      0\n",
      "1  i can go from feeling so hopeless to so damned...      0\n",
      "2   im grabbing a minute to post i feel greedy wrong      3\n",
      "3  i am ever feeling nostalgic about the fireplac...      2\n",
      "4                               i am feeling grouchy      3\n",
      "                                                text  label\n",
      "0  im feeling quite sad and sorry for myself but ...      0\n",
      "1  i feel like i am still looking at a blank canv...      0\n",
      "2                     i feel like a faithful servant      2\n",
      "3                  i am just feeling cranky and blue      3\n",
      "4  i can have for a treat or if i am feeling festive      1\n",
      "                                                text  label\n",
      "0  im feeling rather rotten so im not very ambiti...      0\n",
      "1          im updating my blog because i feel shitty      0\n",
      "2  i never make her separate from me because i do...      0\n",
      "3  i left with my bouquet of red and yellow tulip...      1\n",
      "4    i was feeling a little vain when i did this one      0\n"
     ]
    }
   ],
   "source": [
    "\n",
    "\n",
    "# Convert the train, validation, and test datasets into DataFrames\n",
    "train_df = hf_dataset['train'].to_pandas()\n",
    "validation_df = hf_dataset['validation'].to_pandas()\n",
    "test_df = hf_dataset['test'].to_pandas()\n",
    "\n",
    "print(train_df.head())  # Print the first few rows of the train data\n",
    "print(validation_df.head())  # Print the first few rows of the validation data\n",
    "print(test_df.head())  # Print the first few rows of the test data"
   ]
  },
  {
   "cell_type": "markdown",
   "id": "8a3f8161-a3f2-4c71-8633-f6354c58baf0",
   "metadata": {},
   "source": [
    "## Ollama model"
   ]
  },
  {
   "cell_type": "code",
   "execution_count": 8,
   "id": "e62aabe7-104d-410c-9487-3b36d15cfc6c",
   "metadata": {},
   "outputs": [],
   "source": [
    "from langchain_core.prompts import ChatPromptTemplate\n",
    "from langchain_ollama.llms import OllamaLLM\n",
    "\n",
    "def ollama_query(template=\"\", model=\"llama3:8b-instruct-q4_0\", query=\"\"):\n",
    "    \n",
    "    template = \"\"\"{question}\"\"\"\n",
    "\n",
    "    prompt = ChatPromptTemplate.from_template(template)\n",
    "\n",
    "    model = OllamaLLM(model=\"llama3:8b-instruct-q4_0\")\n",
    "\n",
    "    chain = prompt | model\n",
    "\n",
    "    response = chain.invoke({\"question\": query})\n",
    "\n",
    "    #print(response)\n",
    "    return response"
   ]
  },
  {
   "cell_type": "markdown",
   "id": "af3ed491-28f0-43e7-b5a9-bd5746cd6a64",
   "metadata": {},
   "source": [
    "## RagBERT Synthetic data creation "
   ]
  },
  {
   "cell_type": "code",
   "execution_count": null,
   "id": "4a5034d4-3d2d-4d9c-892e-a42b309a41eb",
   "metadata": {},
   "outputs": [],
   "source": []
  },
  {
   "cell_type": "markdown",
   "id": "c5d7dbe9-2f0e-476f-b98a-f39e187be172",
   "metadata": {},
   "source": [
    "### Utility tools"
   ]
  },
  {
   "cell_type": "code",
   "execution_count": 10,
   "id": "a1bbf3fe-f74e-45b0-8a17-dafab2c0f8aa",
   "metadata": {},
   "outputs": [],
   "source": [
    "def validate_text(text):\n",
    "    #TODO: validate that the text is a one sentence question (e.g. \"is the weather good?\") and doesnt have any line breaks\n",
    "    if \"\\n\" in text or not text.strip().endswith(\"?\"):\n",
    "        return False\n",
    "    return True"
   ]
  },
  {
   "cell_type": "code",
   "execution_count": 11,
   "id": "d04bfeb6-7244-465a-9e1b-767a48696d9f",
   "metadata": {},
   "outputs": [
    {
     "name": "stdout",
     "output_type": "stream",
     "text": [
      "['What was the outcome of Einsteins application for teaching positions at Swiss schools after he acquired Swiss citizenship in February 1901?']\n"
     ]
    }
   ],
   "source": [
    "def extract_questions(text):\n",
    "    import re\n",
    "    \n",
    "    # Split text into sentences based on the specified characters\n",
    "    sentences = re.split(r'(?<=[.!:?])\\s+', text)\n",
    "    \n",
    "    # Filter sentences to find those containing a '?'\n",
    "    questions = [sentence for sentence in sentences if '?' in sentence]\n",
    "    response = []\n",
    "    for question in questions:\n",
    "        if validate_text(question):\n",
    "            response.append(question)\n",
    "    \n",
    "    #print(\"extract_questions \", response)\n",
    "    return response\n",
    "\n",
    "# Example usage:\n",
    "text = \"\"\"Here's one:\n",
    "\n",
    "What was the outcome of Einsteins application for teaching positions at Swiss schools after he acquired Swiss citizenship in February 1901?\"\"\"\n",
    "questions = extract_questions(text)\n",
    "print(questions)"
   ]
  },
  {
   "cell_type": "code",
   "execution_count": 12,
   "id": "24462a57-94a8-479e-8735-12d5eb2dc830",
   "metadata": {},
   "outputs": [],
   "source": [
    "\n",
    "\n",
    "def read_chunk(values, path=\"./chunks\"):\n",
    "    #TODO: read the text data from \"values\" which contains the label and file name (e.g. (0, 'test.txt'))\n",
    "    chunk = []\n",
    "    for value in values:\n",
    "        label = value[0]\n",
    "        file_name = value[1]\n",
    "        with open(os.path.join(path, file_name), 'r') as f:\n",
    "            text = f.read()\n",
    "        chunk.append((label, text))\n",
    "    return chunk\n",
    "\n",
    "def generate_text(text, query=\"generate one question about the topic\"):\n",
    "    #TODO: call ollama_query(template=\"\", model=\"llama3:8b-instruct-q4_0\", query=\"\") to return the answer\n",
    "    response = ollama_query(template=\"\", model=\"llama3:8b-instruct-q4_0\", query=query)\n",
    "    resp = extract_questions(response)\n",
    "    return resp\n",
    "\n",
    "\n",
    "\n",
    "def collect_dataset_names_and_labels(path, size=-1):\n",
    "\n",
    "    # Set the path to the directory you want to scan\n",
    "    dir_path = path\n",
    "\n",
    "    # Initialize an empty list to store the file names\n",
    "    file_names = []\n",
    "    label_count = 0\n",
    "    # Use os.listdir() to get a list of files in the directory\n",
    "    for i, file in enumerate(os.listdir(dir_path)):\n",
    "        file = dir_path + file\n",
    "        # Check if the file has a .txt extension\n",
    "        if file.endswith('.txt'):\n",
    "\n",
    "            if size == -1 or size >= i:\n",
    "                \n",
    "                # Add the file name to the list\n",
    "                file_names.append((label_count, file))\n",
    "                label_count += 1\n",
    "\n",
    "    # Print the list of file names\n",
    "    print(file_names)\n",
    "    # file_names e.g. [(0, 'test.txt'), (1, 'test2.txt')]\n",
    "    return file_names\n",
    "    \n",
    "\n",
    "def collect_dataset(labels_and_files, query = \"generate 10 question about the following topic: \" , file_path=\"./chunks\"):\n",
    "\n",
    "    #TODO:  create parameter \"query\" which should have prompt that quides the model to create one sentence questions\n",
    "    #TODO:  iterate through the labels_and_files (e.g. [(0, 'test.txt'), (1, 'test2.txt')])\n",
    "        #TODO:  save the files content to one parameter called \"content\"\n",
    "\n",
    "        #TODO:  iterate the following steps based on the \"size\":\n",
    "            \n",
    "            #TODO:  call generate_text and pass the text and query\n",
    "            #TODO:  validate the generated reply via validate_text\n",
    "            #TODO:  if the validation is false then run it agains so that the conditions are followed\n",
    "            #TODO:  save the generated text to list which includes the question, label, file name (e.g. \"what is Joes dogs name\", 1, \"test.txt\")\n",
    "        \n",
    "        #TODO:  stop the iteration when the list is the same size as the \"size\"\n",
    "\n",
    "    #TODO:  return the collected dataset\n",
    "    dataset = []\n",
    "    for label, file in labels_and_files:\n",
    "        with open(os.path.join(\".\", file), 'r', encoding='utf-8') as f:\n",
    "            text = f.read()\n",
    "        print(\"starting: \", label)\n",
    "        query = query + text\n",
    "        questions = generate_text(text, query)\n",
    "        for question in questions:\n",
    "            dataset.append((question, label, file))\n",
    "    \n",
    "    \n",
    "    return dataset\n",
    "\n",
    "def save_dataset(dataset, save_to=\"./dataset\"):\n",
    "\n",
    "    # Ensure the directory exists\n",
    "    os.makedirs(save_to, exist_ok=True)\n",
    "\n",
    "    with open(os.path.join(save_to, \"dataset.csv\"), 'w', encoding='utf-8', errors='replace') as f:\n",
    "        f.write(\"text,label,file\" + \"\\n\")\n",
    "        for question in dataset:\n",
    "            f.write(f'\"{question[0]}\", {question[1]}, {question[2]}' + '\\n')\n",
    "    print(\"Saved to\", save_to)\n",
    "    "
   ]
  },
  {
   "cell_type": "markdown",
   "id": "f863083d-e0b0-42af-9147-7fd5a067a2a0",
   "metadata": {},
   "source": [
    "### Synthetic dataset setup"
   ]
  },
  {
   "cell_type": "code",
   "execution_count": 351,
   "id": "334b0671-55f8-429f-a207-a361d82488fd",
   "metadata": {},
   "outputs": [
    {
     "name": "stdout",
     "output_type": "stream",
     "text": [
      "[(0, './chunks_hallinto/chunk.txt'), (1, './chunks_hallinto/chunk2.txt'), (2, './chunks_hallinto/chunk3.txt'), (3, './chunks_hallinto/chunk4.txt'), (4, './chunks_hallinto/chunk5.txt'), (5, './chunks_hallinto/chunk6.txt')]\n"
     ]
    }
   ],
   "source": [
    "chunk_path = \"./chunks_hallinto/\"\n",
    "chunk_row_size = -1\n",
    "labels_and_files = collect_dataset_names_and_labels(chunk_path, chunk_row_size)"
   ]
  },
  {
   "cell_type": "code",
   "execution_count": 352,
   "id": "51270cc1-12ff-4cbc-a25e-8b00f129353e",
   "metadata": {},
   "outputs": [
    {
     "name": "stdout",
     "output_type": "stream",
     "text": [
      "[(0, './chunks_hallinto/chunk.txt'), (1, './chunks_hallinto/chunk2.txt'), (2, './chunks_hallinto/chunk3.txt'), (3, './chunks_hallinto/chunk4.txt'), (4, './chunks_hallinto/chunk5.txt'), (5, './chunks_hallinto/chunk6.txt')]\n"
     ]
    }
   ],
   "source": [
    "print(labels_and_files)"
   ]
  },
  {
   "cell_type": "code",
   "execution_count": 354,
   "id": "a286e9f1-404f-4bfe-a449-bb2b3bc2ac3c",
   "metadata": {},
   "outputs": [
    {
     "name": "stdout",
     "output_type": "stream",
     "text": [
      "starting:  0\n",
      "starting:  1\n",
      "starting:  2\n",
      "starting:  3\n",
      "starting:  4\n",
      "starting:  5\n",
      "[('Onko henkilö kyseisen hyvinvointialueen asukas, jotta hän on vaalikelpoinen?', 0, './chunks_hallinto/chunk.txt'), ('Miten voit olla jolla on äänioikeus aluevaaleissa sinä vuonna, jona valtuutetut valitaan?', 0, './chunks_hallinto/chunk.txt'), ('Mitä tarkoittaa \"jota ei ole julistettu vajaavaltaiseksi\"?', 0, './chunks_hallinto/chunk.txt'), ('Onko hyvinvointialueen palveluksessa oleva henkilö aina vaalikelpoinen?', 0, './chunks_hallinto/chunk.txt'), ('Voitko olla vaalikelpoinen, jos olet valtion virkamies?', 0, './chunks_hallinto/chunk.txt'), ('Miten toiminta aluehallituksen tehtäväalueella vaikuttaa vaalikelpoisuuteen?', 0, './chunks_hallinto/chunk.txt'), ('Onko henkilö aina vaalikelpoinen, jos hän on hyvinvointialueen määräysvallassa olevan yhteisön palveluksessa?', 0, './chunks_hallinto/chunk.txt'), ('Voitko olla vaalikelpoinen, jos olet hyvinvointiyhtymän jäsen?', 0, './chunks_hallinto/chunk.txt'), ('Mitä tarkoittaa \"palvelussuhde\" tässä kontekstissa?', 0, './chunks_hallinto/chunk.txt'), ('Onko henkilö aina vaalikelpoinen, jos hän on aluevaltuustoon valituksen jälkeen?', 0, './chunks_hallinto/chunk.txt'), ('Ei ole valtion virkamies, joka hoitaa välittömästi hyvinvointialuetta koskevia valvontatehtäviä, vaalikelpoinen aluevaltuustoon?', 0, './chunks_hallinto/chunk.txt'), ('Onko hyvinvointialueen palveluksessa oleva henkilö aina vaalikelpoinen aluevaltuustoon?', 0, './chunks_hallinto/chunk.txt'), ('Ei ole hyvinvointialueen määräysvallassa olevan yhteisön tai säätiön palveluksessa oleva henkilö, joka toimii aluehallituksen tehtäväalueella?', 0, './chunks_hallinto/chunk.txt'), ('Voitko olla vaalikelpoinen, jos olet hyvinvointialueen määräysvallassa olevan yhteisön hallituksen puheenjohtaja?', 0, './chunks_hallinto/chunk.txt'), ('Onko henkilö aina vaalikelpoinen aluehallitukseen, jos hän on hyvinvointialueen palveluksessa oleva henkilö?', 0, './chunks_hallinto/chunk.txt'), ('Ei ole hyvinvointiyhtymän jäsen, joka on hyvinvointialueen aluevaltuuston osalta vaalikelpoinen?', 0, './chunks_hallinto/chunk.txt'), ('Voitko olla vaalikelpoinen, jos olet henkilö, jolla on hallituksen tai siihen rinnastettavan toimielimen jäsenyyden?', 0, './chunks_hallinto/chunk.txt'), ('Onko hyvinvointialueen palveluksessa oleva henkilö aina vaalikelpoinen aluehallitukseen?', 0, './chunks_hallinto/chunk.txt'), ('Miten edunvalvonta vaikuttaa vaalikelpoisuuteen?', 0, './chunks_hallinto/chunk.txt'), ('Onko henkilö aina vaalikelpoinen, jos hän on aluehallituksen jäsen?', 0, './chunks_hallinto/chunk.txt'), ('Voitko olla vaalikelpoinen, jos olet hallituksen tai siihen rinnastettavan toimielimen puheenjohtaja?', 0, './chunks_hallinto/chunk.txt'), ('Onko henkilö aina vaalikelpoinen, jos hän on hyvinvointialueen määräysvallassa olevan yhteisön hallituksen jäsen?', 0, './chunks_hallinto/chunk.txt'), ('Mitä tarkoittaa \"enemmistö\" aluehallituksen jäsenistä?', 0, './chunks_hallinto/chunk.txt'), ('Onko henkilö aina vaalikelpoinen, jos hän on hyvinvointialueen määräysvallassa olevan yhteisön palveluksessa oleva henkilö?', 0, './chunks_hallinto/chunk.txt'), ('Miten toimialajohtajan tehtävät ja toimivalta kuvaavat?', 1, './chunks_hallinto/chunk2.txt'), ('Mikä on Lasten, nuorten ja perheiden palvelujen toimialajärjestelmässä lasten, nuorten ja perheiden palvelujen toimialajohtaja?', 1, './chunks_hallinto/chunk2.txt'), ('Miten aikuissosiaalityön ja vammaisten palvelujen toimialaorganisaatio on rakennettu?', 1, './chunks_hallinto/chunk2.txt'), ('Mitä tehtäviä vanhusten palvelujen toimialajärjestelmässä vanhusten palvelujen toimialajohtaja hoitaa?', 1, './chunks_hallinto/chunk2.txt'), ('Kuka on Konsernipalvelujen toimialajärjestelmässä konsernipalvelujen toimialajohtaja?', 1, './chunks_hallinto/chunk2.txt'), ('Miten terveydenhuollon palvelujen toimialaorganisaatio on rakennettu?', 1, './chunks_hallinto/chunk2.txt'), ('Mitä tehtäviä pelastusjohtajalla on Keski-Uudenmaan pelastuslaitoksessa?', 1, './chunks_hallinto/chunk2.txt'), ('Miten toimialajohtajan toimivalta ja -tehtävät kuvaavat hyvinvointialuestrategian toteutumista?', 1, './chunks_hallinto/chunk2.txt'), ('Mikä on toimialajohtajan vastuu aluehallituksen ja hyvinvointialuejohtajan alaisuudessa?', 1, './chunks_hallinto/chunk2.txt'), ('Miten sopimuksista, sitoumuksista ja hankinnoista päättäminen kuuluu toimialajohtajan tehtäviin?', 1, './chunks_hallinto/chunk2.txt'), ('Kuka vastaa valtionavun hakemisesta ja muutoksen hakemisesta sitä koskevaan päätökseen?', 1, './chunks_hallinto/chunk2.txt'), ('Miten EU-avustuksen hakeminen kuuluu toimialajohtajan tehtäviin?', 1, './chunks_hallinto/chunk2.txt'), ('Mitä tehtäviä toimialaansa koskeviin hankkeisiin osallistumisesta on toimialajohtajalla?', 1, './chunks_hallinto/chunk2.txt'), ('Miten vastaus antaminen toimialansa toimintaa koskevaan muistutukseen kuuluu toimialajohtajan tehtäviin?', 1, './chunks_hallinto/chunk2.txt'), ('Minkälaisia erityiskäsityksiä on annettu toimialajohtajan tehtävissä?', 2, './chunks_hallinto/chunk3.txt'), ('Kuka päättää 76 §:n mukaisesti viranhaltijoiden muutoksista?', 2, './chunks_hallinto/chunk3.txt'), ('Miten otetaan huomioon, mitä erikseen on säädetty tai määrätty?', 2, './chunks_hallinto/chunk3.txt'), ('Mikä on hyvinvointialuejohtajan tehtäväksi kuuluvaa viran kelpoisuusvaatimuksista päättämistä?', 2, './chunks_hallinto/chunk3.txt'), ('Kuka päättää muutoksista muissa virkojen kelpoisuusvaatimuksissa?', 2, './chunks_hallinto/chunk3.txt'), ('Mitkä asiat päättää Pelastuslautakunta 25 §:n mukaisesti?', 2, './chunks_hallinto/chunk3.txt'), ('Palvelussuhdetta koskevista muutoksista kuka päättää?', 2, './chunks_hallinto/chunk3.txt'), ('Miten palvelussuhteen muuttaminen työsuhteeksi toteutetaan?', 2, './chunks_hallinto/chunk3.txt'), ('Kuka päättää virkasuhteen muuttamisesta osa-aikaiseksi?', 2, './chunks_hallinto/chunk3.txt'), ('Miten virantoimitusvelvollisuuden muuttaminen toteutetaan?', 2, './chunks_hallinto/chunk3.txt'), ('Kuka päättää viranhaltijan siirtämisestä toiseen virkasuhteeseen?', 2, './chunks_hallinto/chunk3.txt'), ('Mitkä asiat päättää hyvinvointialuejohtaja 76 §:n mukaisesti?', 2, './chunks_hallinto/chunk3.txt'), ('Kuka päättää aluevaltuuston ja aluehallinnon tehtäviä?', 2, './chunks_hallinto/chunk3.txt'), ('Miten pelastuslaitos liitettiin Pelastuslautakuntaan?', 2, './chunks_hallinto/chunk3.txt'), ('Mikä on Palvelussuhteeseen ottava viranomainen?', 2, './chunks_hallinto/chunk3.txt'), ('Kuka päättää siirroista toimialalta toiselle?', 2, './chunks_hallinto/chunk3.txt'), ('Mitkä asiat päättää aluevaltuusto ja aluehallitus?', 2, './chunks_hallinto/chunk3.txt'), ('Miten pelastuslautakunta liitettiin Pelastuksen tehtäviin?', 2, './chunks_hallinto/chunk3.txt'), ('Kuka päättää viran siirtämisestä toiseen virkasuhteeseen?', 2, './chunks_hallinto/chunk3.txt'), ('Mitkä asiat päättää hyvinvointialuejohtaja 76 §:n mukaisesti alaistensa osalta?', 2, './chunks_hallinto/chunk3.txt'), ('Miten toimialajohtaja päättää 76 §:n mukaisesti viranhaltijoiden muutoksista?', 2, './chunks_hallinto/chunk3.txt'), ('Kuka päättää aluevaltuuston ja aluehallinnon tehtäviä alaistensa osalta?', 2, './chunks_hallinto/chunk3.txt'), ('Mitkä asiat päättää Pelastuslautakunta 25 §:n mukaisesti alaistensa osalta?', 2, './chunks_hallinto/chunk3.txt'), ('Kuka päättää palvelussuhteeseen ottava viranomainen?', 2, './chunks_hallinto/chunk3.txt'), ('Miten hyvinvointialuejohtaja päättää alaistensa osalta viran kelpoisuusvaatimuksista?', 2, './chunks_hallinto/chunk3.txt'), ('Kuka päättää muutoksista muissa virkojen kelpoisuusvaatimuksissa alaistansa osalta?', 2, './chunks_hallinto/chunk3.txt'), ('Mitkä asiat päättää Pelastuslautakunta 25 §:n mukaisesti alaistansa osalta?', 2, './chunks_hallinto/chunk3.txt'), ('Kuka päättää palvelussuhteeseen ottava viranomainen alaistensa osalta?', 2, './chunks_hallinto/chunk3.txt'), ('Miten toimialajohtaja päättää alaistansa osalta viranhaltijoiden muutoksista?', 2, './chunks_hallinto/chunk3.txt'), ('Mitkä asiat päättää aluevaltuusto ja aluehallitus alaistansa osalta?', 2, './chunks_hallinto/chunk3.txt'), ('Kuka päättää Pelastuslautakunta 25 §:n mukaisesti alaistansa osalta?', 2, './chunks_hallinto/chunk3.txt'), ('Miten hyvinvointialuejohtaja päättää viran kelpoisuusvaatimuksista alaistensa osalta?', 2, './chunks_hallinto/chunk3.txt'), ('Kuka päättää muutoksista muissa virkojen kelpoisuusvaatimuksissa alaistansa osalta?', 2, './chunks_hallinto/chunk3.txt'), ('Mitkä asiat päättää Pelastuslautakunta 25 §:n mukaisesti alaistansa osalta?', 2, './chunks_hallinto/chunk3.txt'), ('Kuka päättää palvelussuhteeseen ottava viranomainen alaistansa osalta?', 2, './chunks_hallinto/chunk3.txt'), ('Miten toimialajohtaja päättää 76 §:n mukaisesti viranhaltijoiden muutoksista alaistansa osalta?', 2, './chunks_hallinto/chunk3.txt'), ('Kuka päättää aluevaltuuston ja aluehallinnon tehtäviä alaistansa osalta?', 2, './chunks_hallinto/chunk3.txt'), ('Mitkä asiat päättää Pelastuslautakunta 25 §:n mukaisesti alaistansa osalta?', 2, './chunks_hallinto/chunk3.txt'), ('Kuka päättää palvelussuhteeseen ottava viranomainen alaistansa osalta?', 2, './chunks_hallinto/chunk3.txt'), ('Miten hyvinvointialuejohtaja päättää viran kelpoisuusvaatimuksista alaistansa osalta?', 2, './chunks_hallinto/chunk3.txt'), ('Mitkä asiat päättää aluevaltuusto ja aluehallitus alaistansa osalta?', 2, './chunks_hallinto/chunk3.txt'), ('Kuka päättää muutoksista muissa virkojen kelpoisuusvaatimuksissa alaistansa osalta?', 2, './chunks_hallinto/chunk3.txt'), ('Miten toimialajohtaja päättää 76 §:n mukaisesti viranhaltijoiden muutoksista?', 2, './chunks_hallinto/chunk3.txt'), ('Kuka päättää palvelussuhteeseen ottava viranomainen?', 2, './chunks_hallinto/chunk3.txt'), ('Mitkä asiat päättää Pelastuslautakunta 25 §:n mukaisesti alaistansa osalta?', 2, './chunks_hallinto/chunk3.txt'), ('Miten hyvinvointialuejohtaja päättää viran kelpoisuusvaatimuksista alaistansa osalta?', 2, './chunks_hallinto/chunk3.txt'), ('Kuka päättää muutoksista muissa virkojen kelpoisuusvaatimuksissa alaistansa osalta?', 2, './chunks_hallinto/chunk3.txt'), ('Mitkä asiat päättää aluevaltuusto ja aluehallitus alaistansa osalta?', 2, './chunks_hallinto/chunk3.txt'), ('Kuka päättää palvelussuhteeseen ottava viranomainen alaistansa osalta?', 2, './chunks_hallinto/chunk3.txt'), ('Miten toimialajohtaja päättää 76 §:n mukaisesti viranhaltijoiden muutoksista alaistansa osalta?', 2, './chunks_hallinto/chunk3.txt'), ('Kuka päättää Pelastuslautakunta 25 §:n mukaisesti alaistansa osalta?', 2, './chunks_hallinto/chunk3.txt'), ('Mitkä asiat päättää hyvinvointialuejohtaja 76 §:n mukaisesti?', 2, './chunks_hallinto/chunk3.txt'), ('Kuka päättää aluevaltuuston ja aluehallinnon tehtäviä?', 2, './chunks_hallinto/chunk3.txt'), ('Miten pelastuslaitos liitettiin Pelastuslautakuntaan?', 2, './chunks_hallinto/chunk3.txt'), ('Mitkä asiat päättää Palvelussuhteeseen ottava viranomainen?', 2, './chunks_hallinto/chunk3.txt'), ('Kuka päättää siirroista toimialalta toiselle?', 2, './chunks_hallinto/chunk3.txt'), ('Miten pelastuslautakunta liitettiin Pelastuksen tehtäviin?', 2, './chunks_hallinto/chunk3.txt'), ('Kuka päättää viran siirtämisestä toiseen virkasuhteeseen?', 2, './chunks_hallinto/chunk3.txt'), ('Mitkä asiat päättää aluevaltuusto ja aluehallitus?', 2, './chunks_hallinto/chunk3.txt'), ('Miten hyvinvointialuejohtaja päättää viran kelpoisuusvaatimuksista?', 2, './chunks_hallinto/chunk3.txt'), ('Kuka päättää muutoksista muissa virkojen kelpoisuusvaatimuksissa?', 2, './chunks_hallinto/chunk3.txt'), ('Mitkä asiat päättää Pelastuslautakunta 25 §:n mukaisesti?', 2, './chunks_hallinto/chunk3.txt'), ('Kuka päättää palvelussuhteeseen ottava viranomainen?', 2, './chunks_hallinto/chunk3.txt'), ('Miten toimialajohtaja päättää 76 §:n mukaisesti viranhaltijoiden muutoksista?', 2, './chunks_hallinto/chunk3.txt'), ('Mitkä asiat päättää aluevaltuusto ja aluehallitus?', 2, './chunks_hallinto/chunk3.txt'), ('Kuka päättää Pelastuslautakunta 25 §:n mukaisesti?', 2, './chunks_hallinto/chunk3.txt'), ('Miten hyvinvointialuejohtaja päättää viran kelpoisuusvaatimuksista?', 2, './chunks_hallinto/chunk3.txt'), ('Kuka päättää muutoksista muissa virkojen kelpoisuusvaatimuksissa?', 2, './chunks_hallinto/chunk3.txt'), ('Mitkä asiat päättää aluevaltuusto ja aluehallitus?', 2, './chunks_hallinto/chunk3.txt'), ('Kuka päättää palvelussuhteeseen ottava viranomainen?', 2, './chunks_hallinto/chunk3.txt'), ('Miten toimialajohtaja päättää 76 §:n mukaisesti viranhaltijoiden muutoksista?', 2, './chunks_hallinto/chunk3.txt'), ('Mitkä asiat päättää Pelastuslautakunta 25 §:n mukaisesti?', 2, './chunks_hallinto/chunk3.txt'), ('Kuka päättää aluevaltuuston ja aluehallinnon tehtäviä?', 2, './chunks_hallinto/chunk3.txt'), ('Miten pelastuslaitos liitettiin Pelastuslautakuntaan?', 2, './chunks_hallinto/chunk3.txt'), ('Mitkä asiat päättää Palvelussuhteeseen ottava viranomainen?', 2, './chunks_hallinto/chunk3.txt'), ('Kuka päättää siirroista toimialalta toiselle?', 2, './chunks_hallinto/chunk3.txt'), ('Miten pelastuslautakunta liitettiin Pelastuksen tehtäviin?', 2, './chunks_hallinto/chunk3.txt'), ('Kuka päättää viran siirtämisestä toiseen virkasuhteeseen?', 2, './chunks_hallinto/chunk3.txt'), ('Mitkä asiat päättää aluevaltuusto ja aluehallitus?', 2, './chunks_hallinto/chunk3.txt'), ('Miten hyvinvointialuejohtaja päättää viran kelpoisuusvaatimuksista?', 2, './chunks_hallinto/chunk3.txt'), ('Kuka päättää muutoksista muissa virkojen kelpoisuusvaatimuksissa?', 2, './chunks_hallinto/chunk3.txt'), ('Mitkä asiat päättää Pelastuslautakunta 25 §:n mukaisesti?', 2, './chunks_hallinto/chunk3.txt'), ('Kuka päättää palvelussuhteeseen ottava viranomainen?', 2, './chunks_hallinto/chunk3.txt'), ('Miten toimialajohtaja päättää 76 §:n mukaisesti viranhaltijoiden muutoksista?', 2, './chunks_hallinto/chunk3.txt'), ('Mitkä asiat päättää aluevaltuusto ja aluehallitus?', 2, './chunks_hallinto/chunk3.txt'), ('Kuka päättää Pelastuslautakunta 25 §:n mukaisesti?', 2, './chunks_hallinto/chunk3.txt'), ('Miten hyvinvointialuejohtaja päättää viran kelpoisuusvaatimuksista?', 2, './chunks_hallinto/chunk3.txt'), ('Kuka päättää muutoksista muissa virkojen kelpoisuusvaatimuksissa?', 2, './chunks_hallinto/chunk3.txt'), ('Mitkä asiat päättää aluevaltuusto ja aluehallitus?', 2, './chunks_hallinto/chunk3.txt'), ('Kuka päättää palvelussuhteeseen ottava viranomainen?', 2, './chunks_hallinto/chunk3.txt'), ('Miten toimialajohtaja päättää 76 §:n mukaisesti viranhaltijoiden muutoksista?', 2, './chunks_hallinto/chunk3.txt'), ('Mitkä asiat päättää Pelastuslautakunta 25 §:n mukaisesti?', 2, './chunks_hallinto/chunk3.txt'), ('Kuka päättää aluevaltuuston ja aluehallinnon tehtäviä?', 2, './chunks_hallinto/chunk3.txt'), ('Miten pelastuslaitos liitettiin Pelastuslautakuntaan?', 2, './chunks_hallinto/chunk3.txt'), ('Mitkä asiat päättää Palvelussuhteeseen ottava viranomainen?', 2, './chunks_hallinto/chunk3.txt'), ('Kuka päättää siirroista toimialalta toiselle?', 2, './chunks_hallinto/chunk3.txt'), ('Miten pelastuslautakunta liitettiin Pelastuksen tehtäviin?', 2, './chunks_hallinto/chunk3.txt'), ('Kuka päättää viran siirtämisestä toiseen virkasuhteeseen?', 2, './chunks_hallinto/chunk3.txt'), ('Mitkä asiat päättää aluevaltuusto ja aluehallitus?', 2, './chunks_hallinto/chunk3.txt'), ('Miten hyvinvointialuejohtaja päättää viran kelpoisuusvaatimuksista?', 2, './chunks_hallinto/chunk3.txt'), ('Kuka päättää muutoksista muissa virkojen kelpoisuusvaatimuksissa?', 2, './chunks_hallinto/chunk3.txt'), ('Mitkä asiat päättää Pelastuslautakunta 25 §:n mukaisesti?', 2, './chunks_hallinto/chunk3.txt'), ('Kuka päättää palvelussuhteeseen ottava viranomainen?', 2, './chunks_hallinto/chunk3.txt'), ('Miten toimialajohtaja päättää 76 §:n mukaisesti viranhaltijoiden muutoksista?', 2, './chunks_hallinto/chunk3.txt'), ('Mitkä asiat päättää aluevaltuusto ja aluehallitus?', 2, './chunks_hallinto/chunk3.txt'), ('Kuka päättää Pelastuslautakunta 25 §:n mukaisesti?', 2, './chunks_hallinto/chunk3.txt'), ('Miten hyvinvointialuejohtaja päättää viran kelpoisuusvaatimuksista?', 2, './chunks_hallinto/chunk3.txt'), ('Kuka päättää muutoksista muissa virkojen kelpoisuusvaatimuksissa?', 2, './chunks_hallinto/chunk3.txt'), ('Mitkä asiat päättää aluevaltuusto ja aluehallitus?', 2, './chunks_hallinto/chunk3.txt'), ('Kuka päättää palvelussuhteeseen ottava viranomainen?', 2, './chunks_hallinto/chunk3.txt'), ('Miten toimialajohtaja päättää 76 §:n mukaisesti viranhaltijoiden muutoksista?', 2, './chunks_hallinto/chunk3.txt'), ('Mitkä asiat päättää Pelastuslautakunta 25 §:n mukaisesti?', 2, './chunks_hallinto/chunk3.txt'), ('Kuka päättää aluevaltuuston ja aluehallinnon tehtäviä?', 2, './chunks_hallinto/chunk3.txt'), ('Miten pelastuslaitos liitettiin Pelastuslautakuntaan?', 2, './chunks_hallinto/chunk3.txt'), ('Mitkä asiat päättää Palvelussuhteeseen ottava viranomainen?', 2, './chunks_hallinto/chunk3.txt'), ('Kuka päättää siirroista toimialalta toiselle?', 2, './chunks_hallinto/chunk3.txt'), ('Miten pelastuslautakunta liitettiin Pelastuksen tehtäviin?', 2, './chunks_hallinto/chunk3.txt'), ('Kuka päättää viran siirtämisestä toiseen virkasuhteeseen?', 2, './chunks_hallinto/chunk3.txt'), ('Mitkä asiat päättää aluevaltuusto ja aluehallitus?', 2, './chunks_hallinto/chunk3.txt'), ('Miten hyvinvointialuejohtaja päättää viran kelpoisuusvaatimuksista?', 2, './chunks_hallinto/chunk3.txt'), ('Kuka päättää muutoksista muissa virkojen kelpoisuusvaatimuksissa?', 2, './chunks_hallinto/chunk3.txt'), ('Mitkä asiat päättää Pelastuslautakunta 25 §:n mukaisesti?', 2, './chunks_hallinto/chunk3.txt'), ('Kuka päättää palvelussuhteeseen ottava viranomainen?', 2, './chunks_hallinto/chunk3.txt'), ('Miten toimialajohtaja päättää 76 §:n mukaisesti viranhaltijoiden muutoksista?', 2, './chunks_hallinto/chunk3.txt'), ('Mitkä asiat päättää aluevaltuusto ja aluehallitus?', 2, './chunks_hallinto/chunk3.txt'), ('Kuka päättää Pelastuslautakunta 25 §:n mukaisesti?', 2, './chunks_hallinto/chunk3.txt'), ('Miten hyvinvointialuejohtaja päättää viran kelpoisuusvaatimuksista?', 2, './chunks_hallinto/chunk3.txt'), ('Kuka päättää muutoksista muissa virkojen kelpoisuusvaatimuksissa?', 2, './chunks_hallinto/chunk3.txt'), ('Mitkä asiat päättää aluevaltuusto ja aluehallitus?', 2, './chunks_hallinto/chunk3.txt'), ('Kuka päättää palvelussuhteeseen ottava viranomainen?', 2, './chunks_hallinto/chunk3.txt'), ('Miten toimialajohtaja päättää 76 §:n mukaisesti viranhaltijoiden muutoksista?', 2, './chunks_hallinto/chunk3.txt'), ('Mitkä asiat päättää Pelastuslautakunta 25 §:n mukaisesti?', 2, './chunks_hallinto/chunk3.txt'), ('Kuka päättää aluevaltuuston ja aluehallinnon tehtäviä?', 2, './chunks_hallinto/chunk3.txt'), ('Miten pelastuslaitos liitettiin Pelastuslautakuntaan?', 2, './chunks_hallinto/chunk3.txt'), ('Mitkä asiat päättää Palvelussuhteeseen ottava viranomainen?', 2, './chunks_hallinto/chunk3.txt'), ('Kuka päättää siirroista toimialalta toiselle?', 2, './chunks_hallinto/chunk3.txt'), ('Miten pelastuslautakunta liitettiin Pelastuksen tehtäviin?', 2, './chunks_hallinto/chunk3.txt'), ('Kuka päättää viran siirtämisestä toiseen virkasuhteeseen?', 2, './chunks_hallinto/chunk3.txt'), ('Mitkä asiat päättää aluevaltuusto ja aluehallitus?', 2, './chunks_hallinto/chunk3.txt'), ('Miten hyvinvointialuejohtaja päättää viran kelpoisuusvaatimuksista?', 2, './chunks_hallinto/chunk3.txt'), ('Kuka päättää muutoksista muissa virkojen kelpoisuusvaatimuksissa?', 2, './chunks_hallinto/chunk3.txt'), ('Mitkä asiat päättää Pelastuslautakunta 25 §:n mukaisesti?', 2, './chunks_hallinto/chunk3.txt'), ('Kuka päättää palvelussuhteeseen ottava viranomainen?', 2, './chunks_hallinto/chunk3.txt'), ('Miten toimialajohtaja päättää 76 §:n mukaisesti viranhaltijoiden muutoksista?', 2, './chunks_hallinto/chunk3.txt'), ('Mitkä asiat päättää aluevaltuusto ja aluehallitus?', 2, './chunks_hallinto/chunk3.txt'), ('Kuka päättää Pelastuslautakunta 25 §:n mukaisesti?', 2, './chunks_hallinto/chunk3.txt'), ('Miten hyvinvointialuejohtaja päättää viran kelpoisuusvaatimuksista?', 2, './chunks_hallinto/chunk3.txt'), ('Kuka päättää muutoksista muissa virkojen kelpoisuusvaatimuksissa?', 2, './chunks_hallinto/chunk3.txt'), ('Mitkä asiat päättää aluevaltuusto ja aluehallitus?', 2, './chunks_hallinto/chunk3.txt'), ('Kuka päättää palvelussuhteeseen ottava viranomainen?', 2, './chunks_hallinto/chunk3.txt'), ('Miten toimialajohtaja päättää 76 §:n mukaisesti viranhaltijoiden muutoksista?', 2, './chunks_hallinto/chunk3.txt'), ('Mitkä asiat päättää Pelastuslautakunta 25 §:n mukaisesti?', 2, './chunks_hallinto/chunk3.txt'), ('Kuka päättää aluevaltuuston ja aluehallinnon tehtäviä?', 2, './chunks_hallinto/chunk3.txt'), ('Miten pelastuslaitos liitettiin Pelastuslautakuntaan?', 2, './chunks_hallinto/chunk3.txt'), ('Mitkä asiat päättää Palvelussuhteeseen ottava viranomainen?', 2, './chunks_hallinto/chunk3.txt'), ('Kuka päättää siirroista toimialalta toiselle?', 2, './chunks_hallinto/chunk3.txt'), ('Miten pelastuslautakunta liitettiin Pelastuksen tehtäviin?', 2, './chunks_hallinto/chunk3.txt'), ('Kuka päättää viran siirtämisestä toiseen virkasuhteeseen?', 2, './chunks_hallinto/chunk3.txt'), ('Mitkä asiat päättää aluevaltuusto ja aluehallitus?', 2, './chunks_hallinto/chunk3.txt'), ('Miten hyvinvointialuejohtaja päättää viran kelpoisuusvaatimuksista?', 2, './chunks_hallinto/chunk3.txt'), ('Kuka päättää muutoksista muissa virkojen kelpoisuusvaatimuksissa?', 2, './chunks_hallinto/chunk3.txt'), ('Mitkä asiat päättää Pelastuslautakunta 25 §:n mukaisesti?', 2, './chunks_hallinto/chunk3.txt'), ('Kuka päättää palvelussuhteeseen ottava viranomainen?', 2, './chunks_hallinto/chunk3.txt'), ('Miten toimialajohtaja päättää 76 §:n mukaisesti viranhaltijoiden muutoksista?', 2, './chunks_hallinto/chunk3.txt'), ('Mitkä asiat päättää aluevaltuusto ja aluehallitus?', 2, './chunks_hallinto/chunk3.txt'), ('Kuka päättää Pelastuslautakunta 25 §:n mukaisesti?', 2, './chunks_hallinto/chunk3.txt'), ('Miten hyvinvointialuejohtaja päättää viran kelpoisuusvaatimuksista?', 2, './chunks_hallinto/chunk3.txt'), ('Kuka päättää muutoksista muissa virkojen kelpoisuusvaatimuksissa?', 2, './chunks_hallinto/chunk3.txt'), ('Mitkä asiat päättää aluevaltuusto ja aluehallitus?', 2, './chunks_hallinto/chunk3.txt'), ('Kuka päättää palvelussuhteeseen ottava viranomainen?', 2, './chunks_hallinto/chunk3.txt'), ('Miten toimialajohtaja päättää 76 §:n mukaisesti viranhaltijoiden muutoksista?', 2, './chunks_hallinto/chunk3.txt'), ('Mitkä asiat päättää Pelastuslautakunta 25 §:n mukaisesti?', 2, './chunks_hallinto/chunk3.txt'), ('Kuka päättää aluevaltuuston ja aluehallinnon tehtäviä?', 2, './chunks_hallinto/chunk3.txt'), ('Miten pelastuslaitos liitettiin Pelastuslautakuntaan?', 2, './chunks_hallinto/chunk3.txt'), ('Mitkä asiat päättää Palvelussuhteeseen ottava viranomainen?', 2, './chunks_hallinto/chunk3.txt'), ('Kuka päättää siirroista toimialalta toiselle?', 2, './chunks_hallinto/chunk3.txt'), ('Miten pelastuslautakunta liitettiin Pelastuksen tehtäviin?', 2, './chunks_hallinto/chunk3.txt'), ('Kuka päättää viran siirtämisestä toiseen virkasuhteeseen?', 2, './chunks_hallinto/chunk3.txt'), ('Mitkä asiat päättää aluevaltuusto ja aluehallitus?', 2, './chunks_hallinto/chunk3.txt'), ('Miten hyvinvointialuejohtaja päättää viran kelpoisuusvaatimuksista?', 2, './chunks_hallinto/chunk3.txt'), ('Kuka päättää muutoksista muissa virkojen kelpoisuusvaatimuksissa?', 2, './chunks_hallinto/chunk3.txt'), ('Mitkä asiat päättää Pelastuslautakunta 25 §:n mukaisesti?', 2, './chunks_hallinto/chunk3.txt'), ('Kuka päättää palvelussuhteeseen ottava viranomainen?', 2, './chunks_hallinto/chunk3.txt'), ('Miten toimialajohtaja päättää 76 §:n mukaisesti viranhaltijoiden muutoksista?', 2, './chunks_hallinto/chunk3.txt'), ('Mitkä asiat päättää aluevaltuusto ja aluehallitus?', 2, './chunks_hallinto/chunk3.txt'), ('Kuka päättää Pelastuslautakunta 25 §:n mukaisesti?', 2, './chunks_hallinto/chunk3.txt'), ('Miten hyvinvointialuejohtaja päättää viran kelpoisuusvaatimuksista?', 2, './chunks_hallinto/chunk3.txt'), ('Kuka päättää muutoksista muissa virkojen kelpoisuusvaatimuksissa?', 2, './chunks_hallinto/chunk3.txt'), ('Mitkä asiat päättää aluevaltuusto ja aluehallitus?', 2, './chunks_hallinto/chunk3.txt'), ('Kuka päättää palvelussuhteeseen ottava viranomainen?', 2, './chunks_hallinto/chunk3.txt'), ('Miten toimialajohtaja päättää 76 §:n mukaisesti viranhaltijoiden muutoksista?', 2, './chunks_hallinto/chunk3.txt'), ('Mitkä asiat päättää Pelastuslautakunta 25 §:n mukaisesti?', 2, './chunks_hallinto/chunk3.txt'), ('Kuka päättää aluevaltuuston ja aluehallinnon tehtäviä?', 2, './chunks_hallinto/chunk3.txt'), ('Miten pelastuslaitos liitettiin Pelastuslautakuntaan?', 2, './chunks_hallinto/chunk3.txt'), ('Mitkä asiat päättää Palvelussuhteeseen ottava viranomainen?', 2, './chunks_hallinto/chunk3.txt'), ('Kuka päättää siirroista toimialalta toiselle?', 2, './chunks_hallinto/chunk3.txt'), ('Miten pelastuslautakunta liitettiin Pelastuksen tehtäviin?', 2, './chunks_hallinto/chunk3.txt'), ('Kuka päättää viran siirtämisestä toiseen virkasuhteeseen?', 2, './chunks_hallinto/chunk3.txt'), ('Mitkä asiat päättää aluevaltuusto ja aluehallitus?', 2, './chunks_hallinto/chunk3.txt'), ('Miten hyvinvointialuejohtaja päättää viran kelpoisuusvaatimuksista?', 2, './chunks_hallinto/chunk3.txt'), ('Kuka päättää muutoksista muissa virkojen kelpoisuusvaatimuksissa?', 2, './chunks_hallinto/chunk3.txt'), ('Mitkä asiat päättää Pelastuslautakunta 25 §:n mukaisesti?', 2, './chunks_hallinto/chunk3.txt'), ('Kuka päättää palvelussuhteeseen ottava viranomainen?', 2, './chunks_hallinto/chunk3.txt'), ('Miten toimialajohtaja päättää 76 §:n mukaisesti viranhaltijoiden muutoksista?', 2, './chunks_hallinto/chunk3.txt'), ('Mitkä asiat päättää aluevaltuusto ja aluehallitus?', 2, './chunks_hallinto/chunk3.txt'), ('Kuka päättää Pelastuslautakunta 25 §:n mukaisesti?', 2, './chunks_hallinto/chunk3.txt'), ('Miten hyvinvointialuejohtaja päättää viran kelpoisuusvaatimuksista?', 2, './chunks_hallinto/chunk3.txt'), ('Kuka päättää muutoksista muissa virkojen kelpoisuusvaatimuksissa?', 2, './chunks_hallinto/chunk3.txt'), ('Mitkä asiat päättää aluevaltuusto ja aluehallitus?', 2, './chunks_hallinto/chunk3.txt'), ('Kuka päättää palvelussuhteeseen ottava viranomainen?', 2, './chunks_hallinto/chunk3.txt'), ('Miten toimialajohtaja päättää 76 §:n mukaisesti viranhaltijoiden muutoksista?', 2, './chunks_hallinto/chunk3.txt'), ('Mitkä asiat päättää Pelastuslautakunta 25 §:n mukaisesti?', 2, './chunks_hallinto/chunk3.txt'), ('Kuka päättää aluevaltuuston ja aluehallinnon tehtäviä?', 2, './chunks_hallinto/chunk3.txt'), ('Miten pelastuslaitos liitettiin Pelastuslautakuntaan?', 2, './chunks_hallinto/chunk3.txt'), ('Mitkä asiat päättää Palvelussuhteeseen ottava viranomainen?', 2, './chunks_hallinto/chunk3.txt'), ('Kuka päättää siirroista toimialalta toiselle?', 2, './chunks_hallinto/chunk3.txt'), ('Miten pelastuslautakunta liitettiin Pelastuksen tehtäviin?', 2, './chunks_hallinto/chunk3.txt'), ('Kuka päättää viran siirtämisestä toiseen virkasuhteeseen?', 2, './chunks_hallinto/chunk3.txt'), ('Mitkä asiat päättää aluevaltuusto ja aluehallitus?', 2, './chunks_hallinto/chunk3.txt'), ('Miten hyvinvointialuejohtaja päättää viran kelpoisuusvaatimuksista?', 2, './chunks_hallinto/chunk3.txt'), ('Kuka päättää muutoksista muissa virkojen kelpoisuusvaatimuksissa?', 2, './chunks_hallinto/chunk3.txt'), ('Mitkä asiat päättää Pelastuslautakunta 25 §:n mukaisesti?', 2, './chunks_hallinto/chunk3.txt'), ('Kuka päättää palvelussuhteeseen ottava viranomainen?', 2, './chunks_hallinto/chunk3.txt'), ('Miten toimialajohtaja päättää 76 §:n mukaisesti viranhaltijoiden muutoksista?', 2, './chunks_hallinto/chunk3.txt'), ('Mitkä asiat päättää aluevaltuusto ja aluehallitus?', 2, './chunks_hallinto/chunk3.txt'), ('Kuka päättää Pelastuslautakunta 25 §:n mukaisesti?', 2, './chunks_hallinto/chunk3.txt'), ('Miten hyvinvointialuejohtaja päättää viran kelpoisuusvaatimuksista?', 2, './chunks_hallinto/chunk3.txt'), ('Kuka päättää muutoksista muissa virkojen kelpoisuusvaatimuksissa?', 2, './chunks_hallinto/chunk3.txt'), ('Mitkä asiat päättää aluevaltuusto ja aluehallitus?', 2, './chunks_hallinto/chunk3.txt'), ('Kuka päättää palvelussuhteeseen ottava viranomainen?', 2, './chunks_hallinto/chunk3.txt'), ('Miten toimialajohtaja päättää 76 §:n mukaisesti viranhaltijoiden muutoksista?', 2, './chunks_hallinto/chunk3.txt'), ('Mitkä asiat päättää Pelastuslautakunta 25 §:n mukaisesti?', 2, './chunks_hallinto/chunk3.txt'), ('Kuka päättää aluevaltuuston ja aluehallinnon tehtäviä?', 2, './chunks_hallinto/chunk3.txt'), ('Miten pelastuslaitos liitettiin Pelastuslautakuntaan?', 2, './chunks_hallinto/chunk3.txt'), ('Mitkä asiat päättää Palvelussuhteeseen ottava viranomainen?', 2, './chunks_hallinto/chunk3.txt'), ('Kuka päättää siirroista toimialalta toiselle?', 2, './chunks_hallinto/chunk3.txt'), ('Miten pelastuslautakunta liitettiin Pelastuksen tehtäviin?', 2, './chunks_hallinto/chunk3.txt'), ('Kuka päättää viran siirtämisestä toiseen virkasuhteeseen?', 2, './chunks_hallinto/chunk3.txt'), ('Mitkä asiat päättää aluevaltuusto ja aluehallitus?', 2, './chunks_hallinto/chunk3.txt'), ('Miten hyvinvointialuejohtaja päättää viran kelpoisuusvaatimuksista?', 2, './chunks_hallinto/chunk3.txt'), ('Kuka päättää muutoksista muissa virkojen kelpoisuusvaatimuksissa?', 2, './chunks_hallinto/chunk3.txt'), ('Mitkä asiat päättää Pelastuslautakunta 25 §:n mukaisesti?', 2, './chunks_hallinto/chunk3.txt'), ('Kuka päättää palvelussuhteeseen ottava viranomainen?', 2, './chunks_hallinto/chunk3.txt'), ('Miten toimialajohtaja päättää 76 §:n mukaisesti viranhaltijoiden muutoksista?', 2, './chunks_hallinto/chunk3.txt'), ('Mitkä asiat päättää aluevaltuusto ja aluehallitus?', 2, './chunks_hallinto/chunk3.txt'), ('Kuka päättää Pelastuslautakunta 25 §:n mukaisesti?', 2, './chunks_hallinto/chunk3.txt'), ('Miten hyvinvointialuejohtaja päättää viran kelpoisuusvaatimuksista?', 2, './chunks_hallinto/chunk3.txt'), ('Kuka päättää muutoksista muissa virkojen kelpoisuusvaatimuksissa?', 2, './chunks_hallinto/chunk3.txt'), ('Mitkä asiat päättää aluevaltuusto ja aluehallitus?', 2, './chunks_hallinto/chunk3.txt'), ('Kuka päättää palvelussuhteeseen ottava viranomainen?', 2, './chunks_hallinto/chunk3.txt'), ('Miten toimialajohtaja päättää 76 §:n mukaisesti viranhaltijoiden muutoksista?', 2, './chunks_hallinto/chunk3.txt'), ('Mitkä asiat päättää Pelastuslautakunta 25 §:n mukaisesti?', 2, './chunks_hallinto/chunk3.txt'), ('Kuka päättää aluevaltuuston ja aluehallinnon tehtäviä?', 2, './chunks_hallinto/chunk3.txt'), ('Miten pelastuslaitos liitettiin Pelastuslautakuntaan?', 2, './chunks_hallinto/chunk3.txt'), ('Mitkä asiat päättää Palvelussuhteeseen ottava viranomainen?', 2, './chunks_hallinto/chunk3.txt'), ('Kuka päättää siirroista toimialalta toiselle?', 2, './chunks_hallinto/chunk3.txt'), ('Miten pelastuslautakunta liitettiin Pelastuksen tehtäviin?', 2, './chunks_hallinto/chunk3.txt'), ('Kuka päättää viran siirtämisestä toiseen virkasuhteeseen?', 2, './chunks_hallinto/chunk3.txt'), ('Mitkä asiat päättää aluevaltuusto ja aluehallitus?', 2, './chunks_hallinto/chunk3.txt'), ('Miten hyvinvointialuejohtaja päättää viran kelpoisuusvaatimuksista?', 2, './chunks_hallinto/chunk3.txt'), ('Kuka päättää muutoksista muissa virkojen kelpoisuusvaatimuksissa?', 2, './chunks_hallinto/chunk3.txt'), ('Mitkä asiat päättää Pelastuslautakunta 25 §:n mukaisesti?', 2, './chunks_hallinto/chunk3.txt'), ('Kuka päättää palvelussuhteeseen ottava viranomainen?', 2, './chunks_hallinto/chunk3.txt'), ('Miten toimialajohtaja päättää 76 §:n mukaisesti viranhaltijoiden muutoksista?', 2, './chunks_hallinto/chunk3.txt'), ('Mitkä asiat päättää aluevaltuusto ja aluehallitus?', 2, './chunks_hallinto/chunk3.txt'), ('Kuka päättää Pelastuslautakunta 25 §:n mukaisesti?', 2, './chunks_hallinto/chunk3.txt'), ('Miten hyvinvointialuejohtaja päättää viran kelpoisuusvaatimuksista?', 2, './chunks_hallinto/chunk3.txt'), ('Kuka päättää muutoksista muissa virkojen kelpoisuusvaatimuksissa?', 2, './chunks_hallinto/chunk3.txt'), ('Mitkä asiat päättää aluevaltuusto ja aluehallitus?', 2, './chunks_hallinto/chunk3.txt'), ('Kuka päättää palvelussuhteeseen ottava viranomainen?', 2, './chunks_hallinto/chunk3.txt'), ('Miten toimialajohtaja päättää 76 §:n mukaisesti viranhaltijoiden muutoksista?', 2, './chunks_hallinto/chunk3.txt'), ('Mitkä asiat päättää Pelastuslautakunta 25 §:n mukaisesti?', 2, './chunks_hallinto/chunk3.txt'), ('Kuka päättää aluevaltuuston ja aluehallinnon tehtäviä?', 2, './chunks_hallinto/chunk3.txt'), ('Miten pelastuslaitos liitettiin Pelastuslautakuntaan?', 2, './chunks_hallinto/chunk3.txt'), ('Mitkä asiat päättää Palvelussuhteeseen ottava viranomainen?', 2, './chunks_hallinto/chunk3.txt'), ('Kuka päättää siirroista toimialalta toiselle?', 2, './chunks_hallinto/chunk3.txt'), ('Miten pelastuslautakunta liitettiin Pelastuksen tehtäviin?', 2, './chunks_hallinto/chunk3.txt'), ('Kuka päättää viran siirtämisestä toiseen virkasuhteeseen?', 2, './chunks_hallinto/chunk3.txt'), ('Mitkä asiat päättää aluevaltuusto ja aluehallitus?', 2, './chunks_hallinto/chunk3.txt'), ('Miten hyvinvointialuejohtaja päättää viran kelpoisuusvaatimuksista?', 2, './chunks_hallinto/chunk3.txt'), ('Kuka päättää muutoksista muissa virkojen kelpoisuusvaatimuksissa?', 2, './chunks_hallinto/chunk3.txt'), ('Mitkä asiat päättää Pelastuslautakunta 25 §:n mukaisesti?', 2, './chunks_hallinto/chunk3.txt'), ('Kuka päättää palvelussuhteeseen ottava viranomainen?', 2, './chunks_hallinto/chunk3.txt'), ('Miten toimialajohtaja päättää 76 §:n mukaisesti viranhaltijoiden muutoksista?', 2, './chunks_hallinto/chunk3.txt'), ('Mitkä asiat päättää aluevaltuusto ja aluehallitus?', 2, './chunks_hallinto/chunk3.txt'), ('Kuka päättää Pelastuslautakunta 25 §:n mukaisesti?', 2, './chunks_hallinto/chunk3.txt'), ('Miten hyvinvointialuejohtaja päättää viran kelpoisuusvaatimuksista?', 2, './chunks_hallinto/chunk3.txt'), ('Kuka päättää muutoksista muissa virkojen kelpoisuusvaatimuksissa?', 2, './chunks_hallinto/chunk3.txt'), ('Mitkä asiat päättää aluevaltuusto ja aluehallitus?', 2, './chunks_hallinto/chunk3.txt'), ('Kuka päättää palvelussuhteeseen ottava viranomainen?', 2, './chunks_hallinto/chunk3.txt'), ('Miten toimialajohtaja päättää 76 §:n mukaisesti viranhaltijoiden muutoksista?', 2, './chunks_hallinto/chunk3.txt'), ('Mitkä asiat päättää Pelastuslautakunta 25 §:n mukaisesti?', 2, './chunks_hallinto/chunk3.txt'), ('Kuka päättää aluevaltuuston ja aluehallinnon tehtäviä?', 2, './chunks_hallinto/chunk3.txt'), ('Miten pelastuslaitos liitettiin Pelastuslautakuntaan?', 2, './chunks_hallinto/chunk3.txt'), ('Mitkä asiat päättää Palvelussuhteeseen ottava viranomainen?', 2, './chunks_hallinto/chunk3.txt'), ('Kuka päättää siirroista toimialalta toiselle?', 2, './chunks_hallinto/chunk3.txt'), ('Miten pelastuslautakunta liitettiin Pelastuksen tehtäviin?', 2, './chunks_hallinto/chunk3.txt'), ('Kuka päättää viran siirtämisestä toiseen virkasuhteeseen?', 2, './chunks_hallinto/chunk3.txt'), ('Mitkä asiat päättää aluevaltuusto ja aluehallitus?', 2, './chunks_hallinto/chunk3.txt'), ('Miten hyvinvointialuejohtaja päättää viran kelpoisuusvaatimuksista?', 2, './chunks_hallinto/chunk3.txt'), ('Miten 76 §:n mukaan kumotun virkaan ottamispäätöksen kumoaminen vaikuttaa hyvinvointialueen toimintaan?', 3, './chunks_hallinto/chunk4.txt'), ('Kuinka usein on syytä palauttaa virkaan ottamispäätös uudelleen käsiteltäväksi?', 3, './chunks_hallinto/chunk4.txt'), ('Miten kumotun virkaan ottamispäätöksen kumoaminen vaikuttaa henkilöstön työturvallisuuteen?', 3, './chunks_hallinto/chunk4.txt'), ('Kuinka hyvinvointialueen toiminta muuttuu, jos virkaan ottamispäätös kumottaa lainvoiman päätöksellä?', 3, './chunks_hallinto/chunk4.txt'), ('Miten henkilöstöä koskevia päätöksiä tehdään, kun virkaan ottamispäätös on kumottu?', 3, './chunks_hallinto/chunk4.txt'), ('Kuinka hyvinvointialueen tietoja ja dokumentteja tallennetaan, kun virkaan ottamispäätös kumottaa lainvoiman päätöksellä?', 3, './chunks_hallinto/chunk4.txt'), ('Miten aluehallitus vastaa, kun virkaan ottamispäätös kumottaa lainvoiman päätöksellä?', 3, './chunks_hallinto/chunk4.txt'), ('Kuinka hyvinvointialueen toimintaa seurataan, kun virkaan ottamispäätös kumottaa lainvoiman päätöksellä?', 3, './chunks_hallinto/chunk4.txt'), ('Miten henkilöstön koulutus ja kehittymismahdollisuudet muuttuvat, kun virkaan ottamispäätös kumottaa lainvoiman päätöksellä?', 3, './chunks_hallinto/chunk4.txt'), ('Kuinka hyvinvointialueen tietoja ja dokumentteja luovutaan, kun virkaan ottamispäätös kumottaa lainvoiman päätöksellä?', 3, './chunks_hallinto/chunk4.txt'), ('Miten aluehallituksen tehtävät ja toimivalta muuttuvat, kun virkaan ottamispäätös kumottaa lainvoiman päätöksellä?', 3, './chunks_hallinto/chunk4.txt'), ('Kuinka hyvinvointialueen talous ja budjetti muuttuvat, kun virkaan ottamispäätös kumottaa lainvoiman päätöksellä?', 3, './chunks_hallinto/chunk4.txt'), ('Miten henkilöstön työturvallisuus toteutuu, kun virkaan ottamispäätös kumottaa lainvoiman päätöksellä?', 3, './chunks_hallinto/chunk4.txt'), ('Kuinka hyvinvointialueen toimintaa jatkettaa, kun virkaan ottamispäätös kumottaa lainvoiman päätöksellä?', 3, './chunks_hallinto/chunk4.txt'), ('Miten aluehallituksen päättämiseen perustuvat päätökset muuttuvat, kun virkaan ottamispäätös kumottaa lainvoiman päätöksellä?', 3, './chunks_hallinto/chunk4.txt'), ('Mitä ovat hyvinvointialueen 76 §-päätökset?', 4, './chunks_hallinto/chunk5.txt'), ('Mikä on tarkoitus näillä päätöksillä?', 4, './chunks_hallinto/chunk5.txt'), ('Kuinka monta päätöstä on yhteensä?', 4, './chunks_hallinto/chunk5.txt'), ('Onko näitä päätöksiä voitu muokata edellisessä vaiheessa?', 4, './chunks_hallinto/chunk5.txt'), ('Mikä on tarkoitus nässä päätökseen liittyvässä selvityksessä?', 4, './chunks_hallinto/chunk5.txt'), ('Mikä on tarkoitus nässä päätökseen liittyvässä avustusperiaatteissa?', 4, './chunks_hallinto/chunk5.txt'), ('Mikä on tarkoitus nässä päätökseen liittyvässä sosiaalisen luoton myöntämisen perusteissa?', 4, './chunks_hallinto/chunk5.txt'), ('Vastaa siitä, että hyvinvointialue täyttää tietosuojalainsäädännön mukaiset velvoitteet?', 4, './chunks_hallinto/chunk5.txt'), ('Mitä on kestävän kehityksen ja ympäristönäkökulmien huomioiminen hyvinvointialueella?', 4, './chunks_hallinto/chunk5.txt'), ('Mikä on tarkoitus avustusperiaatteissa?', 4, './chunks_hallinto/chunk5.txt'), ('Vastaa siitä, että avustukset myönnetään käyttöselvitysten pohjalta?', 4, './chunks_hallinto/chunk5.txt'), ('Mitä on sosiaalisen luoton myöntämisen perusteet?', 4, './chunks_hallinto/chunk5.txt'), ('Vastaa siitä, että tiedonhallintalain 4.2 §:n vastuut, käytännöt ja valvonta on määritelty hyvinvointialueella?', 4, './chunks_hallinto/chunk5.txt'), ('Mitä ovat tiedonhallinnan toteuttamiseen liittyvien tehtävien vastuut?', 4, './chunks_hallinto/chunk5.txt'), ('Vastaa siitä, että asiakirjahallinnon ohjeistus, käytännöt, vastuut ja valvonta on määritelty hyvinvointialueen eri tehtävissä?', 4, './chunks_hallinto/chunk5.txt'), ('Mitä ovat hyvinvointialueen arkistonmuodostussuunnitelman sekä tiedonohjaussuunnitelman hyväksymisestä?', 4, './chunks_hallinto/chunk5.txt'), ('Minkälainen on hyvinvointialueen arkistonmuodostussuunnitelma?', 5, './chunks_hallinto/chunk6.txt'), ('Mikä on tiedonohjaussuunnitelman tarkoitus hyvinvointialueella?', 5, './chunks_hallinto/chunk6.txt'), ('Kuka päättää hyvinvointialueen asiakirjahallinnon ohjeistuksesta?', 5, './chunks_hallinto/chunk6.txt'), ('Miten hyvinvointialuejohtaja vastaa siitä, että asiakirjahallinnon hoitaminen on järjestetty annettujen määräysten ja ohjeiden mukaisesti?', 5, './chunks_hallinto/chunk6.txt'), ('Mikä on aluehallituksen sisäisen valvonnan tarkoitus hyvinvointialueella?', 5, './chunks_hallinto/chunk6.txt'), ('Miten hyvinvointialuejohtaja päättää raportoinnin aikataulun ja tavan?', 5, './chunks_hallinto/chunk6.txt'), ('Mitä tietoja hyvinvointialuejohtaja antaa toimintakertomuksessa?', 5, './chunks_hallinto/chunk6.txt'), ('Mikä on sisäisen valvonnan järjestämisessä tarkoitus hyvinvointialueella?', 5, './chunks_hallinto/chunk6.txt'), ('Miten hyvinvointialuejohtaja vastaa sisäisen valvonnan ja riskienhallinnan järjestämisestä?', 5, './chunks_hallinto/chunk6.txt'), ('Mitä on hyväksyttävä omavalvontaohjelman vuosittaisessa raportissa?', 5, './chunks_hallinto/chunk6.txt'), ('Kuka antaa toimintakertomuksen tiedot hyvinvointialueella?', 5, './chunks_hallinto/chunk6.txt'), ('Mikä on sisäisen tarkastuksen vuosisuunnitelman tarkoitus hyvinvointialueella?', 5, './chunks_hallinto/chunk6.txt'), ('Miten hyvinvointialuejohtaja päättää sisäisen tarkastuksen valmistelun pohjalta toimintakertomukseen otettavan osion?', 5, './chunks_hallinto/chunk6.txt'), ('Mitä on sisäisen valvonnan ja riskienhallinnan järjestämisessä tarkoitus hyvinvointialueella?', 5, './chunks_hallinto/chunk6.txt'), ('Mikä on aluehallituksen omavalvontaohjelman tarkoitus hyvinvointialueella?', 5, './chunks_hallinto/chunk6.txt'), ('Miten hyvinvoinnialuejohtaja vastaa sisäisen valvonnan järjestämisestä ja yhteen sovittamisesta?', 5, './chunks_hallinto/chunk6.txt'), ('Mitä on sisäinen tarkastus hyvinvointialueella?', 5, './chunks_hallinto/chunk6.txt'), ('Kuka päättää aluehallituksen sisäisen valvonnan ohjeistuksesta?', 5, './chunks_hallinto/chunk6.txt'), ('Miten hyvinvoinnialuejohtaja antaa vuosittaisessa raportissaan johtopäätökset ja selvityksen omavalvontaohjelman sekä varautumisen toimeenpanosta ja tuloksista?', 5, './chunks_hallinto/chunk6.txt'), ('Mitä on sisäisen valvonnan järjestämisessä tarkoitus hyvinvointialueella?', 5, './chunks_hallinto/chunk6.txt'), ('Miten hyvinvoinnialuejohtaja vastaa sisäisen valvonnan ja riskienhallinnan järjestämisestä siten, että hyvinvointialueen toiminnan olennaiset riskit tunnistetaan ja kuvataan?', 5, './chunks_hallinto/chunk6.txt'), ('Mikä on hyvinvoinnialuejohtajan tehtävä sisäisen valvonnan ja riskienhallinnan järjestämisessä?', 5, './chunks_hallinto/chunk6.txt'), ('Miten aluehallitus vastaa kokonaisvaltaisen sisäisen valvonnan ja riskienhallinnan sekä omavalvontaohjelman ja varautumisen järjestämisestä?', 5, './chunks_hallinto/chunk6.txt'), ('Mitä on sisäisen tarkastuksen valmistelun pohjalta toimintakertomukseen otettavan osion sisältö hyvinvointialueella?', 5, './chunks_hallinto/chunk6.txt')]\n"
     ]
    }
   ],
   "source": [
    "query = \"Generate 300 questions about the followin topic IN FINNISH: \"\n",
    "\n",
    "gd = collect_dataset(labels_and_files, query, chunk_path)\n",
    "print(gd)"
   ]
  },
  {
   "cell_type": "code",
   "execution_count": 355,
   "id": "307ab3cc-2ba6-4238-8cab-337e44016031",
   "metadata": {},
   "outputs": [],
   "source": [
    "# For testing the save function\n",
    "#ds = [('Where did Einstein graduate from in 1900?', 0, './chunks/test.txt'), ('In what year did Einstein successfully acquire Swiss citizenship?', 0, './chunks/test.txt'), ('Why was Einstein deemed medically unfit for military service in Switzerland?', 0, './chunks/test.txt'), (\"What type of job did Einstein secure with the help of Marcel Grossmann's father?\", 0, './chunks/test.txt'), ('What kind of patent applications did Einstein evaluate while working at the Swiss Patent Office?', 0, './chunks/test.txt'), (\"What was Einstein's job title at the Swiss Patent Office?\", 0, './chunks/test.txt'), (\"In what year did Einstein's position at the Swiss Patent Office become permanent?\", 0, './chunks/test.txt'), ('What was the name of the group that Einstein formed in Bern with some friends?', 0, './chunks/test.txt'), (\"Who sometimes joined the Olympia Academy's meetings and limited her participation to careful listening?\", 0, './chunks/test.txt'), (\"Which thinkers' works did the Olympia Academy reflect upon, influencing Einstein's own ideas and beliefs?\", 0, './chunks/test.txt'), (\"What was Albert Einstein's birthdate?\", 1, './chunks/test2.txt'), ('Where was Albert Einstein born?', 1, './chunks/test2.txt'), ('What is Albert Einstein most famous for developing?', 1, './chunks/test2.txt'), ('What is the name of the equation that arises from special relativity and has been called \"the world\\'s most famous equation\"?', 1, './chunks/test2.txt'), ('Why did Albert Einstein receive the Nobel Prize in Physics in 1921?', 1, './chunks/test2.txt'), ('Where did Albert Einstein enroll in 1897 to study mathematics and physics?', 1, './chunks/test2.txt'), ('What position did Albert Einstein secure at the Swiss Patent Office in Bern?', 1, './chunks/test2.txt'), ('Why did Albert Einstein decide to remain in the United States after visiting in 1933?', 1, './chunks/test2.txt'), ('Roosevelt about on the eve of World War II?', 1, './chunks/test2.txt'), ('When was Albert Einstein granted American citizenship?', 1, './chunks/test2.txt'), (\"What was Maria's maiden name, which she retained as her second surname?\", 2, './chunks/test3.txt'), ('In what year did Maria Curie become the first woman to win a Nobel Prize?', 2, './chunks/test3.txt'), (\"Who was Marie Curie's husband and co-winner of her first Nobel Prize?\", 2, './chunks/test3.txt'), ('What was the term that Marie Curie coined for the pioneering work she developed with Pierre Curie?', 2, './chunks/test3.txt'), ('In what year did Maria Curie win her second Nobel Prize, this time in Chemistry?', 2, './chunks/test3.txt'), ('What were the names of the elements that Maria Curie discovered and named after her native country?', 2, './chunks/test3.txt'), ('At what age did Maria Curie die in 1934?', 2, './chunks/test3.txt'), ('Where was Maria Curie buried, with a special distinction?', 2, './chunks/test3.txt'), ('What was the name of the sanatorium where Maria Curie died?', 2, './chunks/test3.txt'), ('In what year did Poland declare the Year of Marie Curie during the International Year of Chemistry?', 2, './chunks/test3.txt'), (\"What was Alan Turing's profession?\", 3, './chunks/test4.txt'), ('What is Turing widely considered to be the father of?', 3, './chunks/test4.txt'), ('Where was Alan Turing born?', 3, './chunks/test4.txt'), ('What was the name of the codebreaking centre where Turing worked during World War II?', 3, './chunks/test4.txt'), ('What was the name of the machine that Turing designed to speed up the breaking of German ciphers?', 3, './chunks/test4.txt'), ('In what year did Turing earn a doctorate degree from Princeton University?', 3, './chunks/test4.txt'), ('What was the name of the computer that Turing designed at the National Physical Laboratory?', 3, './chunks/test4.txt'), (\"In what year did Turing join Max Newman's Computing Machine Laboratory at the Victoria University of Manchester?\", 3, './chunks/test4.txt'), (\"What was the reason for Turing's prosecution in 1952?\", 3, './chunks/test4.txt'), ('In what year did Queen Elizabeth II grant a pardon to Turing, and what was the term given to this law?', 3, './chunks/test4.txt')]"
   ]
  },
  {
   "cell_type": "code",
   "execution_count": 356,
   "id": "0288ba97-ca06-49a5-9446-916a3dbc04b4",
   "metadata": {},
   "outputs": [
    {
     "name": "stdout",
     "output_type": "stream",
     "text": [
      "Saved to ./dataset3\n"
     ]
    }
   ],
   "source": [
    "save_dataset(gd,\"./dataset3\")"
   ]
  },
  {
   "cell_type": "code",
   "execution_count": 9,
   "id": "075e786a-f795-489e-9d6b-5424a90841c8",
   "metadata": {},
   "outputs": [],
   "source": [
    "import pandas as pd\n",
    "from sklearn.utils import shuffle\n",
    "def make_a_split_dataset(file_path, traning_name='dataset_train.csv', validation_name='dataset_validation.csv', testing_name='dataset2_test.csv'):\n",
    "    # Load the dataset\n",
    "    data = pd.read_csv(file_path)\n",
    "\n",
    "    # Shuffle the dataset\n",
    "    shuffled_data = shuffle(data)\n",
    "\n",
    "    # Define the split percentages\n",
    "    train_pct = 0.7\n",
    "    validation_pct = 0.15\n",
    "    test_pct = 0.15\n",
    "\n",
    "    # Ensure the split percentages sum to 1\n",
    "    assert train_pct + validation_pct + test_pct == 1, \"The split percentages must sum to 1.\"\n",
    "\n",
    "    # Calculate the indices for splitting\n",
    "    train_end = int(train_pct * len(shuffled_data))\n",
    "    validation_end = train_end + int(validation_pct * len(shuffled_data))\n",
    "\n",
    "    # Split the data\n",
    "    train_data = shuffled_data[:train_end]\n",
    "    validation_data = shuffled_data[train_end:validation_end]\n",
    "    test_data = shuffled_data[validation_end:]\n",
    "\n",
    "    # Save the datasets into separate CSV files\n",
    "    train_data.to_csv(traning_name, index=False)\n",
    "    validation_data.to_csv(validation_name, index=False)\n",
    "    test_data.to_csv(testing_name, index=False)\n",
    "\n",
    "    print(f\"The data has been split into {len(train_data)} training, {len(validation_data)} validation, and {len(test_data)} test samples.\")"
   ]
  },
  {
   "cell_type": "code",
   "execution_count": 358,
   "id": "221b39f5-6577-47b2-a830-301cecbab7bb",
   "metadata": {},
   "outputs": [
    {
     "name": "stdout",
     "output_type": "stream",
     "text": [
      "The data has been split into 275 training, 58 validation, and 60 test samples.\n"
     ]
    }
   ],
   "source": [
    "make_a_split_dataset(file_path=\"./dataset3/dataset.csv\",\n",
    "                    traning_name='./dataset3/dataset_train.csv',\n",
    "                    validation_name='./dataset3/dataset_validation.csv',\n",
    "                    testing_name='./dataset3/dataset_test.csv')"
   ]
  },
  {
   "cell_type": "markdown",
   "id": "c569498f-c8cc-4863-b03b-b350fca07d5c",
   "metadata": {},
   "source": [
    "### Load Saved Dataset"
   ]
  },
  {
   "cell_type": "code",
   "execution_count": 359,
   "id": "32188ed9-3ab0-4920-95e4-fa85d82ecff1",
   "metadata": {},
   "outputs": [
    {
     "data": {
      "application/vnd.jupyter.widget-view+json": {
       "model_id": "9bef3feaeda64a3590c47bb852f78045",
       "version_major": 2,
       "version_minor": 0
      },
      "text/plain": [
       "Generating train split: 0 examples [00:00, ? examples/s]"
      ]
     },
     "metadata": {},
     "output_type": "display_data"
    },
    {
     "data": {
      "application/vnd.jupyter.widget-view+json": {
       "model_id": "90853c8619c1462195620554d481be22",
       "version_major": 2,
       "version_minor": 0
      },
      "text/plain": [
       "Generating validation split: 0 examples [00:00, ? examples/s]"
      ]
     },
     "metadata": {},
     "output_type": "display_data"
    },
    {
     "data": {
      "application/vnd.jupyter.widget-view+json": {
       "model_id": "6fdc2a705e6e43fe840674b3c32680a9",
       "version_major": 2,
       "version_minor": 0
      },
      "text/plain": [
       "Generating test split: 0 examples [00:00, ? examples/s]"
      ]
     },
     "metadata": {},
     "output_type": "display_data"
    }
   ],
   "source": [
    "data_files = {\"train\": \"dataset_train.csv\", \"validation\": \"dataset_validation.csv\", \"test\": \"dataset_test.csv\" }\n",
    "gen_dataset = load_dataset(\"./dataset3\", data_files=data_files)"
   ]
  },
  {
   "cell_type": "code",
   "execution_count": 360,
   "id": "1eb93afa-7223-499e-83cb-88f4134efd53",
   "metadata": {},
   "outputs": [
    {
     "name": "stdout",
     "output_type": "stream",
     "text": [
      "DatasetDict({\n",
      "    train: Dataset({\n",
      "        features: ['text', 'label', 'file'],\n",
      "        num_rows: 275\n",
      "    })\n",
      "    validation: Dataset({\n",
      "        features: ['text', 'label', 'file'],\n",
      "        num_rows: 58\n",
      "    })\n",
      "    test: Dataset({\n",
      "        features: ['text', 'label', 'file'],\n",
      "        num_rows: 60\n",
      "    })\n",
      "})\n"
     ]
    }
   ],
   "source": [
    "print(gen_dataset)"
   ]
  },
  {
   "cell_type": "markdown",
   "id": "055041d7-2cdd-46e4-860e-37005fbb5985",
   "metadata": {},
   "source": [
    "## Initialize BERT model"
   ]
  },
  {
   "cell_type": "code",
   "execution_count": 13,
   "id": "84c83f1a-06da-49a2-bcfc-f38edf9b8afe",
   "metadata": {},
   "outputs": [],
   "source": [
    "#model_ckpt = \"distilbert-base-uncased\"\n",
    "#tokenizer = AutoTokenizer.from_pretrained(model_ckpt)\n",
    "#device = torch.device(\"cuda\" if torch.cuda.is_available() else \"cpu\")\n",
    "#print(\"device: \",device)\n",
    "#model = AutoModel.from_pretrained(model_ckpt).to(device)"
   ]
  },
  {
   "cell_type": "code",
   "execution_count": 19,
   "id": "a37944f9-e462-4d18-bb5e-5c1bb1870c38",
   "metadata": {},
   "outputs": [],
   "source": [
    "tokenizer = BertTokenizer.from_pretrained(\"./bert-base-finnish-cased-v1\")"
   ]
  },
  {
   "cell_type": "code",
   "execution_count": 20,
   "id": "a8b35fd0-a7e4-46b3-9ddd-e2f85b7a1cc5",
   "metadata": {},
   "outputs": [],
   "source": [
    "def tokenize(batch):\n",
    "    return tokenizer(batch[\"text\"], padding=True, truncation=True)\n",
    "\n",
    "def encode_dataset(df_source):\n",
    "  df_encoded = df_source.map(tokenize, batched=True, batch_size=None)\n",
    "  df_encoded.set_format(\"torch\", columns=[\"input_ids\", \"attention_mask\", \"label\"])\n",
    "  return df_encoded\n",
    "\n",
    "\n",
    "def extract_hidden_states(batch):\n",
    "    # Place model inputs on the GPU\n",
    "    inputs = {k:v.to(device) for k,v in batch.items()\n",
    "              if k in tokenizer.model_input_names}\n",
    "    # Extract last hidden states\n",
    "    with torch.no_grad():\n",
    "        last_hidden_state = model(**inputs).last_hidden_state\n",
    "    # Return vector for [CLS] token\n",
    "    return {\"hidden_state\": last_hidden_state[:,0].cpu().numpy()}\n",
    "\n",
    "def extract_hidden_states_df(df_source):\n",
    "  df_encoded = encode_dataset(df_source)\n",
    "  df_hidden = df_encoded.map(extract_hidden_states, batched=True)\n",
    "  return df_hidden"
   ]
  },
  {
   "cell_type": "code",
   "execution_count": 21,
   "id": "8047eebc-28d5-47d2-a75e-86c2e1368c5c",
   "metadata": {},
   "outputs": [],
   "source": [
    "\n",
    "\n",
    "def compute_metrics(pred):\n",
    "    labels = pred.label_ids\n",
    "    preds = pred.predictions.argmax(-1)\n",
    "    f1 = f1_score(labels, preds, average=\"weighted\")\n",
    "    acc = accuracy_score(labels, preds)\n",
    "    return {\"accuracy\": acc, \"f1\": f1}\n",
    "\n",
    "\n",
    "def plot_confusion_matrix(y_preds, y_true, labels):\n",
    "    cm = confusion_matrix(y_true, y_preds, normalize=\"true\")\n",
    "    fig, ax = plt.subplots(figsize=(6, 6))\n",
    "    disp = ConfusionMatrixDisplay(confusion_matrix=cm, display_labels=labels)\n",
    "    disp.plot(cmap=\"Blues\", values_format=\".2f\", ax=ax, colorbar=False)\n",
    "    plt.title(\"Normalized confusion matrix\")\n",
    "    plt.show()\n",
    "\n",
    "def measure_model_performance(trainer, df_input, y_labels, labels_list):\n",
    "    preds_output = trainer.predict(df_input)\n",
    "    print(preds_output.metrics)\n",
    "    y_preds = np.argmax(preds_output.predictions, axis=1)\n",
    "    plot_confusion_matrix(y_preds, y_labels, labels_list)"
   ]
  },
  {
   "cell_type": "code",
   "execution_count": 22,
   "id": "881e9136-f47b-4efc-afcf-cb1dbad5efd9",
   "metadata": {},
   "outputs": [],
   "source": [
    "def train_model(model_ckpt, training_args, df_encoded_src, num_labels):\n",
    "    # Create Model\n",
    "    model = (AutoModelForSequenceClassification\n",
    "            .from_pretrained(model_ckpt, num_labels=num_labels)\n",
    "            .to(device))\n",
    "    #model = transformers.BertForMaskedLM.from_pretrained(\"./bert-base-finnish-cased-v1\", num_labels=num_labels) \n",
    "    #model.eval()\n",
    "    #if torch.cuda.is_available():\n",
    "    #    model = model.cuda()\n",
    "    model_name = f\"models/{model_ckpt}-finetuned-chunk-classification\"\n",
    "    training_args.output_dir = model_name\n",
    "    trainer = Trainer(model=model, args=training_args,\n",
    "                    compute_metrics=compute_metrics,\n",
    "                    train_dataset=df_encoded_src[\"train\"],\n",
    "                    eval_dataset=df_encoded_src[\"validation\"],\n",
    "                    tokenizer=tokenizer)\n",
    "\n",
    "    \n",
    "    logits = model.logits if hasattr(model, 'logits') else model  # In case outputs are in a different format\n",
    "    print(\"Model output shape:\", logits)\n",
    "    trainer.train()\n",
    "    return trainer"
   ]
  },
  {
   "cell_type": "code",
   "execution_count": 364,
   "id": "7072379f-d6ef-4e9f-bb67-d0af6e01336a",
   "metadata": {},
   "outputs": [],
   "source": [
    "gen_dataset.reset_format()#hf_dataset.reset_format()"
   ]
  },
  {
   "cell_type": "code",
   "execution_count": 365,
   "id": "a2b31c21-f941-4223-925c-ce4290be1ecb",
   "metadata": {},
   "outputs": [
    {
     "data": {
      "application/vnd.jupyter.widget-view+json": {
       "model_id": "ca7e5cc3381f4287b7f4502e0938c865",
       "version_major": 2,
       "version_minor": 0
      },
      "text/plain": [
       "Map:   0%|          | 0/275 [00:00<?, ? examples/s]"
      ]
     },
     "metadata": {},
     "output_type": "display_data"
    },
    {
     "data": {
      "application/vnd.jupyter.widget-view+json": {
       "model_id": "d4d90516c58f461cb8bcd8a67bd7079a",
       "version_major": 2,
       "version_minor": 0
      },
      "text/plain": [
       "Map:   0%|          | 0/58 [00:00<?, ? examples/s]"
      ]
     },
     "metadata": {},
     "output_type": "display_data"
    },
    {
     "data": {
      "application/vnd.jupyter.widget-view+json": {
       "model_id": "77f4ae03722046929810cd47a7ea2b8e",
       "version_major": 2,
       "version_minor": 0
      },
      "text/plain": [
       "Map:   0%|          | 0/60 [00:00<?, ? examples/s]"
      ]
     },
     "metadata": {},
     "output_type": "display_data"
    },
    {
     "data": {
      "text/plain": [
       "DatasetDict({\n",
       "    train: Dataset({\n",
       "        features: ['text', 'label', 'file', 'input_ids', 'token_type_ids', 'attention_mask'],\n",
       "        num_rows: 275\n",
       "    })\n",
       "    validation: Dataset({\n",
       "        features: ['text', 'label', 'file', 'input_ids', 'token_type_ids', 'attention_mask'],\n",
       "        num_rows: 58\n",
       "    })\n",
       "    test: Dataset({\n",
       "        features: ['text', 'label', 'file', 'input_ids', 'token_type_ids', 'attention_mask'],\n",
       "        num_rows: 60\n",
       "    })\n",
       "})"
      ]
     },
     "execution_count": 365,
     "metadata": {},
     "output_type": "execute_result"
    }
   ],
   "source": [
    "df_encoded = encode_dataset(gen_dataset)#df_encoded = encode_dataset(hf_dataset)\n",
    "df_encoded"
   ]
  },
  {
   "cell_type": "code",
   "execution_count": 26,
   "id": "2e302881-67cf-4ae0-97e5-a2b86fcc34fa",
   "metadata": {},
   "outputs": [],
   "source": [
    "label_names = ['CHUNK1', 'CHUNK2', 'CHUNK3', 'CHUNK4', 'CHUNK5', 'CHUNK6']"
   ]
  },
  {
   "cell_type": "code",
   "execution_count": 367,
   "id": "adfb8634-4323-4118-9810-a528aded8f7e",
   "metadata": {},
   "outputs": [
    {
     "name": "stderr",
     "output_type": "stream",
     "text": [
      "C:\\Users\\amiri\\anaconda3\\envs\\RagBERT\\Lib\\site-packages\\transformers\\training_args.py:1575: FutureWarning: `evaluation_strategy` is deprecated and will be removed in version 4.46 of 🤗 Transformers. Use `eval_strategy` instead\n",
      "  warnings.warn(\n"
     ]
    }
   ],
   "source": [
    "batch_size = 30\n",
    "logging_steps = len(df_encoded['train']) // batch_size\n",
    "num_train_epochs = 10\n",
    "lr_initial = 2e-5\n",
    "weight_decay = 1e-3\n",
    "output_dir = \"\"\n",
    "training_args = TrainingArguments(output_dir=output_dir,\n",
    "                                num_train_epochs=num_train_epochs,\n",
    "                                learning_rate=lr_initial,\n",
    "                                per_device_train_batch_size=batch_size,\n",
    "                                per_device_eval_batch_size=batch_size,\n",
    "                                weight_decay=weight_decay,\n",
    "                                evaluation_strategy=\"epoch\",\n",
    "                                disable_tqdm=False,\n",
    "                                logging_steps=logging_steps,\n",
    "                                push_to_hub=False,\n",
    "                                log_level=\"error\")"
   ]
  },
  {
   "cell_type": "code",
   "execution_count": 368,
   "id": "d9df4c6f-4c9f-4108-afcc-56d220b6d567",
   "metadata": {
    "scrolled": true
   },
   "outputs": [
    {
     "name": "stderr",
     "output_type": "stream",
     "text": [
      "C:\\Users\\amiri\\AppData\\Local\\Temp\\ipykernel_37868\\3310908646.py:12: FutureWarning: `tokenizer` is deprecated and will be removed in version 5.0.0 for `Trainer.__init__`. Use `processing_class` instead.\n",
      "  trainer = Trainer(model=model, args=training_args,\n"
     ]
    },
    {
     "name": "stdout",
     "output_type": "stream",
     "text": [
      "Model output shape: BertForSequenceClassification(\n",
      "  (bert): BertModel(\n",
      "    (embeddings): BertEmbeddings(\n",
      "      (word_embeddings): Embedding(50105, 768, padding_idx=0)\n",
      "      (position_embeddings): Embedding(512, 768)\n",
      "      (token_type_embeddings): Embedding(2, 768)\n",
      "      (LayerNorm): LayerNorm((768,), eps=1e-12, elementwise_affine=True)\n",
      "      (dropout): Dropout(p=0.1, inplace=False)\n",
      "    )\n",
      "    (encoder): BertEncoder(\n",
      "      (layer): ModuleList(\n",
      "        (0-11): 12 x BertLayer(\n",
      "          (attention): BertAttention(\n",
      "            (self): BertSdpaSelfAttention(\n",
      "              (query): Linear(in_features=768, out_features=768, bias=True)\n",
      "              (key): Linear(in_features=768, out_features=768, bias=True)\n",
      "              (value): Linear(in_features=768, out_features=768, bias=True)\n",
      "              (dropout): Dropout(p=0.1, inplace=False)\n",
      "            )\n",
      "            (output): BertSelfOutput(\n",
      "              (dense): Linear(in_features=768, out_features=768, bias=True)\n",
      "              (LayerNorm): LayerNorm((768,), eps=1e-12, elementwise_affine=True)\n",
      "              (dropout): Dropout(p=0.1, inplace=False)\n",
      "            )\n",
      "          )\n",
      "          (intermediate): BertIntermediate(\n",
      "            (dense): Linear(in_features=768, out_features=3072, bias=True)\n",
      "            (intermediate_act_fn): GELUActivation()\n",
      "          )\n",
      "          (output): BertOutput(\n",
      "            (dense): Linear(in_features=3072, out_features=768, bias=True)\n",
      "            (LayerNorm): LayerNorm((768,), eps=1e-12, elementwise_affine=True)\n",
      "            (dropout): Dropout(p=0.1, inplace=False)\n",
      "          )\n",
      "        )\n",
      "      )\n",
      "    )\n",
      "    (pooler): BertPooler(\n",
      "      (dense): Linear(in_features=768, out_features=768, bias=True)\n",
      "      (activation): Tanh()\n",
      "    )\n",
      "  )\n",
      "  (dropout): Dropout(p=0.1, inplace=False)\n",
      "  (classifier): Linear(in_features=768, out_features=6, bias=True)\n",
      ")\n"
     ]
    },
    {
     "data": {
      "text/html": [
       "\n",
       "    <div>\n",
       "      \n",
       "      <progress value='100' max='100' style='width:300px; height:20px; vertical-align: middle;'></progress>\n",
       "      [100/100 00:21, Epoch 10/10]\n",
       "    </div>\n",
       "    <table border=\"1\" class=\"dataframe\">\n",
       "  <thead>\n",
       " <tr style=\"text-align: left;\">\n",
       "      <th>Epoch</th>\n",
       "      <th>Training Loss</th>\n",
       "      <th>Validation Loss</th>\n",
       "      <th>Accuracy</th>\n",
       "      <th>F1</th>\n",
       "    </tr>\n",
       "  </thead>\n",
       "  <tbody>\n",
       "    <tr>\n",
       "      <td>1</td>\n",
       "      <td>1.126800</td>\n",
       "      <td>0.686973</td>\n",
       "      <td>0.775862</td>\n",
       "      <td>0.677938</td>\n",
       "    </tr>\n",
       "    <tr>\n",
       "      <td>2</td>\n",
       "      <td>0.653500</td>\n",
       "      <td>0.436308</td>\n",
       "      <td>0.844828</td>\n",
       "      <td>0.803331</td>\n",
       "    </tr>\n",
       "    <tr>\n",
       "      <td>3</td>\n",
       "      <td>0.421300</td>\n",
       "      <td>0.292199</td>\n",
       "      <td>0.965517</td>\n",
       "      <td>0.964380</td>\n",
       "    </tr>\n",
       "    <tr>\n",
       "      <td>4</td>\n",
       "      <td>0.257900</td>\n",
       "      <td>0.206993</td>\n",
       "      <td>0.982759</td>\n",
       "      <td>0.981129</td>\n",
       "    </tr>\n",
       "    <tr>\n",
       "      <td>5</td>\n",
       "      <td>0.196800</td>\n",
       "      <td>0.167586</td>\n",
       "      <td>0.982759</td>\n",
       "      <td>0.984386</td>\n",
       "    </tr>\n",
       "    <tr>\n",
       "      <td>6</td>\n",
       "      <td>0.141400</td>\n",
       "      <td>0.134012</td>\n",
       "      <td>0.982759</td>\n",
       "      <td>0.984386</td>\n",
       "    </tr>\n",
       "    <tr>\n",
       "      <td>7</td>\n",
       "      <td>0.108300</td>\n",
       "      <td>0.120494</td>\n",
       "      <td>0.982759</td>\n",
       "      <td>0.984386</td>\n",
       "    </tr>\n",
       "    <tr>\n",
       "      <td>8</td>\n",
       "      <td>0.082000</td>\n",
       "      <td>0.110572</td>\n",
       "      <td>0.982759</td>\n",
       "      <td>0.984386</td>\n",
       "    </tr>\n",
       "    <tr>\n",
       "      <td>9</td>\n",
       "      <td>0.048100</td>\n",
       "      <td>0.105878</td>\n",
       "      <td>0.982759</td>\n",
       "      <td>0.984386</td>\n",
       "    </tr>\n",
       "    <tr>\n",
       "      <td>10</td>\n",
       "      <td>0.046400</td>\n",
       "      <td>0.104886</td>\n",
       "      <td>0.982759</td>\n",
       "      <td>0.984386</td>\n",
       "    </tr>\n",
       "  </tbody>\n",
       "</table><p>"
      ],
      "text/plain": [
       "<IPython.core.display.HTML object>"
      ]
     },
     "metadata": {},
     "output_type": "display_data"
    }
   ],
   "source": [
    "model_ckpt = \"./bert-base-finnish-cased-v1\"\n",
    "#tokenizer = AutoTokenizer.from_pretrained(model_ckpt)\n",
    "\n",
    "#trainer = train_model(model_ckpt, training_args, df_encoded, num_labels=hf_dataset['train'].features['label'].num_classes)\n",
    "trainer = train_model(model_ckpt, training_args, df_encoded, num_labels=len(label_names))"
   ]
  },
  {
   "cell_type": "markdown",
   "id": "b2d50f11-e693-4d7a-b8df-fb4c6a2efeba",
   "metadata": {},
   "source": [
    "### Save model"
   ]
  },
  {
   "cell_type": "code",
   "execution_count": 369,
   "id": "1a0a1ff5-c1a6-4a82-9c98-fd48af24f1e3",
   "metadata": {},
   "outputs": [],
   "source": [
    "trainer.save_model(\"distil_bert_fine_chunk_hallinto_classifier-v2\")"
   ]
  },
  {
   "cell_type": "markdown",
   "id": "bf24a456-7f05-4bb0-a9b7-94435edaa975",
   "metadata": {},
   "source": [
    "### Initial analytics"
   ]
  },
  {
   "cell_type": "code",
   "execution_count": 10,
   "id": "0fb5212b-01a9-4fa5-b189-cb8ba794266a",
   "metadata": {},
   "outputs": [
    {
     "name": "stderr",
     "output_type": "stream",
     "text": [
      "Device set to use cuda:0\n",
      "C:\\Users\\amiri\\anaconda3\\envs\\RagBERT\\Lib\\site-packages\\transformers\\pipelines\\text_classification.py:106: UserWarning: `return_all_scores` is now deprecated,  if want a similar functionality use `top_k=None` instead of `return_all_scores=True` or `top_k=1` instead of `return_all_scores=False`.\n",
      "  warnings.warn(\n"
     ]
    }
   ],
   "source": [
    "from transformers import pipeline\n",
    "classifier = pipeline(\"text-classification\", model=\"distil_bert_fine_chunk_hallinto_classifier-v2\")\n",
    "custom_tweet = \"Voiko luottamustehtävässä edelleen olla, jos muuttaa toiselle paikkakunnalle?\"\n",
    "preds = classifier(custom_tweet, return_all_scores=True)"
   ]
  },
  {
   "cell_type": "code",
   "execution_count": 24,
   "id": "6bb37b0a-78b9-4482-a655-fd4b8074cd70",
   "metadata": {},
   "outputs": [
    {
     "name": "stdout",
     "output_type": "stream",
     "text": [
      "[[{'label': 'LABEL_0', 'score': 0.731187105178833}, {'label': 'LABEL_1', 'score': 0.030428817495703697}, {'label': 'LABEL_2', 'score': 0.15602150559425354}, {'label': 'LABEL_3', 'score': 0.038813311606645584}, {'label': 'LABEL_4', 'score': 0.026693550869822502}, {'label': 'LABEL_5', 'score': 0.016855783760547638}]]\n"
     ]
    }
   ],
   "source": [
    "print(preds)"
   ]
  },
  {
   "cell_type": "code",
   "execution_count": 27,
   "id": "a2e3bdbd-2098-40d2-9c83-c93efeb5a290",
   "metadata": {},
   "outputs": [],
   "source": [
    "labels_names_list = label_names"
   ]
  },
  {
   "cell_type": "code",
   "execution_count": 28,
   "id": "10fd8336-b788-493a-8fc5-be5ab7309637",
   "metadata": {},
   "outputs": [
    {
     "data": {
      "image/png": "[encoded data removed]",
      "text/plain": [
       "<Figure size 640x480 with 1 Axes>"
      ]
     },
     "metadata": {},
     "output_type": "display_data"
    }
   ],
   "source": [
    "preds_df = pd.DataFrame(preds[0])\n",
    "plt.bar(labels_names_list, 100 * preds_df[\"score\"], color='C0')\n",
    "plt.title(f'\"{custom_tweet}\"')\n",
    "plt.ylabel(\"Class probability (%)\")\n",
    "plt.show()"
   ]
  },
  {
   "cell_type": "code",
   "execution_count": 29,
   "id": "98b98425-f51d-47c1-8678-eb9eb4572c56",
   "metadata": {},
   "outputs": [
    {
     "data": {
      "image/png": "[encoded data removed]",
      "text/plain": [
       "<Figure size 640x480 with 1 Axes>"
      ]
     },
     "metadata": {},
     "output_type": "display_data"
    }
   ],
   "source": [
    "custom_tweet = \"Voidaanko turhaa irtaimistoa lahjoittaa yliopistolle ja kuka päättää irtaimiston lahjoittamisesta?\"\n",
    "preds = classifier(custom_tweet, return_all_scores=True)\n",
    "preds_df = pd.DataFrame(preds[0])\n",
    "plt.bar(labels_names_list, 100 * preds_df[\"score\"], color='C0')\n",
    "plt.title(f'\"{custom_tweet}\"')\n",
    "plt.ylabel(\"Class probability (%)\")\n",
    "plt.show()"
   ]
  },
  {
   "cell_type": "code",
   "execution_count": 30,
   "id": "e630b1cd-c3e6-4dbc-85b9-2e087f40b602",
   "metadata": {},
   "outputs": [
    {
     "data": {
      "image/png": "[encoded data removed]",
      "text/plain": [
       "<Figure size 640x480 with 1 Axes>"
      ]
     },
     "metadata": {},
     "output_type": "display_data"
    },
    {
     "name": "stdout",
     "output_type": "stream",
     "text": [
      "Kuka päättää uusien virkojen perustamisesta?\n"
     ]
    }
   ],
   "source": [
    "custom_tweet = \"Kuka päättää uusien virkojen perustamisesta?\"\n",
    "preds = classifier(custom_tweet, return_all_scores=True)\n",
    "preds_df = pd.DataFrame(preds[0])\n",
    "plt.bar(labels_names_list, 100 * preds_df[\"score\"], color='C0')\n",
    "plt.ylabel(\"Class probability (%)\")\n",
    "plt.show()\n",
    "print(custom_tweet)"
   ]
  },
  {
   "cell_type": "code",
   "execution_count": 33,
   "id": "96e2dba8-6294-4eca-8554-05580f5f3eef",
   "metadata": {},
   "outputs": [
    {
     "data": {
      "image/png": "[encoded data removed]",
      "text/plain": [
       "<Figure size 640x480 with 1 Axes>"
      ]
     },
     "metadata": {},
     "output_type": "display_data"
    },
    {
     "name": "stdout",
     "output_type": "stream",
     "text": [
      "Mikäli toimipisteessä sattuu vesivahinko, jonka myötä toiminta\n",
      " tulee siirtää muualle, kuka päättää toimipisteen siirrosta, mikäli\n",
      " asiasta on jo tehty viranhaltijapäätös kahdelle kuukaudelle, mutta\n",
      " alkuperäisessä toimipisteessä olevien laajojen ongelmien vuoksi,\n",
      " toimintaa joudutaan edelleen jatkamaan toisessa toimipisteessä?\n"
     ]
    }
   ],
   "source": [
    "custom_tweet = \"\"\"Mikäli toimipisteessä sattuu vesivahinko, jonka myötä toiminta\n",
    " tulee siirtää muualle, kuka päättää toimipisteen siirrosta, mikäli\n",
    " asiasta on jo tehty viranhaltijapäätös kahdelle kuukaudelle, mutta\n",
    " alkuperäisessä toimipisteessä olevien laajojen ongelmien vuoksi,\n",
    " toimintaa joudutaan edelleen jatkamaan toisessa toimipisteessä?\"\"\"\n",
    "preds = classifier(custom_tweet, return_all_scores=True)\n",
    "preds_df = pd.DataFrame(preds[0])\n",
    "plt.bar(labels_names_list, 100 * preds_df[\"score\"], color='C0')\n",
    "plt.ylabel(\"Class probability (%)\")\n",
    "plt.show()\n",
    "print(custom_tweet)"
   ]
  },
  {
   "cell_type": "code",
   "execution_count": 34,
   "id": "8e79685c-4764-421b-ac1c-16d47185e1b9",
   "metadata": {},
   "outputs": [
    {
     "data": {
      "image/png": "[encoded data removed]",
      "text/plain": [
       "<Figure size 640x480 with 1 Axes>"
      ]
     },
     "metadata": {},
     "output_type": "display_data"
    },
    {
     "name": "stdout",
     "output_type": "stream",
     "text": [
      "Mikä on aluehallituksen rooli osakeyhtiön perustamiseen liittyvissä asioissa?\n"
     ]
    }
   ],
   "source": [
    "custom_tweet = \"Mikä on aluehallituksen rooli osakeyhtiön perustamiseen liittyvissä asioissa?\"\n",
    "preds = classifier(custom_tweet, return_all_scores=True)\n",
    "preds_df = pd.DataFrame(preds[0])\n",
    "plt.bar(labels_names_list, 100 * preds_df[\"score\"], color='C0')\n",
    "plt.ylabel(\"Class probability (%)\")\n",
    "plt.show()\n",
    "print(custom_tweet)"
   ]
  },
  {
   "cell_type": "markdown",
   "id": "6b39eaba-5739-4024-99f1-ddc4a078afec",
   "metadata": {},
   "source": [
    "### TurkuNLP/bert-base-finnish-cased-v1"
   ]
  },
  {
   "cell_type": "code",
   "execution_count": null,
   "id": "172ba285-1af3-4ecc-ba01-2a7556fadb33",
   "metadata": {},
   "outputs": [],
   "source": []
  },
  {
   "cell_type": "code",
   "execution_count": 35,
   "id": "5bec63a1-f9ef-49a7-acfb-3baa60bfbf62",
   "metadata": {},
   "outputs": [],
   "source": [
    "#import transformers\n",
    "#model = transformers.BertForMaskedLM.from_pretrained(\"./bert-base-finnish-cased-v1\") \n",
    "#model.eval()\n",
    "#if torch.cuda.is_available():\n",
    "#    model = model.cuda()\n",
    "#tokenizer = transformers.BertTokenizer.from_pretrained(\"./bert-base-finnish-cased-v1\")"
   ]
  },
  {
   "cell_type": "code",
   "execution_count": 87,
   "id": "85525d50-7691-4b24-b4b7-e2d6abbd66b6",
   "metadata": {},
   "outputs": [
    {
     "name": "stdout",
     "output_type": "stream",
     "text": [
      "LABEL_0 [{'label': 'LABEL_0', 'file': 'chunk.txt'}]\n",
      "[{'label': 'LABEL_0', 'file': 'chunk.txt'}, {'label': 'LABEL_1', 'file': 'chunk1.txt'}, {'label': 'LABEL_2', 'file': 'chunk2.txt'}, {'label': 'LABEL_3', 'file': 'chunk3.txt'}, {'label': 'LABEL_4', 'file': 'chunk4.txt'}, {'label': 'LABEL_5', 'file': 'chunk5.txt'}]\n",
      "76 Â§\n",
      "Yleinen vaalikelpoisuus\n",
      "Vaalikelpoinen hyvinvointialueen luottamustoimeen on henkilÃ¶:\n",
      "\n",
      "1)â€‚joka on kyseisen hyvinvointialueen asukas;\n",
      "\n",
      "2)â€‚jolla on jollakin hyvinvointialueella Ã¤Ã¤nioikeus aluevaaleissa sinÃ¤ vuonna, jona valtuutetut valitaan tai vaali muuhun luottamustoimeen toimitetaan; ja\n",
      "\n",
      "3)â€‚jota ei ole julistettu vajaavaltaiseksi.\n",
      "\n",
      "77 Â§\n",
      "Vaalikelpoisuus aluevaltuustoon\n",
      "Vaalikelpoinen aluevaltuustoon ei ole:\n",
      "\n",
      "1)â€‚valtion virkamies, joka hoitaa vÃ¤littÃ¶mÃ¤sti hyvinvointialuetta koskevia valvontatehtÃ¤viÃ¤;\n",
      "\n",
      "2)â€‚hyvinvointialueen palveluksessa oleva henkilÃ¶, joka toimii aluehallituksen tai lautakunnan tehtÃ¤vÃ¤alueen tai hyvinvointialueen liikelaitoksen johtavassa tehtÃ¤vÃ¤ssÃ¤ tai sellaiseen rinnastettavassa vastuullisessa tehtÃ¤vÃ¤ssÃ¤;\n",
      "\n",
      "3)â€‚hyvinvointialueen mÃ¤Ã¤rÃ¤ysvallassa olevan yhteisÃ¶n tai sÃ¤Ã¤tiÃ¶n palveluksessa oleva henkilÃ¶, joka asemaltaan voidaan rinnastaa 2 kohdassa tarkoitettuun hyvinvointialueen palveluksessa olevaan henkilÃ¶Ã¶n;\n",
      "\n",
      "4)â€‚hyvinvointiyhtymÃ¤n jÃ¤senenÃ¤ olevan hyvinvointialueen aluevaltuuston osalta hyvinvointiyhtymÃ¤n palveluksessa oleva henkilÃ¶, joka asemaltaan voidaan rinnastaa 2 kohdassa tarkoitettuun hyvinvointialueen palveluksessa olevaan henkilÃ¶Ã¶n.\n",
      "\n",
      "EdellÃ¤ 1 momentissa tarkoitetussa palvelussuhteessa oleva on kuitenkin vaalikelpoinen valtuutetuksi, jos palvelussuhde pÃ¤Ã¤ttyy ennen kuin valtuutettujen toimikausi alkaa.\n",
      "\n",
      "78 Â§\n",
      "Vaalikelpoisuus aluehallitukseen\n",
      "Vaalikelpoinen aluehallitukseen on henkilÃ¶, joka on vaalikelpoinen aluevaltuustoon, ei kuitenkaan:\n",
      "\n",
      "1)â€‚vÃ¤littÃ¶mÃ¤sti aluehallituksen alaisena toimiva hyvinvointialueen palveluksessa oleva henkilÃ¶;\n",
      "\n",
      "2)â€‚hyvinvointialueen mÃ¤Ã¤rÃ¤ysvallassa olevan yhteisÃ¶n tai sÃ¤Ã¤tiÃ¶n palveluksessa oleva henkilÃ¶, joka toimii 1 kohdassa tarkoitettuun tehtÃ¤vÃ¤Ã¤n rinnastuvassa tehtÃ¤vÃ¤ssÃ¤;\n",
      "\n",
      "3)â€‚hyvinvointialueen palveluksessa oleva henkilÃ¶, joka lautakunnan esittelijÃ¤nÃ¤ tai muuten vastaa aluehallituksen kÃ¤siteltÃ¤viksi tulevien asioiden valmistelusta;\n",
      "\n",
      "4)â€‚henkilÃ¶, joka on hallituksen tai siihen rinnastettavan toimielimen jÃ¤senenÃ¤ taikka johtavassa ja vastuullisessa tehtÃ¤vÃ¤ssÃ¤ tai siihen rinnastettavassa asemassa liiketoimintaa harjoittavassa yhteisÃ¶ssÃ¤ tai sÃ¤Ã¤tiÃ¶ssÃ¤, jos kysymyksessÃ¤ on sellainen yhteisÃ¶, jolle aluehallituksessa tavanomaisesti kÃ¤siteltÃ¤vien asioiden ratkaisu on omiaan tuottamaan olennaista hyÃ¶tyÃ¤ tai vahinkoa.\n",
      "\n",
      "HenkilÃ¶stÃ¶n edunvalvonnasta asianomaisella hyvinvointialueella huolehtivan yhteisÃ¶n hallituksen tai siihen rinnastettavan toimielimen puheenjohtaja ei ole vaalikelpoinen aluehallitukseen. Vaalikelpoinen ei myÃ¶skÃ¤Ã¤n ole henkilÃ¶, joka yhteisÃ¶n neuvottelijana tai muussa vastaavassa ominaisuudessa vastaa sen edunvalvonnasta.\n",
      "\n",
      "EnemmistÃ¶n aluehallituksen jÃ¤senistÃ¤ on oltava muita kuin hyvinvointialueen tai hyvinvointialueen mÃ¤Ã¤rÃ¤ysvallassa olevan yhteisÃ¶n tai sÃ¤Ã¤tiÃ¶n palveluksessa olevia henkilÃ¶itÃ¤.\n",
      "\n",
      "EdellÃ¤ 1 momentin 4 kohtaa ei sovelleta hyvinvointialueen mÃ¤Ã¤rÃ¤ysvallassa olevan yhteisÃ¶n hallituksen tai siihen rinnastettavan toimielimen jÃ¤seneen.\n"
     ]
    }
   ],
   "source": [
    "#input_list = [[{'label': 'LABEL_0', 'score': 0.731187105178833}, {'label': 'LABEL_1', 'score': 0.030428817495703697}, {'label': 'LABEL_2', 'score': 0.15602150559425354}, {'label': 'LABEL_3', 'score': 0.038813311606645584}, {'label': 'LABEL_4', 'score': 0.026693550869822502}, {'label': 'LABEL_5', 'score': 0.016855783760547638}]]\n",
    "\n",
    "def get_highest_scores(input_list, topk=2):\n",
    "    highest_scores = sorted(input_list, key=lambda x: x['score'], reverse=True)[:topk]\n",
    "    return highest_scores\n",
    "\n",
    "\n",
    "\n",
    "def get_chunk(label, chunk_map=[], source=\"chunks\"):\n",
    "    # Find the matching chunk files for the given label\n",
    "    matching_chunks = [chunk for chunk in chunk_map if chunk['label'] == label]\n",
    "    print(label, matching_chunks)\n",
    "    print(chunk_map)\n",
    "    # Extract the file name from the first matching chunk (assuming there is only one)\n",
    "    file_name = matching_chunks[0]['file']\n",
    "\n",
    "    # Construct the full path of the file\n",
    "    file_path = os.path.join(source, file_name)\n",
    "\n",
    "    # Read the content of the file\n",
    "    with open(file_path, 'r') as f:\n",
    "        content = f.read()\n",
    "\n",
    "    return content\n",
    "\n",
    "\n",
    "\n",
    "\n",
    "print(get_chunk('LABEL_0', chunk_map, \"./chunks_hallinto\"))  # Should print the content of chunk.txt"
   ]
  },
  {
   "cell_type": "code",
   "execution_count": 88,
   "id": "43c90064-da7a-4460-9451-ecabebe875bd",
   "metadata": {},
   "outputs": [],
   "source": [
    "chunk_map = [{'label':'LABEL_0', 'file':'chunk.txt'},\n",
    "                 {'label':'LABEL_1', 'file':'chunk2.txt'},\n",
    "                 {'label':'LABEL_2', 'file':'chunk3.txt'},\n",
    "                 {'label':'LABEL_3', 'file':'chunk4.txt'},\n",
    "                 {'label':'LABEL_4', 'file':'chunk5.txt'},\n",
    "                 {'label':'LABEL_5', 'file':'chunk6.txt'}]"
   ]
  },
  {
   "cell_type": "code",
   "execution_count": null,
   "id": "f3eb360c-d6d7-44b7-b317-dadc589f2232",
   "metadata": {},
   "outputs": [],
   "source": []
  },
  {
   "cell_type": "code",
   "execution_count": 91,
   "id": "9364b138-43f2-4e3e-8be0-324e095d506a",
   "metadata": {},
   "outputs": [],
   "source": [
    "def RagBERT(classifier, topk=2, query=\"\", chunk_map=[], source=\"chunks\"):\n",
    "    \n",
    "    preds = classifier(query, return_all_scores=True)\n",
    "    print(preds)\n",
    "    highest_scores = get_highest_scores(preds[0], topk)\n",
    "    context = \"\"\n",
    "    for label in highest_scores:\n",
    "        c = get_chunk(label['label'], chunk_map=chunk_map, source=source)\n",
    "        context += f\"\"\"\n",
    "        {c}\n",
    "        \n",
    "        \"\"\"\n",
    "\n",
    "    fina_qury = f\"\"\"\n",
    "    {context}\n",
    "\n",
    "    {query}\n",
    "    \"\"\"\n",
    "\n",
    "    print(\"final_query: \", fina_qury)\n",
    "    response = ollama_query(template=\"\", model=\"llama3:8b-instruct-q4_0\", query=fina_qury)\n",
    "\n",
    "    return response\n",
    "\n",
    "    \n",
    "    "
   ]
  },
  {
   "cell_type": "code",
   "execution_count": 92,
   "id": "db547699-4fab-4453-8700-fd916c859711",
   "metadata": {},
   "outputs": [
    {
     "name": "stdout",
     "output_type": "stream",
     "text": [
      "[[{'label': 'LABEL_0', 'score': 0.002337086945772171}, {'label': 'LABEL_1', 'score': 0.0011278341989964247}, {'label': 'LABEL_2', 'score': 0.9913187623023987}, {'label': 'LABEL_3', 'score': 0.0021168228704482317}, {'label': 'LABEL_4', 'score': 0.0013927258551120758}, {'label': 'LABEL_5', 'score': 0.0017067393055185676}]]\n",
      "LABEL_2 [{'label': 'LABEL_2', 'file': 'chunk2.txt'}]\n",
      "[{'label': 'LABEL_0', 'file': 'chunk.txt'}, {'label': 'LABEL_1', 'file': 'chunk1.txt'}, {'label': 'LABEL_2', 'file': 'chunk2.txt'}, {'label': 'LABEL_3', 'file': 'chunk3.txt'}, {'label': 'LABEL_4', 'file': 'chunk4.txt'}, {'label': 'LABEL_5', 'file': 'chunk5.txt'}]\n",
      "LABEL_0 [{'label': 'LABEL_0', 'file': 'chunk.txt'}]\n",
      "[{'label': 'LABEL_0', 'file': 'chunk.txt'}, {'label': 'LABEL_1', 'file': 'chunk1.txt'}, {'label': 'LABEL_2', 'file': 'chunk2.txt'}, {'label': 'LABEL_3', 'file': 'chunk3.txt'}, {'label': 'LABEL_4', 'file': 'chunk4.txt'}, {'label': 'LABEL_5', 'file': 'chunk5.txt'}]\n",
      "final_query:  \n",
      "    \n",
      "        33 Â§ Toimialajohtajien tehtÃ¤vÃ¤t ja toimivalta\n",
      "Toimialajohtajia ovat:\n",
      "- Lasten, nuorten ja perheiden palvelujen toimialalla lasten, nuorten ja perheiden palvelujen toimialajohtaja\n",
      "- AikuissosiaalityÃ¶n ja vammaisten palvelujen toimialalla aikuissosiaalityÃ¶n ja\n",
      "vammaisten palvelujen toimialajohtaja\n",
      "- Vanhusten palvelujen toimialalla vanhusten palvelujen toimialajohtaja\n",
      "- Terveydenhuollon palvelujen toimialalla terveydenhuollon palvelujen toimialajohtaja\n",
      "- Keski-Uudenmaan pelastuslaitoksen pelastusjohtaja\n",
      "- Konsernipalvelujen toimialalla konsernipalvelujen toimialajohtaja\n",
      "Toimialajohtaja vastaa toimialansa toiminnasta ja taloudesta sekÃ¤ johtaa ja kehittÃ¤Ã¤ toimintaa hyvinvointialuestrategian mukaisesti aluehallituksen ja hyvinvointialuejohtajan\n",
      "alaisuudessa.\n",
      "Toimialajohtajan toimivaltaan kuuluu pÃ¤Ã¤ttÃ¤Ã¤:\n",
      "1. sopimuksista, sitoumuksista, sekÃ¤ hankinnoista 47 Â§:n mukaisesti;\n",
      "2. valtionavun hakemisesta ja muutoksen hakemisesta sitÃ¤ koskevaan pÃ¤Ã¤tÃ¶kseen sekÃ¤ EU-avustuksen hakemisesta;\n",
      "3. toimialaansa koskeviin hankkeisiin osallistumisesta;\n",
      "4. vastauksen antamisesta toimialansa toimintaa koskevaan muistutukseen,\n",
      "kanteluun ja muuhun vastaavaan selvityspyyntÃ¶Ã¶n. Useampaa toimialaa\n",
      "koskevissa muistutuksissa, kanteluissa ja muissa vastaavissa selvityspyynnÃ¶issÃ¤ kukin toimialajohtaja (jonka toimialaa asia koskee) allekirjoittaa vastauksen osaltaan;\n",
      "5. omaa toimialaansa koskevista lausunnoista sekÃ¤ nÃ¤ihin rinnastettavista\n",
      "muista tehtÃ¤vistÃ¤, jollei asiaa sen periaatteellisen tai taloudellisen merkityksen johdosta ole saatettava aluehallituksen kÃ¤siteltÃ¤vÃ¤ksi;\n",
      "6. hyvinvointialueen puhevallan kÃ¤yttÃ¤misestÃ¤ tuomioistuimissa tai missÃ¤\n",
      "muuten hyvinvointialueen oikeudellinen edunvalvonta tulee kyseeseen;\n",
      "7. toimialaa koskevista tutkimusluvista sekÃ¤ tietoluvista;\n",
      "8. toimialaan liittyviin yhdistyksiin liittymisestÃ¤, kun yhdistyksen vuotuinen jÃ¤senmaksu on alle 1000 euroa;\n",
      "9. toimialan laskujen hyvÃ¤ksyjistÃ¤;\n",
      "10. toimialan omaisuuden myymisestÃ¤ ja lahjoittamisesta;\n",
      "11. toimialan tietosuojan ja tietoturvan jÃ¤rjestÃ¤misestÃ¤;\n",
      "12. toimialansa vastuualueelle kuuluvien tyÃ¶ryhmien jÃ¤senten nimeÃ¤misestÃ¤\n",
      "sekÃ¤ edustajien nimeÃ¤misestÃ¤ toimialansa vastuualueelle kuuluviin yhdistyksiin sekÃ¤ niiden kokouksiin, ellei kokous vaadi luottamushenkilÃ¶n nimeÃ¤mistÃ¤ kokousedustajaksi;\n",
      "13. toimialaansa koskevien toimintaohjeiden (pysyvÃ¤isluonteiset mÃ¤Ã¤rÃ¤ykset)\n",
      "antamisesta;\n",
      "14. muistakin toimialalle kuuluvista asioista, ellei toisin ole sÃ¤Ã¤detty tai mÃ¤Ã¤rÃ¤tty.\n",
      "\n",
      "\n",
      "\n",
      "\n",
      "        \n",
      "        \n",
      "        76 Â§\n",
      "Yleinen vaalikelpoisuus\n",
      "Vaalikelpoinen hyvinvointialueen luottamustoimeen on henkilÃ¶:\n",
      "\n",
      "1)â€‚joka on kyseisen hyvinvointialueen asukas;\n",
      "\n",
      "2)â€‚jolla on jollakin hyvinvointialueella Ã¤Ã¤nioikeus aluevaaleissa sinÃ¤ vuonna, jona valtuutetut valitaan tai vaali muuhun luottamustoimeen toimitetaan; ja\n",
      "\n",
      "3)â€‚jota ei ole julistettu vajaavaltaiseksi.\n",
      "\n",
      "77 Â§\n",
      "Vaalikelpoisuus aluevaltuustoon\n",
      "Vaalikelpoinen aluevaltuustoon ei ole:\n",
      "\n",
      "1)â€‚valtion virkamies, joka hoitaa vÃ¤littÃ¶mÃ¤sti hyvinvointialuetta koskevia valvontatehtÃ¤viÃ¤;\n",
      "\n",
      "2)â€‚hyvinvointialueen palveluksessa oleva henkilÃ¶, joka toimii aluehallituksen tai lautakunnan tehtÃ¤vÃ¤alueen tai hyvinvointialueen liikelaitoksen johtavassa tehtÃ¤vÃ¤ssÃ¤ tai sellaiseen rinnastettavassa vastuullisessa tehtÃ¤vÃ¤ssÃ¤;\n",
      "\n",
      "3)â€‚hyvinvointialueen mÃ¤Ã¤rÃ¤ysvallassa olevan yhteisÃ¶n tai sÃ¤Ã¤tiÃ¶n palveluksessa oleva henkilÃ¶, joka asemaltaan voidaan rinnastaa 2 kohdassa tarkoitettuun hyvinvointialueen palveluksessa olevaan henkilÃ¶Ã¶n;\n",
      "\n",
      "4)â€‚hyvinvointiyhtymÃ¤n jÃ¤senenÃ¤ olevan hyvinvointialueen aluevaltuuston osalta hyvinvointiyhtymÃ¤n palveluksessa oleva henkilÃ¶, joka asemaltaan voidaan rinnastaa 2 kohdassa tarkoitettuun hyvinvointialueen palveluksessa olevaan henkilÃ¶Ã¶n.\n",
      "\n",
      "EdellÃ¤ 1 momentissa tarkoitetussa palvelussuhteessa oleva on kuitenkin vaalikelpoinen valtuutetuksi, jos palvelussuhde pÃ¤Ã¤ttyy ennen kuin valtuutettujen toimikausi alkaa.\n",
      "\n",
      "78 Â§\n",
      "Vaalikelpoisuus aluehallitukseen\n",
      "Vaalikelpoinen aluehallitukseen on henkilÃ¶, joka on vaalikelpoinen aluevaltuustoon, ei kuitenkaan:\n",
      "\n",
      "1)â€‚vÃ¤littÃ¶mÃ¤sti aluehallituksen alaisena toimiva hyvinvointialueen palveluksessa oleva henkilÃ¶;\n",
      "\n",
      "2)â€‚hyvinvointialueen mÃ¤Ã¤rÃ¤ysvallassa olevan yhteisÃ¶n tai sÃ¤Ã¤tiÃ¶n palveluksessa oleva henkilÃ¶, joka toimii 1 kohdassa tarkoitettuun tehtÃ¤vÃ¤Ã¤n rinnastuvassa tehtÃ¤vÃ¤ssÃ¤;\n",
      "\n",
      "3)â€‚hyvinvointialueen palveluksessa oleva henkilÃ¶, joka lautakunnan esittelijÃ¤nÃ¤ tai muuten vastaa aluehallituksen kÃ¤siteltÃ¤viksi tulevien asioiden valmistelusta;\n",
      "\n",
      "4)â€‚henkilÃ¶, joka on hallituksen tai siihen rinnastettavan toimielimen jÃ¤senenÃ¤ taikka johtavassa ja vastuullisessa tehtÃ¤vÃ¤ssÃ¤ tai siihen rinnastettavassa asemassa liiketoimintaa harjoittavassa yhteisÃ¶ssÃ¤ tai sÃ¤Ã¤tiÃ¶ssÃ¤, jos kysymyksessÃ¤ on sellainen yhteisÃ¶, jolle aluehallituksessa tavanomaisesti kÃ¤siteltÃ¤vien asioiden ratkaisu on omiaan tuottamaan olennaista hyÃ¶tyÃ¤ tai vahinkoa.\n",
      "\n",
      "HenkilÃ¶stÃ¶n edunvalvonnasta asianomaisella hyvinvointialueella huolehtivan yhteisÃ¶n hallituksen tai siihen rinnastettavan toimielimen puheenjohtaja ei ole vaalikelpoinen aluehallitukseen. Vaalikelpoinen ei myÃ¶skÃ¤Ã¤n ole henkilÃ¶, joka yhteisÃ¶n neuvottelijana tai muussa vastaavassa ominaisuudessa vastaa sen edunvalvonnasta.\n",
      "\n",
      "EnemmistÃ¶n aluehallituksen jÃ¤senistÃ¤ on oltava muita kuin hyvinvointialueen tai hyvinvointialueen mÃ¤Ã¤rÃ¤ysvallassa olevan yhteisÃ¶n tai sÃ¤Ã¤tiÃ¶n palveluksessa olevia henkilÃ¶itÃ¤.\n",
      "\n",
      "EdellÃ¤ 1 momentin 4 kohtaa ei sovelleta hyvinvointialueen mÃ¤Ã¤rÃ¤ysvallassa olevan yhteisÃ¶n hallituksen tai siihen rinnastettavan toimielimen jÃ¤seneen.\n",
      "        \n",
      "        \n",
      "\n",
      "    Kuka päättää uusien virkojen perustamisesta (answer IN FINNISH)?\n",
      "    \n"
     ]
    }
   ],
   "source": [
    "resp = RagBERT(classifier, topk=2, query=\"Kuka päättää uusien virkojen perustamisesta (answer IN FINNISH)?\", chunk_map=chunk_map, source=\"./chunks_hallinto\")"
   ]
  },
  {
   "cell_type": "code",
   "execution_count": 93,
   "id": "917ddfff-f339-4216-b245-8495f845003e",
   "metadata": {},
   "outputs": [
    {
     "name": "stdout",
     "output_type": "stream",
     "text": [
      "Uusien virkojen perustamista päättävät aluevaltuutetut.\n"
     ]
    }
   ],
   "source": [
    "print(resp)"
   ]
  },
  {
   "cell_type": "markdown",
   "id": "5e1bfab4-3704-471a-8754-feb009d0cf18",
   "metadata": {},
   "source": [
    "## Evaluate embedchain against ragBERT\n",
    "Example test showing initial resluts. Deeper evaluation in evaluation.ipynb"
   ]
  },
  {
   "cell_type": "markdown",
   "id": "cc1706c7-81de-4460-a1aa-484878d8a4f6",
   "metadata": {},
   "source": [
    "### Deepeval function for estimating the performance"
   ]
  },
  {
   "cell_type": "code",
   "execution_count": 10,
   "id": "a8305c8d-ccf8-4075-a7d1-29f3fbe3a0f2",
   "metadata": {},
   "outputs": [
    {
     "name": "stderr",
     "output_type": "stream",
     "text": [
      "C:\\Users\\amiri\\anaconda3\\envs\\RagBERT\\Lib\\site-packages\\deepeval\\__init__.py:51: UserWarning: You are using deepeval version 2.1.7, however version 2.2.6 is available. You should consider upgrading via the \"pip install --upgrade deepeval\" command.\n",
      "  warnings.warn(\n"
     ]
    }
   ],
   "source": [
    "from deepeval import evaluate\n",
    "from deepeval.metrics import ContextualRelevancyMetric\n",
    "from deepeval.test_case import LLMTestCase"
   ]
  },
  {
   "cell_type": "markdown",
   "id": "ba61554a-b99c-403c-a321-44f7ff8b40b8",
   "metadata": {},
   "source": [
    "#### Example usage"
   ]
  },
  {
   "cell_type": "code",
   "execution_count": 12,
   "id": "daf3bb95-1168-4f21-b64e-9dd1fe37c3ac",
   "metadata": {},
   "outputs": [
    {
     "data": {
      "application/vnd.jupyter.widget-view+json": {
       "model_id": "",
       "version_major": 2,
       "version_minor": 0
      },
      "text/plain": [
       "Output()"
      ]
     },
     "metadata": {},
     "output_type": "display_data"
    },
    {
     "data": {
      "text/html": [
       "<pre style=\"white-space:pre;overflow-x:auto;line-height:normal;font-family:Menlo,'DejaVu Sans Mono',consolas,'Courier New',monospace\">Event loop is already running. Applying nest_asyncio patch to allow async execution...\n",
       "</pre>\n"
      ],
      "text/plain": [
       "Event loop is already running. Applying nest_asyncio patch to allow async execution...\n"
      ]
     },
     "metadata": {},
     "output_type": "display_data"
    },
    {
     "data": {
      "text/html": [
       "<pre style=\"white-space:pre;overflow-x:auto;line-height:normal;font-family:Menlo,'DejaVu Sans Mono',consolas,'Courier New',monospace\"></pre>\n"
      ],
      "text/plain": []
     },
     "metadata": {},
     "output_type": "display_data"
    },
    {
     "name": "stdout",
     "output_type": "stream",
     "text": [
      "1.0\n",
      "The score is 1.00 because the retrieval context provides a direct solution ('All customers are eligible for a 30 day full refund at no extra cost.') to the concern raised in the input ('What if these shoes don't fit?'). There were no mentioned irrelevancies.\n"
     ]
    },
    {
     "data": {
      "text/html": [
       "<pre style=\"white-space:pre;overflow-x:auto;line-height:normal;font-family:Menlo,'DejaVu Sans Mono',consolas,'Courier New',monospace\">✨ You're running DeepEval's latest <span style=\"color: #6a00ff; text-decoration-color: #6a00ff\">Contextual Relevancy Metric</span>! <span style=\"color: #374151; text-decoration-color: #374151; font-weight: bold\">(</span><span style=\"color: #374151; text-decoration-color: #374151\">using gpt-</span><span style=\"color: #374151; text-decoration-color: #374151; font-weight: bold\">4</span><span style=\"color: #374151; text-decoration-color: #374151\">, </span><span style=\"color: #374151; text-decoration-color: #374151\">strict</span><span style=\"color: #374151; text-decoration-color: #374151\">=</span><span style=\"color: #374151; text-decoration-color: #374151; font-style: italic\">False</span><span style=\"color: #374151; text-decoration-color: #374151\">, </span><span style=\"color: #374151; text-decoration-color: #374151\">async_mode</span><span style=\"color: #374151; text-decoration-color: #374151\">=</span><span style=\"color: #374151; text-decoration-color: #374151; font-style: italic\">True</span><span style=\"color: #374151; text-decoration-color: #374151; font-weight: bold\">)</span><span style=\"color: #374151; text-decoration-color: #374151\">...</span>\n",
       "</pre>\n"
      ],
      "text/plain": [
       "✨ You're running DeepEval's latest \u001b[38;2;106;0;255mContextual Relevancy Metric\u001b[0m! \u001b[1;38;2;55;65;81m(\u001b[0m\u001b[38;2;55;65;81musing gpt-\u001b[0m\u001b[1;38;2;55;65;81m4\u001b[0m\u001b[38;2;55;65;81m, \u001b[0m\u001b[38;2;55;65;81mstrict\u001b[0m\u001b[38;2;55;65;81m=\u001b[0m\u001b[3;38;2;55;65;81mFalse\u001b[0m\u001b[38;2;55;65;81m, \u001b[0m\u001b[38;2;55;65;81masync_mode\u001b[0m\u001b[38;2;55;65;81m=\u001b[0m\u001b[3;38;2;55;65;81mTrue\u001b[0m\u001b[1;38;2;55;65;81m)\u001b[0m\u001b[38;2;55;65;81m...\u001b[0m\n"
      ]
     },
     "metadata": {},
     "output_type": "display_data"
    },
    {
     "name": "stdout",
     "output_type": "stream",
     "text": [
      "Event loop is already running. Applying nest_asyncio patch to allow async execution...\n"
     ]
    },
    {
     "name": "stderr",
     "output_type": "stream",
     "text": [
      "Evaluating 1 test case(s) in parallel: |██████████████████████████████|100% (1/1) [Time Taken: 00:09,  9.86s/test case]"
     ]
    },
    {
     "name": "stdout",
     "output_type": "stream",
     "text": [
      "\n",
      "======================================================================\n",
      "\n",
      "Metrics Summary\n",
      "\n",
      "  - ✅ Contextual Relevancy (score: 1.0, threshold: 0.7, strict: False, evaluation model: gpt-4, reason: The score is 1.00 because the retrieval context perfectly addresses the customer's concern about the shoes not fitting, stating 'All customers are eligible for a 30 day full refund at no extra cost.', error: None)\n",
      "\n",
      "For test case:\n",
      "\n",
      "  - input: What if these shoes don't fit?\n",
      "  - actual output: We offer a 30-day full refund at no extra cost.\n",
      "  - expected output: None\n",
      "  - context: None\n",
      "  - retrieval context: ['All customers are eligible for a 30 day full refund at no extra cost.']\n",
      "\n",
      "======================================================================\n",
      "\n",
      "Overall Metric Pass Rates\n",
      "\n",
      "Contextual Relevancy: 100.00% pass rate\n",
      "\n",
      "======================================================================\n",
      "\n"
     ]
    },
    {
     "name": "stderr",
     "output_type": "stream",
     "text": [
      "\n"
     ]
    },
    {
     "data": {
      "text/html": [
       "<pre style=\"white-space:pre;overflow-x:auto;line-height:normal;font-family:Menlo,'DejaVu Sans Mono',consolas,'Courier New',monospace\"><span style=\"color: #05f58d; text-decoration-color: #05f58d\">✓</span> Tests finished 🎉! Run <span style=\"color: #008000; text-decoration-color: #008000\">'deepeval login'</span> to save and analyze evaluation results on Confident AI. \n",
       "‼️  Friendly reminder 😇: You can also run evaluations with ALL of deepeval's metrics directly on Confident AI \n",
       "instead.\n",
       "</pre>\n"
      ],
      "text/plain": [
       "\u001b[38;2;5;245;141m✓\u001b[0m Tests finished 🎉! Run \u001b[32m'deepeval login'\u001b[0m to save and analyze evaluation results on Confident AI. \n",
       "‼️  Friendly reminder 😇: You can also run evaluations with ALL of deepeval's metrics directly on Confident AI \n",
       "instead.\n"
      ]
     },
     "metadata": {},
     "output_type": "display_data"
    }
   ],
   "source": [
    "# Example usage\n",
    "\n",
    "# Replace this with the actual output from your LLM application\n",
    "actual_output = \"\"\"We offer a 30-day full refund at no extra cost.\"\"\"\n",
    "\n",
    "# Replace this with the actual retrieved context from your RAG pipeline\n",
    "retrieval_context = [\"All customers are eligible for a 30 day full refund at no extra cost.\"]\n",
    "\n",
    "input = \"What if these shoes don't fit?\"\n",
    "\n",
    "def calculateContextRelevancy(actual_output = \"\", retrieval_context=[], input=\"\"):\n",
    "    metric = ContextualRelevancyMetric(\n",
    "        threshold=0.7,\n",
    "        model=\"gpt-4\",\n",
    "        include_reason=True\n",
    "    )\n",
    "    test_case = LLMTestCase(\n",
    "        input,\n",
    "        actual_output=actual_output,\n",
    "        retrieval_context=retrieval_context\n",
    "    )\n",
    "\n",
    "    metric.measure(test_case)\n",
    "    print(metric.score)\n",
    "    print(metric.reason)\n",
    "    \n",
    "    # or evaluate test cases in bulk\n",
    "    evaluate([test_case], [metric])\n",
    "\n",
    "calculateContextRelevancy(actual_output, retrieval_context, input )"
   ]
  },
  {
   "cell_type": "markdown",
   "id": "9bc4089e-c204-4122-9983-9c063d8da075",
   "metadata": {},
   "source": [
    "### Embedchain"
   ]
  },
  {
   "cell_type": "code",
   "execution_count": 1,
   "id": "79fe811b-76bf-429d-83b9-d0dd13af4750",
   "metadata": {},
   "outputs": [
    {
     "data": {
      "text/plain": [
       "'3e655cea63f45a0f404b6ba32ad6e35f'"
      ]
     },
     "execution_count": 1,
     "metadata": {},
     "output_type": "execute_result"
    }
   ],
   "source": [
    "from embedchain import App\n",
    "\n",
    "# Replace this with your OpenAI key\n",
    "\n",
    "app = App()\n",
    "app.add('./chunks_hallinto/chunk.txt', data_type=\"text_file\")\n",
    "app.add('./chunks_hallinto/chunk2.txt', data_type=\"text_file\")\n",
    "app.add('./chunks_hallinto/chunk3.txt', data_type=\"text_file\")\n",
    "app.add('./chunks_hallinto/chunk4.txt', data_type=\"text_file\")\n",
    "app.add('./chunks_hallinto/chunk5.txt', data_type=\"text_file\")\n",
    "app.add('./chunks_hallinto/chunk6.txt', data_type=\"text_file\")\n"
   ]
  },
  {
   "cell_type": "code",
   "execution_count": 2,
   "id": "a6dac6dd-478c-49f3-8e89-24075c4b9ad1",
   "metadata": {},
   "outputs": [],
   "source": [
    "answer, sources = app.query(\"Kuka päättää uusien virkojen perustamisesta (answer IN FINNISH)?\", citations=True)"
   ]
  },
  {
   "cell_type": "markdown",
   "id": "5348f6c1-6205-4c68-84bc-7e2525ae1ba2",
   "metadata": {},
   "source": [
    "### Embedchain own evaluation"
   ]
  },
  {
   "cell_type": "code",
   "execution_count": 98,
   "id": "ef186f24-26bb-4a54-bcc9-c53c1c144f80",
   "metadata": {},
   "outputs": [
    {
     "name": "stderr",
     "output_type": "stream",
     "text": [
      "Getting answer and contexts for questions: 100%|█████████████████████████████████████████| 1/1 [00:03<00:00,  3.10s/it]\n",
      "Evaluating metrics:   0%|                                                                        | 0/3 [00:00<?, ?it/s]\n",
      "Evaluating Context Relevancy:   0%|                                                              | 0/1 [00:00<?, ?it/s]\u001b[A\n",
      "\n",
      "Evaluating Answer Relevancy:   0%|                                                               | 0/1 [00:00<?, ?it/s]\u001b[A\u001b[A\n",
      "\n",
      "\n",
      "Evaluating Groundedness:   0%|                                                                   | 0/1 [00:00<?, ?it/s]\u001b[A\u001b[A\u001b[A\n",
      "\n",
      "\n",
      "Evaluating Groundedness: 100%|███████████████████████████████████████████████████████████| 1/1 [00:03<00:00,  3.08s/it]\u001b[A\u001b[A\u001b[A\n",
      "Evaluating metrics:  33%|█████████████████████▎                                          | 1/3 [00:03<00:06,  3.50s/it]\n",
      "\n",
      "Evaluating Answer Relevancy: 100%|███████████████████████████████████████████████████████| 1/1 [00:03<00:00,  3.15s/it]\u001b[A\u001b[A\n",
      "\n",
      "Evaluating Context Relevancy: 100%|██████████████████████████████████████████████████████| 1/1 [00:05<00:00,  5.03s/it]\u001b[A\n",
      "Evaluating metrics: 100%|████████████████████████████████████████████████████████████████| 3/3 [00:05<00:00,  1.81s/it]\n"
     ]
    },
    {
     "data": {
      "text/plain": [
       "{'groundedness': 1.0,\n",
       " 'answer_relevancy': 0.9165721646888612,\n",
       " 'context_relevancy': 0.022727272727272728}"
      ]
     },
     "execution_count": 98,
     "metadata": {},
     "output_type": "execute_result"
    }
   ],
   "source": [
    "app.evaluate([\"Kuka päättää uusien virkojen perustamisesta (answer IN FINNISH)?\"])"
   ]
  },
  {
   "cell_type": "markdown",
   "id": "a8517cd1-7ae2-41e5-8619-44f30be2e702",
   "metadata": {},
   "source": [
    "### Deepeval context relevancy for RAG + Vector DB (Embedchain)"
   ]
  },
  {
   "cell_type": "markdown",
   "id": "fd28cdeb-90fe-4bbc-8803-7d1fb32592d7",
   "metadata": {},
   "source": []
  },
  {
   "cell_type": "markdown",
   "id": "08ad10f6-1aef-4e22-8b1c-427e2d962105",
   "metadata": {},
   "source": [
    "#### Answer"
   ]
  },
  {
   "cell_type": "code",
   "execution_count": 6,
   "id": "9ffb2f36-f070-45ed-a25e-771e10af5306",
   "metadata": {},
   "outputs": [
    {
     "name": "stdout",
     "output_type": "stream",
     "text": [
      "Uusien virkojen perustamisesta päättää aluevaltuusto hyvinvointialuejohtajan ja toimialajohtajien virkojen osalta, kun taas muiden virkojen perustamisesta päättää aluehallitus.\n"
     ]
    }
   ],
   "source": [
    "print(answer)\n",
    "#print(sources)"
   ]
  },
  {
   "cell_type": "markdown",
   "id": "02c48f6d-7cf2-4f00-9007-385aec9394a6",
   "metadata": {},
   "source": [
    "#### Context"
   ]
  },
  {
   "cell_type": "code",
   "execution_count": 9,
   "id": "a36566e4-1519-4e22-babb-fc413d3ad61f",
   "metadata": {},
   "outputs": [
    {
     "name": "stdout",
     "output_type": "stream",
     "text": [
      "50 § Toimivalta henkilöstöasioissa\n",
      "Mikäli toimivallasta henkilöstöasioissa ei ole säädetty laissa eikä määrätty hallintosäännössä, toimivalta on hyvinvointialuejohtajalla.\n",
      "51 § Viran perustaminen ja lakkauttaminen sekä viran kelpoisuusvaatimukset ja\n",
      "nimikkeen muuttaminen\n",
      "Aluevaltuusto päättää hyvinvointialuejohtajan ja toimialajohtajien virkojen perustamisesta ja lakkauttamisesta sekä virkanimikkeen muuttamisesta.\n",
      "Aluehallitus päättää muiden virkojen perustamisesta ja lakkauttamisesta. Virkanimikkeen muuttamisesta päättää hyvinvointialuejohtaja.\n",
      "Viran kelpoisuusvaatimusten muuttamisesta päättää toimialajohtaja alaistensa\n",
      "viranhaltijoiden osalta ottaen huomioon, mitä erikseen on säädetty tai määrätty.\n",
      "Hyvinvointialuejohtajan viran kelpoisuusvaatimuksista päättää aluevaltuusto.\n",
      "Muiden virkojen kelpoisuusvaatimuksista päätetään virkaa perustettaessa.\n",
      "Pelastuslautakunta päättää pelastuslaitosta koskevat asiat 25 §:n mukaisesti.\n",
      "52 § Palvelussuhdetta koskevat muutokset\n",
      "Palvelussuhdetta koskevista muutoksista mukaan lukien virkasuhteen muuttaminen työsuhteeksi, palvelussuhteen muuttaminen osa-aikaiseksi, viranhaltijan virantoimitusvelvollisuuden muuttaminen ja viranhaltijan siirtäminen toiseen virkasuhteeseen päättää palvelussuhteeseen ottava viranomainen.\n",
      "53 § Siirrot\n",
      "Viran siirtämisestä toimialalta toiselle päättää hyvinvointialuejohtaja tai hänen\n",
      "määräämänsä viranhaltija.\n",
      "Kuitenkin mikäli aluevaltuusto tai aluehallitus tai pelastuslautakunta päättää viran\n",
      "täyttämisestä, aluevaltuusto ja vastaavasti aluehallitus ja pelastuslautakunta\n",
      "myös päättää viran siirtämisestä.\n",
      "54 § Viran haettavaksi julistaminen\n",
      "Viran julistaa haettavaksi valinnasta päättävä toimielin tai viranhaltija. Viran julistaa kuitenkin haettavaksi aluehallitus, kun valinnasta päättävä viranomainen on\n",
      "aluevaltuusto. Kunnan ja hyvinvointialueen viranhaltijasta annetun lain 4 §:n 3\n",
      "momentissa säädetyn lisäksi henkilö voidaan ottaa ilman julkista hakumenettelyä\n",
      "sellaiseen virkasuhteeseen:\n",
      "\n",
      "Vantaan ja Keravan hyvinvointialueen hallintosääntö Sivu 49\n",
      "1. jossa on kyseessä viran määräaikainen täyttö;\n",
      "2. jossa on kyseessä viran uudelleen täyttäminen sitä aikaisemmin hakeneiden, asianomaiset kelpoisuusvaatimukset täyttävien joukosta virkaan valitun irtisanouduttua ennen hänelle määrättyä virantoimituksen aloittamispäivää tai ilmoitettua, ettei ota virkaa vastaan tai siitä syystä, että virkasuhde\n",
      "puretaan koeaikana, taikka siitä syystä, että virkaan ottamista koskeva\n",
      "päätös on lainvoimaisella päätöksellä kumottu ja asia palautettu uudelleen\n",
      "käsiteltäväksi;\n",
      "3. jossa kyseessä on hyvinvointialueen sellaisen entisen viranhaltijan valitseminen, joka saa julkisten alojen eläkelaissa tarkoitettua työkyvyttömyyseläkettä ja joka ennen eläkeiän saavuttamista todetaan ansiotyöhön kykeneväksi;\n",
      "4. johon Vantaan ja Keravan hyvinvointialue on hänet kouluttanut tai johon\n",
      "vaadittavaa pätevöitymiskoulutusta hyvinvointialue on tukenut ja jonka kelpoisuusvaatimukset henkilö täyttää,\n",
      "5. johon henkilö on tarkoituksenmukaista ottaa hänen palvelussuhdettaan\n",
      "koskevien uudelleen järjestelyjen vuoksi;\n",
      "6. muu edellä mainittuihin verrattava, hyväksyttävä syy.\n",
      "\n",
      "4) henkilö, joka on hallituksen tai siihen rinnastettavan toimielimen jäsenenä taikka johtavassa ja vastuullisessa tehtävässä tai siihen rinnastettavassa asemassa liiketoimintaa harjoittavassa yhteisössä tai säätiössä, jos kysymyksessä on sellainen yhteisö, jolle aluehallituksessa tavanomaisesti käsiteltävien asioiden ratkaisu on omiaan tuottamaan olennaista hyötyä tai vahinkoa.\n",
      "\n",
      "Henkilöstön edunvalvonnasta asianomaisella hyvinvointialueella huolehtivan yhteisön hallituksen tai siihen rinnastettavan toimielimen puheenjohtaja ei ole vaalikelpoinen aluehallitukseen. Vaalikelpoinen ei myöskään ole henkilö, joka yhteisön neuvottelijana tai muussa vastaavassa ominaisuudessa vastaa sen edunvalvonnasta.\n",
      "\n",
      "Enemmistön aluehallituksen jäsenistä on oltava muita kuin hyvinvointialueen tai hyvinvointialueen määräysvallassa olevan yhteisön tai säätiön palveluksessa olevia henkilöitä.\n",
      "\n",
      "Edellä 1 momentin 4 kohtaa ei sovelleta hyvinvointialueen määräysvallassa olevan yhteisön hallituksen tai siihen rinnastettavan toimielimen jäseneen.\n",
      "\n"
     ]
    }
   ],
   "source": [
    "\n",
    "for s in sources:\n",
    "    print(s[0])\n",
    "    print()"
   ]
  },
  {
   "cell_type": "code",
   "execution_count": 18,
   "id": "dabe6cc4-d377-4965-988c-c3ff0474dc5b",
   "metadata": {},
   "outputs": [
    {
     "data": {
      "application/vnd.jupyter.widget-view+json": {
       "model_id": "",
       "version_major": 2,
       "version_minor": 0
      },
      "text/plain": [
       "Output()"
      ]
     },
     "metadata": {},
     "output_type": "display_data"
    },
    {
     "data": {
      "text/html": [
       "<pre style=\"white-space:pre;overflow-x:auto;line-height:normal;font-family:Menlo,'DejaVu Sans Mono',consolas,'Courier New',monospace\">Event loop is already running. Applying nest_asyncio patch to allow async execution...\n",
       "</pre>\n"
      ],
      "text/plain": [
       "Event loop is already running. Applying nest_asyncio patch to allow async execution...\n"
      ]
     },
     "metadata": {},
     "output_type": "display_data"
    },
    {
     "data": {
      "text/html": [
       "<pre style=\"white-space:pre;overflow-x:auto;line-height:normal;font-family:Menlo,'DejaVu Sans Mono',consolas,'Courier New',monospace\"></pre>\n"
      ],
      "text/plain": []
     },
     "metadata": {},
     "output_type": "display_data"
    },
    {
     "name": "stdout",
     "output_type": "stream",
     "text": [
      "0.13333333333333333\n",
      "The score is 0.13 because the majority of the retrieval context was not relevant to the input question about who decides on the establishment of new positions. Most statements were about the roles of various individuals in a regional government, employment contract rearrangements, and the eligibility of certain individuals, not about the establishment of new positions. However, there were two relevant statements, 'Aluevaltuusto päättää hyvinvointialuejohtajan ja toimialajohtajien virkojen perustamisesta ja lakkauttamisesta sekä virkanimikkeen muuttamisesta.' and 'Aluehallitus päättää muiden virkojen perustamisesta ja lakkauttamisesta.' which are about the establishment of new positions.\n"
     ]
    },
    {
     "data": {
      "text/html": [
       "<pre style=\"white-space:pre;overflow-x:auto;line-height:normal;font-family:Menlo,'DejaVu Sans Mono',consolas,'Courier New',monospace\">✨ You're running DeepEval's latest <span style=\"color: #6a00ff; text-decoration-color: #6a00ff\">Contextual Relevancy Metric</span>! <span style=\"color: #374151; text-decoration-color: #374151; font-weight: bold\">(</span><span style=\"color: #374151; text-decoration-color: #374151\">using gpt-</span><span style=\"color: #374151; text-decoration-color: #374151; font-weight: bold\">4</span><span style=\"color: #374151; text-decoration-color: #374151\">, </span><span style=\"color: #374151; text-decoration-color: #374151\">strict</span><span style=\"color: #374151; text-decoration-color: #374151\">=</span><span style=\"color: #374151; text-decoration-color: #374151; font-style: italic\">False</span><span style=\"color: #374151; text-decoration-color: #374151\">, </span><span style=\"color: #374151; text-decoration-color: #374151\">async_mode</span><span style=\"color: #374151; text-decoration-color: #374151\">=</span><span style=\"color: #374151; text-decoration-color: #374151; font-style: italic\">True</span><span style=\"color: #374151; text-decoration-color: #374151; font-weight: bold\">)</span><span style=\"color: #374151; text-decoration-color: #374151\">...</span>\n",
       "</pre>\n"
      ],
      "text/plain": [
       "✨ You're running DeepEval's latest \u001b[38;2;106;0;255mContextual Relevancy Metric\u001b[0m! \u001b[1;38;2;55;65;81m(\u001b[0m\u001b[38;2;55;65;81musing gpt-\u001b[0m\u001b[1;38;2;55;65;81m4\u001b[0m\u001b[38;2;55;65;81m, \u001b[0m\u001b[38;2;55;65;81mstrict\u001b[0m\u001b[38;2;55;65;81m=\u001b[0m\u001b[3;38;2;55;65;81mFalse\u001b[0m\u001b[38;2;55;65;81m, \u001b[0m\u001b[38;2;55;65;81masync_mode\u001b[0m\u001b[38;2;55;65;81m=\u001b[0m\u001b[3;38;2;55;65;81mTrue\u001b[0m\u001b[1;38;2;55;65;81m)\u001b[0m\u001b[38;2;55;65;81m...\u001b[0m\n"
      ]
     },
     "metadata": {},
     "output_type": "display_data"
    },
    {
     "name": "stdout",
     "output_type": "stream",
     "text": [
      "Event loop is already running. Applying nest_asyncio patch to allow async execution...\n"
     ]
    },
    {
     "name": "stderr",
     "output_type": "stream",
     "text": [
      "Evaluating 1 test case(s) in parallel: |██████████████████████████████|100% (1/1) [Time Taken: 00:58, 58.91s/test case]"
     ]
    },
    {
     "name": "stdout",
     "output_type": "stream",
     "text": [
      "\n",
      "======================================================================\n",
      "\n",
      "Metrics Summary\n",
      "\n",
      "  - ❌ Contextual Relevancy (score: 0.14285714285714285, threshold: 0.7, strict: False, evaluation model: gpt-4, reason: The score is 0.14 because only two statements, 'Aluevaltuusto päättää hyvinvointialuejohtajan ja toimialajohtajien virkojen perustamisesta ja lakkauttamisesta sekä virkanimikkeen muuttamisesta.' and 'Aluehallitus päättää muiden virkojen perustamisesta ja lakkauttamisesta. Virkanimikkeen muuttamisesta päättää hyvinvointialuejohtaja.', are directly relevant to the question about who decides on the establishment of new positions. The majority of the statements discussed other topics such as personnel matters, rescue department decisions, temporary filling of a post, refilling a post, training support, reorganization of a person's employment relationship, eligibility for the regional council, and majority of the members of the regional council, which don't specifically answer the question., error: None)\n",
      "\n",
      "For test case:\n",
      "\n",
      "  - input: Kuka päättää uusien virkojen perustamisesta (answer IN FINNISH)?\n",
      "  - actual output: Uusien virkojen perustamisesta päättää aluevaltuusto hyvinvointialuejohtajan ja toimialajohtajien virkojen osalta, kun taas muiden virkojen perustamisesta päättää aluehallitus.\n",
      "  - expected output: None\n",
      "  - context: None\n",
      "  - retrieval context: ['50 § Toimivalta henkilöstöasioissa\\nMikäli toimivallasta henkilöstöasioissa ei ole säädetty laissa eikä määrätty hallintosäännössä, toimivalta on hyvinvointialuejohtajalla.\\n51 § Viran perustaminen ja lakkauttaminen sekä viran kelpoisuusvaatimukset ja\\nnimikkeen muuttaminen\\nAluevaltuusto päättää hyvinvointialuejohtajan ja toimialajohtajien virkojen perustamisesta ja lakkauttamisesta sekä virkanimikkeen muuttamisesta.\\nAluehallitus päättää muiden virkojen perustamisesta ja lakkauttamisesta. Virkanimikkeen muuttamisesta päättää hyvinvointialuejohtaja.\\nViran kelpoisuusvaatimusten muuttamisesta päättää toimialajohtaja alaistensa\\nviranhaltijoiden osalta ottaen huomioon, mitä erikseen on säädetty tai määrätty.\\nHyvinvointialuejohtajan viran kelpoisuusvaatimuksista päättää aluevaltuusto.\\nMuiden virkojen kelpoisuusvaatimuksista päätetään virkaa perustettaessa.\\nPelastuslautakunta päättää pelastuslaitosta koskevat asiat 25 §:n mukaisesti.\\n52 § Palvelussuhdetta koskevat muutokset\\nPalvelussuhdetta koskevista muutoksista mukaan lukien virkasuhteen muuttaminen työsuhteeksi, palvelussuhteen muuttaminen osa-aikaiseksi, viranhaltijan virantoimitusvelvollisuuden muuttaminen ja viranhaltijan siirtäminen toiseen virkasuhteeseen päättää palvelussuhteeseen ottava viranomainen.\\n53 § Siirrot\\nViran siirtämisestä toimialalta toiselle päättää hyvinvointialuejohtaja tai hänen\\nmääräämänsä viranhaltija.\\nKuitenkin mikäli aluevaltuusto tai aluehallitus tai pelastuslautakunta päättää viran\\ntäyttämisestä, aluevaltuusto ja vastaavasti aluehallitus ja pelastuslautakunta\\nmyös päättää viran siirtämisestä.\\n54 § Viran haettavaksi julistaminen\\nViran julistaa haettavaksi valinnasta päättävä toimielin tai viranhaltija. Viran julistaa kuitenkin haettavaksi aluehallitus, kun valinnasta päättävä viranomainen on\\naluevaltuusto. Kunnan ja hyvinvointialueen viranhaltijasta annetun lain 4 §:n 3\\nmomentissa säädetyn lisäksi henkilö voidaan ottaa ilman julkista hakumenettelyä\\nsellaiseen virkasuhteeseen:', 'Vantaan ja Keravan hyvinvointialueen hallintosääntö Sivu 49\\n1. jossa on kyseessä viran määräaikainen täyttö;\\n2. jossa on kyseessä viran uudelleen täyttäminen sitä aikaisemmin hakeneiden, asianomaiset kelpoisuusvaatimukset täyttävien joukosta virkaan valitun irtisanouduttua ennen hänelle määrättyä virantoimituksen aloittamispäivää tai ilmoitettua, ettei ota virkaa vastaan tai siitä syystä, että virkasuhde\\npuretaan koeaikana, taikka siitä syystä, että virkaan ottamista koskeva\\npäätös on lainvoimaisella päätöksellä kumottu ja asia palautettu uudelleen\\nkäsiteltäväksi;\\n3. jossa kyseessä on hyvinvointialueen sellaisen entisen viranhaltijan valitseminen, joka saa julkisten alojen eläkelaissa tarkoitettua työkyvyttömyyseläkettä ja joka ennen eläkeiän saavuttamista todetaan ansiotyöhön kykeneväksi;\\n4. johon Vantaan ja Keravan hyvinvointialue on hänet kouluttanut tai johon\\nvaadittavaa pätevöitymiskoulutusta hyvinvointialue on tukenut ja jonka kelpoisuusvaatimukset henkilö täyttää,\\n5. johon henkilö on tarkoituksenmukaista ottaa hänen palvelussuhdettaan\\nkoskevien uudelleen järjestelyjen vuoksi;\\n6. muu edellä mainittuihin verrattava, hyväksyttävä syy.', '4)\\u2002henkilö, joka on hallituksen tai siihen rinnastettavan toimielimen jäsenenä taikka johtavassa ja vastuullisessa tehtävässä tai siihen rinnastettavassa asemassa liiketoimintaa harjoittavassa yhteisössä tai säätiössä, jos kysymyksessä on sellainen yhteisö, jolle aluehallituksessa tavanomaisesti käsiteltävien asioiden ratkaisu on omiaan tuottamaan olennaista hyötyä tai vahinkoa.\\n\\nHenkilöstön edunvalvonnasta asianomaisella hyvinvointialueella huolehtivan yhteisön hallituksen tai siihen rinnastettavan toimielimen puheenjohtaja ei ole vaalikelpoinen aluehallitukseen. Vaalikelpoinen ei myöskään ole henkilö, joka yhteisön neuvottelijana tai muussa vastaavassa ominaisuudessa vastaa sen edunvalvonnasta.\\n\\nEnemmistön aluehallituksen jäsenistä on oltava muita kuin hyvinvointialueen tai hyvinvointialueen määräysvallassa olevan yhteisön tai säätiön palveluksessa olevia henkilöitä.\\n\\nEdellä 1 momentin 4 kohtaa ei sovelleta hyvinvointialueen määräysvallassa olevan yhteisön hallituksen tai siihen rinnastettavan toimielimen jäseneen.']\n",
      "\n",
      "======================================================================\n",
      "\n",
      "Overall Metric Pass Rates\n",
      "\n",
      "Contextual Relevancy: 0.00% pass rate\n",
      "\n",
      "======================================================================\n",
      "\n"
     ]
    },
    {
     "name": "stderr",
     "output_type": "stream",
     "text": [
      "\n"
     ]
    },
    {
     "data": {
      "text/html": [
       "<pre style=\"white-space:pre;overflow-x:auto;line-height:normal;font-family:Menlo,'DejaVu Sans Mono',consolas,'Courier New',monospace\"><span style=\"color: #05f58d; text-decoration-color: #05f58d\">✓</span> Tests finished 🎉! Run <span style=\"color: #008000; text-decoration-color: #008000\">'deepeval login'</span> to save and analyze evaluation results on Confident AI. \n",
       "‼️  Friendly reminder 😇: You can also run evaluations with ALL of deepeval's metrics directly on Confident AI \n",
       "instead.\n",
       "</pre>\n"
      ],
      "text/plain": [
       "\u001b[38;2;5;245;141m✓\u001b[0m Tests finished 🎉! Run \u001b[32m'deepeval login'\u001b[0m to save and analyze evaluation results on Confident AI. \n",
       "‼️  Friendly reminder 😇: You can also run evaluations with ALL of deepeval's metrics directly on Confident AI \n",
       "instead.\n"
      ]
     },
     "metadata": {},
     "output_type": "display_data"
    }
   ],
   "source": [
    "# Replace this with the actual output from your LLM application\n",
    "actual_output = \"\"\"Uusien virkojen perustamisesta päättää aluevaltuusto hyvinvointialuejohtajan ja toimialajohtajien virkojen osalta, kun taas muiden virkojen perustamisesta päättää aluehallitus.\"\"\"\n",
    "\n",
    "# Replace this with the actual retrieved context from your RAG pipeline\n",
    "retrieval_context = [\"\"\"50 § Toimivalta henkilöstöasioissa\n",
    "Mikäli toimivallasta henkilöstöasioissa ei ole säädetty laissa eikä määrätty hallintosäännössä, toimivalta on hyvinvointialuejohtajalla.\n",
    "51 § Viran perustaminen ja lakkauttaminen sekä viran kelpoisuusvaatimukset ja\n",
    "nimikkeen muuttaminen\n",
    "Aluevaltuusto päättää hyvinvointialuejohtajan ja toimialajohtajien virkojen perustamisesta ja lakkauttamisesta sekä virkanimikkeen muuttamisesta.\n",
    "Aluehallitus päättää muiden virkojen perustamisesta ja lakkauttamisesta. Virkanimikkeen muuttamisesta päättää hyvinvointialuejohtaja.\n",
    "Viran kelpoisuusvaatimusten muuttamisesta päättää toimialajohtaja alaistensa\n",
    "viranhaltijoiden osalta ottaen huomioon, mitä erikseen on säädetty tai määrätty.\n",
    "Hyvinvointialuejohtajan viran kelpoisuusvaatimuksista päättää aluevaltuusto.\n",
    "Muiden virkojen kelpoisuusvaatimuksista päätetään virkaa perustettaessa.\n",
    "Pelastuslautakunta päättää pelastuslaitosta koskevat asiat 25 §:n mukaisesti.\n",
    "52 § Palvelussuhdetta koskevat muutokset\n",
    "Palvelussuhdetta koskevista muutoksista mukaan lukien virkasuhteen muuttaminen työsuhteeksi, palvelussuhteen muuttaminen osa-aikaiseksi, viranhaltijan virantoimitusvelvollisuuden muuttaminen ja viranhaltijan siirtäminen toiseen virkasuhteeseen päättää palvelussuhteeseen ottava viranomainen.\n",
    "53 § Siirrot\n",
    "Viran siirtämisestä toimialalta toiselle päättää hyvinvointialuejohtaja tai hänen\n",
    "määräämänsä viranhaltija.\n",
    "Kuitenkin mikäli aluevaltuusto tai aluehallitus tai pelastuslautakunta päättää viran\n",
    "täyttämisestä, aluevaltuusto ja vastaavasti aluehallitus ja pelastuslautakunta\n",
    "myös päättää viran siirtämisestä.\n",
    "54 § Viran haettavaksi julistaminen\n",
    "Viran julistaa haettavaksi valinnasta päättävä toimielin tai viranhaltija. Viran julistaa kuitenkin haettavaksi aluehallitus, kun valinnasta päättävä viranomainen on\n",
    "aluevaltuusto. Kunnan ja hyvinvointialueen viranhaltijasta annetun lain 4 §:n 3\n",
    "momentissa säädetyn lisäksi henkilö voidaan ottaa ilman julkista hakumenettelyä\n",
    "sellaiseen virkasuhteeseen:\"\"\",\n",
    "                     \n",
    "\"\"\"Vantaan ja Keravan hyvinvointialueen hallintosääntö Sivu 49\n",
    "1. jossa on kyseessä viran määräaikainen täyttö;\n",
    "2. jossa on kyseessä viran uudelleen täyttäminen sitä aikaisemmin hakeneiden, asianomaiset kelpoisuusvaatimukset täyttävien joukosta virkaan valitun irtisanouduttua ennen hänelle määrättyä virantoimituksen aloittamispäivää tai ilmoitettua, ettei ota virkaa vastaan tai siitä syystä, että virkasuhde\n",
    "puretaan koeaikana, taikka siitä syystä, että virkaan ottamista koskeva\n",
    "päätös on lainvoimaisella päätöksellä kumottu ja asia palautettu uudelleen\n",
    "käsiteltäväksi;\n",
    "3. jossa kyseessä on hyvinvointialueen sellaisen entisen viranhaltijan valitseminen, joka saa julkisten alojen eläkelaissa tarkoitettua työkyvyttömyyseläkettä ja joka ennen eläkeiän saavuttamista todetaan ansiotyöhön kykeneväksi;\n",
    "4. johon Vantaan ja Keravan hyvinvointialue on hänet kouluttanut tai johon\n",
    "vaadittavaa pätevöitymiskoulutusta hyvinvointialue on tukenut ja jonka kelpoisuusvaatimukset henkilö täyttää,\n",
    "5. johon henkilö on tarkoituksenmukaista ottaa hänen palvelussuhdettaan\n",
    "koskevien uudelleen järjestelyjen vuoksi;\n",
    "6. muu edellä mainittuihin verrattava, hyväksyttävä syy.\"\"\",\n",
    "                     \n",
    "\"\"\"4) henkilö, joka on hallituksen tai siihen rinnastettavan toimielimen jäsenenä taikka johtavassa ja vastuullisessa tehtävässä tai siihen rinnastettavassa asemassa liiketoimintaa harjoittavassa yhteisössä tai säätiössä, jos kysymyksessä on sellainen yhteisö, jolle aluehallituksessa tavanomaisesti käsiteltävien asioiden ratkaisu on omiaan tuottamaan olennaista hyötyä tai vahinkoa.\n",
    "\n",
    "Henkilöstön edunvalvonnasta asianomaisella hyvinvointialueella huolehtivan yhteisön hallituksen tai siihen rinnastettavan toimielimen puheenjohtaja ei ole vaalikelpoinen aluehallitukseen. Vaalikelpoinen ei myöskään ole henkilö, joka yhteisön neuvottelijana tai muussa vastaavassa ominaisuudessa vastaa sen edunvalvonnasta.\n",
    "\n",
    "Enemmistön aluehallituksen jäsenistä on oltava muita kuin hyvinvointialueen tai hyvinvointialueen määräysvallassa olevan yhteisön tai säätiön palveluksessa olevia henkilöitä.\n",
    "\n",
    "Edellä 1 momentin 4 kohtaa ei sovelleta hyvinvointialueen määräysvallassa olevan yhteisön hallituksen tai siihen rinnastettavan toimielimen jäseneen.\"\"\"]\n",
    "\n",
    "input = \"Kuka päättää uusien virkojen perustamisesta (answer IN FINNISH)?\"\n",
    "\n",
    "calculateContextRelevancy(actual_output, retrieval_context, input )"
   ]
  },
  {
   "cell_type": "code",
   "execution_count": 17,
   "id": "afdc71fb-f724-4ab7-a5d6-6f19ea4def9b",
   "metadata": {},
   "outputs": [
    {
     "data": {
      "application/vnd.jupyter.widget-view+json": {
       "model_id": "",
       "version_major": 2,
       "version_minor": 0
      },
      "text/plain": [
       "Output()"
      ]
     },
     "metadata": {},
     "output_type": "display_data"
    },
    {
     "data": {
      "text/html": [
       "<pre style=\"white-space:pre;overflow-x:auto;line-height:normal;font-family:Menlo,'DejaVu Sans Mono',consolas,'Courier New',monospace\">Event loop is already running. Applying nest_asyncio patch to allow async execution...\n",
       "</pre>\n"
      ],
      "text/plain": [
       "Event loop is already running. Applying nest_asyncio patch to allow async execution...\n"
      ]
     },
     "metadata": {},
     "output_type": "display_data"
    },
    {
     "data": {
      "text/html": [
       "<pre style=\"white-space:pre;overflow-x:auto;line-height:normal;font-family:Menlo,'DejaVu Sans Mono',consolas,'Courier New',monospace\"></pre>\n"
      ],
      "text/plain": []
     },
     "metadata": {},
     "output_type": "display_data"
    },
    {
     "name": "stdout",
     "output_type": "stream",
     "text": [
      "0.46153846153846156\n",
      "The score is 0.46 because the majority of the context provided pertains to 'eligibility for various positions' and 'regional government' which are not directly relevant to the query 'who decides on establishing new positions.' However, the context does include relevant information about a 'Toimialajohtaja' having decision-making authority in certain areas, hinting at potential relevance to the query.\n"
     ]
    },
    {
     "data": {
      "text/html": [
       "<pre style=\"white-space:pre;overflow-x:auto;line-height:normal;font-family:Menlo,'DejaVu Sans Mono',consolas,'Courier New',monospace\">✨ You're running DeepEval's latest <span style=\"color: #6a00ff; text-decoration-color: #6a00ff\">Contextual Relevancy Metric</span>! <span style=\"color: #374151; text-decoration-color: #374151; font-weight: bold\">(</span><span style=\"color: #374151; text-decoration-color: #374151\">using gpt-</span><span style=\"color: #374151; text-decoration-color: #374151; font-weight: bold\">4</span><span style=\"color: #374151; text-decoration-color: #374151\">, </span><span style=\"color: #374151; text-decoration-color: #374151\">strict</span><span style=\"color: #374151; text-decoration-color: #374151\">=</span><span style=\"color: #374151; text-decoration-color: #374151; font-style: italic\">False</span><span style=\"color: #374151; text-decoration-color: #374151\">, </span><span style=\"color: #374151; text-decoration-color: #374151\">async_mode</span><span style=\"color: #374151; text-decoration-color: #374151\">=</span><span style=\"color: #374151; text-decoration-color: #374151; font-style: italic\">True</span><span style=\"color: #374151; text-decoration-color: #374151; font-weight: bold\">)</span><span style=\"color: #374151; text-decoration-color: #374151\">...</span>\n",
       "</pre>\n"
      ],
      "text/plain": [
       "✨ You're running DeepEval's latest \u001b[38;2;106;0;255mContextual Relevancy Metric\u001b[0m! \u001b[1;38;2;55;65;81m(\u001b[0m\u001b[38;2;55;65;81musing gpt-\u001b[0m\u001b[1;38;2;55;65;81m4\u001b[0m\u001b[38;2;55;65;81m, \u001b[0m\u001b[38;2;55;65;81mstrict\u001b[0m\u001b[38;2;55;65;81m=\u001b[0m\u001b[3;38;2;55;65;81mFalse\u001b[0m\u001b[38;2;55;65;81m, \u001b[0m\u001b[38;2;55;65;81masync_mode\u001b[0m\u001b[38;2;55;65;81m=\u001b[0m\u001b[3;38;2;55;65;81mTrue\u001b[0m\u001b[1;38;2;55;65;81m)\u001b[0m\u001b[38;2;55;65;81m...\u001b[0m\n"
      ]
     },
     "metadata": {},
     "output_type": "display_data"
    },
    {
     "name": "stdout",
     "output_type": "stream",
     "text": [
      "Event loop is already running. Applying nest_asyncio patch to allow async execution...\n"
     ]
    },
    {
     "name": "stderr",
     "output_type": "stream",
     "text": [
      "Evaluating 1 test case(s) in parallel: |██████████████████████████████|100% (1/1) [Time Taken: 01:22, 82.15s/test case]"
     ]
    },
    {
     "name": "stdout",
     "output_type": "stream",
     "text": [
      "\n",
      "======================================================================\n",
      "\n",
      "Metrics Summary\n",
      "\n",
      "  - ❌ Contextual Relevancy (score: 0.06666666666666667, threshold: 0.7, strict: False, evaluation model: gpt-4, reason: The score is 0.07 because the majority of the context retrieved is about 'eligibility for various posts', 'representing staff interests', and 'responsibilities of the sector director' but not specifically about 'who decides on the establishment of new posts'. Only one statement vaguely refers to the responsibilities of a sector director which might indirectly involve deciding on new posts., error: None)\n",
      "\n",
      "For test case:\n",
      "\n",
      "  - input: Kuka päättää uusien virkojen perustamisesta (answer IN FINNISH)?\n",
      "  - actual output: Uusien virkojen perustamista päättävät aluevaltuutetut.\n",
      "  - expected output: None\n",
      "  - context: None\n",
      "  - retrieval context: ['76 Â§\\nYleinen vaalikelpoisuus\\nVaalikelpoinen hyvinvointialueen luottamustoimeen on henkilÃ¶:\\n1)â€‚joka on kyseisen hyvinvointialueen asukas;\\n2)â€‚jolla on jollakin hyvinvointialueella Ã¤Ã¤nioikeus aluevaaleissa sinÃ¤ vuonna, jona valtuutetut valitaan tai vaali muuhun luottamustoimeen toimitetaan; ja\\n3)â€‚jota ei ole julistettu vajaavaltaiseksi.\\n\\n77 Â§\\nVaalikelpoisuus aluevaltuustoon\\nVaalikelpoinen aluevaltuustoon ei ole:\\n\\n1)â€‚valtion virkamies, joka hoitaa vÃ¤littÃ¶mÃ¤sti hyvinvointialuetta koskevia valvontatehtÃ¤viÃ¤;\\n2)â€‚hyvinvointialueen palveluksessa oleva henkilÃ¶, joka toimii aluehallituksen tai lautakunnan tehtÃ¤vÃ¤alueen tai hyvinvointialueen liikelaitoksen johtavassa tehtÃ¤vÃ¤ssÃ¤ tai sellaiseen rinnastettavassa vastuullisessa tehtÃ¤vÃ¤ssÃ¤;\\n3)â€‚hyvinvointialueen mÃ¤Ã¤rÃ¤ysvallassa olevan yhteisÃ¶n tai sÃ¤Ã¤tiÃ¶n palveluksessa oleva henkilÃ¶, joka asemaltaan voidaan rinnastaa 2 kohdassa tarkoitettuun hyvinvointialueen palveluksessa olevaan henkilÃ¶Ã¶n;\\n4)â€‚hyvinvointiyhtymÃ¤n jÃ¤senenÃ¤ olevan hyvinvointialueen aluevaltuuston osalta hyvinvointiyhtymÃ¤n palveluksessa oleva henkilÃ¶, joka asemaltaan voidaan rinnastaa 2 kohdassa tarkoitettuun hyvinvointialueen palveluksessa olevaan henkilÃ¶Ã¶n.\\n\\nEdellÃ¤ 1 momentissa tarkoitetussa palvelussuhteessa oleva on kuitenkin vaalikelpoinen valtuutetuksi, jos palvelussuhde pÃ¤Ã¤ttyy ennen kuin valtuutettujen toimikausi alkaa.\\n78 Â§\\nVaalikelpoisuus aluehallitukseen\\nVaalikelpoinen aluehallitukseen on henkilÃ¶, joka on vaalikelpoinen aluevaltuustoon, ei kuitenkaan:\\n\\n1)â€‚vÃ¤littÃ¶mÃ¤sti aluehallituksen alaisena toimiva hyvinvointialueen palveluksessa oleva henkilÃ¶;\\n2)â€‚hyvinvointialueen mÃ¤Ã¤rÃ¤ysvallassa olevan yhteisÃ¶n tai sÃ¤Ã¤tiÃ¶n palveluksessa oleva henkilÃ¶, joka toimii 1 kohdassa tarkoitettuun tehtÃ¤vÃ¤Ã¤n rinnastuvassa tehtÃ¤vÃ¤ssÃ¤;\\n3)â€‚hyvinvointialueen palveluksessa oleva henkilÃ¶, joka lautakunnan esittelijÃ¤nÃ¤ tai muuten vastaa aluehallituksen kÃ¤siteltÃ¤viksi tulevien asioiden valmistelusta;\\n4)â€‚henkilÃ¶, joka on hallituksen tai siihen rinnastettavan toimielimen jÃ¤senenÃ¤ taikka johtavassa ja vastuullisessa tehtÃ¤vÃ¤ssÃ¤ tai siihen rinnastettavassa asemassa liiketoimintaa harjoittavassa yhteisÃ¶ssÃ¤ tai sÃ¤Ã¤tiÃ¶ssÃ¤, jos kysymyksessÃ¤ on sellainen yhteisÃ¶, jolle aluehallituksessa tavanomaisesti kÃ¤siteltÃ¤vien asioiden ratkaisu on omiaan tuottamaan olennaista hyÃ¶tyÃ¤ tai vahinkoa.\\n\\nHenkilÃ¶stÃ¶n edunvalvonnasta asianomaisella hyvinvointialueella huolehtivan yhteisÃ¶n hallituksen tai siihen rinnastettavan toimielimen puheenjohtaja ei ole vaalikelpoinen aluehallitukseen. Vaalikelpoinen ei myÃ¶skÃ¤Ã¤n ole henkilÃ¶, joka yhteisÃ¶n neuvottelijana tai muussa vastaavassa ominaisuudessa vastaa sen edunvalvonnasta.\\nEnemmistÃ¶n aluehallituksen jÃ¤senistÃ¤ on oltava muita kuin hyvinvointialueen tai hyvinvointialueen mÃ¤Ã¤rÃ¤ysvallassa olevan yhteisÃ¶n tai sÃ¤Ã¤tiÃ¶n palveluksessa olevia henkilÃ¶itÃ¤.\\nEdellÃ¤ 1 momentin 4 kohtaa ei sovelleta hyvinvointialueen mÃ¤Ã¤rÃ¤ysvallassa olevan yhteisÃ¶n hallituksen tai siihen rinnastettavan toimielimen jÃ¤seneen.', '33 Â§ Toimialajohtajien tehtÃ¤vÃ¤t ja toimivalta\\nToimialajohtajia ovat:\\n- Lasten, nuorten ja perheiden palvelujen toimialalla lasten, nuorten ja perheiden palvelujen toimialajohtaja\\n- AikuissosiaalityÃ¶n ja vammaisten palvelujen toimialalla aikuissosiaalityÃ¶n ja\\nvammaisten palvelujen toimialajohtaja\\n- Vanhusten palvelujen toimialalla vanhusten palvelujen toimialajohtaja\\n- Terveydenhuollon palvelujen toimialalla terveydenhuollon palvelujen toimialajohtaja\\n- Keski-Uudenmaan pelastuslaitoksen pelastusjohtaja\\n- Konsernipalvelujen toimialalla konsernipalvelujen toimialajohtaja\\nToimialajohtaja vastaa toimialansa toiminnasta ja taloudesta sekÃ¤ johtaa ja kehittÃ¤Ã¤ toimintaa hyvinvointialuestrategian mukaisesti aluehallituksen ja hyvinvointialuejohtajan\\nalaisuudessa.\\nToimialajohtajan toimivaltaan kuuluu pÃ¤Ã¤ttÃ¤Ã¤:\\n1. sopimuksista, sitoumuksista, sekÃ¤ hankinnoista 47 Â§:n mukaisesti;\\n2. valtionavun hakemisesta ja muutoksen hakemisesta sitÃ¤ koskevaan pÃ¤Ã¤tÃ¶kseen sekÃ¤ EU-avustuksen hakemisesta;\\n3. toimialaansa koskeviin hankkeisiin osallistumisesta;\\n4. vastauksen antamisesta toimialansa toimintaa koskevaan muistutukseen,\\nkanteluun ja muuhun vastaavaan selvityspyyntÃ¶Ã¶n. Useampaa toimialaa\\nkoskevissa muistutuksissa, kanteluissa ja muissa vastaavissa selvityspyynnÃ¶issÃ¤ kukin toimialajohtaja (jonka toimialaa asia koskee) allekirjoittaa vastauksen osaltaan;\\n5. omaa toimialaansa koskevista lausunnoista sekÃ¤ nÃ¤ihin rinnastettavista\\nmuista tehtÃ¤vistÃ¤, jollei asiaa sen periaatteellisen tai taloudellisen merkityksen johdosta ole saatettava aluehallituksen kÃ¤siteltÃ¤vÃ¤ksi;\\n6. hyvinvointialueen puhevallan kÃ¤yttÃ¤misestÃ¤ tuomioistuimissa tai missÃ¤\\nmuuten hyvinvointialueen oikeudellinen edunvalvonta tulee kyseeseen;\\n7. toimialaa koskevista tutkimusluvista sekÃ¤ tietoluvista;\\n8. toimialaan liittyviin yhdistyksiin liittymisestÃ¤, kun yhdistyksen vuotuinen jÃ¤senmaksu on alle 1000 euroa;\\n9. toimialan laskujen hyvÃ¤ksyjistÃ¤;\\n10. toimialan omaisuuden myymisestÃ¤ ja lahjoittamisesta;\\n11. toimialan tietosuojan ja tietoturvan jÃ¤rjestÃ¤misestÃ¤;\\n12. toimialansa vastuualueelle kuuluvien tyÃ¶ryhmien jÃ¤senten nimeÃ¤misestÃ¤\\nsekÃ¤ edustajien nimeÃ¤misestÃ¤ toimialansa vastuualueelle kuuluviin yhdistyksiin sekÃ¤ niiden kokouksiin, ellei kokous vaadi luottamushenkilÃ¶n nimeÃ¤mistÃ¤ kokousedustajaksi;\\n13. toimialaansa koskevien toimintaohjeiden (pysyvÃ¤isluonteiset mÃ¤Ã¤rÃ¤ykset)\\nantamisesta;\\n14. muistakin toimialalle kuuluvista asioista, ellei toisin ole sÃ¤Ã¤detty tai mÃ¤Ã¤rÃ¤tty.']\n",
      "\n",
      "======================================================================\n",
      "\n",
      "Overall Metric Pass Rates\n",
      "\n",
      "Contextual Relevancy: 0.00% pass rate\n",
      "\n",
      "======================================================================\n",
      "\n"
     ]
    },
    {
     "name": "stderr",
     "output_type": "stream",
     "text": [
      "\n"
     ]
    },
    {
     "data": {
      "text/html": [
       "<pre style=\"white-space:pre;overflow-x:auto;line-height:normal;font-family:Menlo,'DejaVu Sans Mono',consolas,'Courier New',monospace\"><span style=\"color: #05f58d; text-decoration-color: #05f58d\">✓</span> Tests finished 🎉! Run <span style=\"color: #008000; text-decoration-color: #008000\">'deepeval login'</span> to save and analyze evaluation results on Confident AI. \n",
       "‼️  Friendly reminder 😇: You can also run evaluations with ALL of deepeval's metrics directly on Confident AI \n",
       "instead.\n",
       "</pre>\n"
      ],
      "text/plain": [
       "\u001b[38;2;5;245;141m✓\u001b[0m Tests finished 🎉! Run \u001b[32m'deepeval login'\u001b[0m to save and analyze evaluation results on Confident AI. \n",
       "‼️  Friendly reminder 😇: You can also run evaluations with ALL of deepeval's metrics directly on Confident AI \n",
       "instead.\n"
      ]
     },
     "metadata": {},
     "output_type": "display_data"
    }
   ],
   "source": [
    "# Replace this with the actual output from your LLM application\n",
    "actual_output = \"\"\"Uusien virkojen perustamista päättävät aluevaltuutetut.\"\"\"\n",
    "\n",
    "# Replace this with the actual retrieved context from your RAG pipeline\n",
    "retrieval_context = [\n",
    "          \n",
    "\"\"\"76 Â§\n",
    "Yleinen vaalikelpoisuus\n",
    "Vaalikelpoinen hyvinvointialueen luottamustoimeen on henkilÃ¶:\n",
    "1)â€‚joka on kyseisen hyvinvointialueen asukas;\n",
    "2)â€‚jolla on jollakin hyvinvointialueella Ã¤Ã¤nioikeus aluevaaleissa sinÃ¤ vuonna, jona valtuutetut valitaan tai vaali muuhun luottamustoimeen toimitetaan; ja\n",
    "3)â€‚jota ei ole julistettu vajaavaltaiseksi.\n",
    "\n",
    "77 Â§\n",
    "Vaalikelpoisuus aluevaltuustoon\n",
    "Vaalikelpoinen aluevaltuustoon ei ole:\n",
    "\n",
    "1)â€‚valtion virkamies, joka hoitaa vÃ¤littÃ¶mÃ¤sti hyvinvointialuetta koskevia valvontatehtÃ¤viÃ¤;\n",
    "2)â€‚hyvinvointialueen palveluksessa oleva henkilÃ¶, joka toimii aluehallituksen tai lautakunnan tehtÃ¤vÃ¤alueen tai hyvinvointialueen liikelaitoksen johtavassa tehtÃ¤vÃ¤ssÃ¤ tai sellaiseen rinnastettavassa vastuullisessa tehtÃ¤vÃ¤ssÃ¤;\n",
    "3)â€‚hyvinvointialueen mÃ¤Ã¤rÃ¤ysvallassa olevan yhteisÃ¶n tai sÃ¤Ã¤tiÃ¶n palveluksessa oleva henkilÃ¶, joka asemaltaan voidaan rinnastaa 2 kohdassa tarkoitettuun hyvinvointialueen palveluksessa olevaan henkilÃ¶Ã¶n;\n",
    "4)â€‚hyvinvointiyhtymÃ¤n jÃ¤senenÃ¤ olevan hyvinvointialueen aluevaltuuston osalta hyvinvointiyhtymÃ¤n palveluksessa oleva henkilÃ¶, joka asemaltaan voidaan rinnastaa 2 kohdassa tarkoitettuun hyvinvointialueen palveluksessa olevaan henkilÃ¶Ã¶n.\n",
    "\n",
    "EdellÃ¤ 1 momentissa tarkoitetussa palvelussuhteessa oleva on kuitenkin vaalikelpoinen valtuutetuksi, jos palvelussuhde pÃ¤Ã¤ttyy ennen kuin valtuutettujen toimikausi alkaa.\n",
    "78 Â§\n",
    "Vaalikelpoisuus aluehallitukseen\n",
    "Vaalikelpoinen aluehallitukseen on henkilÃ¶, joka on vaalikelpoinen aluevaltuustoon, ei kuitenkaan:\n",
    "\n",
    "1)â€‚vÃ¤littÃ¶mÃ¤sti aluehallituksen alaisena toimiva hyvinvointialueen palveluksessa oleva henkilÃ¶;\n",
    "2)â€‚hyvinvointialueen mÃ¤Ã¤rÃ¤ysvallassa olevan yhteisÃ¶n tai sÃ¤Ã¤tiÃ¶n palveluksessa oleva henkilÃ¶, joka toimii 1 kohdassa tarkoitettuun tehtÃ¤vÃ¤Ã¤n rinnastuvassa tehtÃ¤vÃ¤ssÃ¤;\n",
    "3)â€‚hyvinvointialueen palveluksessa oleva henkilÃ¶, joka lautakunnan esittelijÃ¤nÃ¤ tai muuten vastaa aluehallituksen kÃ¤siteltÃ¤viksi tulevien asioiden valmistelusta;\n",
    "4)â€‚henkilÃ¶, joka on hallituksen tai siihen rinnastettavan toimielimen jÃ¤senenÃ¤ taikka johtavassa ja vastuullisessa tehtÃ¤vÃ¤ssÃ¤ tai siihen rinnastettavassa asemassa liiketoimintaa harjoittavassa yhteisÃ¶ssÃ¤ tai sÃ¤Ã¤tiÃ¶ssÃ¤, jos kysymyksessÃ¤ on sellainen yhteisÃ¶, jolle aluehallituksessa tavanomaisesti kÃ¤siteltÃ¤vien asioiden ratkaisu on omiaan tuottamaan olennaista hyÃ¶tyÃ¤ tai vahinkoa.\n",
    "\n",
    "HenkilÃ¶stÃ¶n edunvalvonnasta asianomaisella hyvinvointialueella huolehtivan yhteisÃ¶n hallituksen tai siihen rinnastettavan toimielimen puheenjohtaja ei ole vaalikelpoinen aluehallitukseen. Vaalikelpoinen ei myÃ¶skÃ¤Ã¤n ole henkilÃ¶, joka yhteisÃ¶n neuvottelijana tai muussa vastaavassa ominaisuudessa vastaa sen edunvalvonnasta.\n",
    "EnemmistÃ¶n aluehallituksen jÃ¤senistÃ¤ on oltava muita kuin hyvinvointialueen tai hyvinvointialueen mÃ¤Ã¤rÃ¤ysvallassa olevan yhteisÃ¶n tai sÃ¤Ã¤tiÃ¶n palveluksessa olevia henkilÃ¶itÃ¤.\n",
    "EdellÃ¤ 1 momentin 4 kohtaa ei sovelleta hyvinvointialueen mÃ¤Ã¤rÃ¤ysvallassa olevan yhteisÃ¶n hallituksen tai siihen rinnastettavan toimielimen jÃ¤seneen.\"\"\",\n",
    "    \n",
    "\"\"\"33 Â§ Toimialajohtajien tehtÃ¤vÃ¤t ja toimivalta\n",
    "Toimialajohtajia ovat:\n",
    "- Lasten, nuorten ja perheiden palvelujen toimialalla lasten, nuorten ja perheiden palvelujen toimialajohtaja\n",
    "- AikuissosiaalityÃ¶n ja vammaisten palvelujen toimialalla aikuissosiaalityÃ¶n ja\n",
    "vammaisten palvelujen toimialajohtaja\n",
    "- Vanhusten palvelujen toimialalla vanhusten palvelujen toimialajohtaja\n",
    "- Terveydenhuollon palvelujen toimialalla terveydenhuollon palvelujen toimialajohtaja\n",
    "- Keski-Uudenmaan pelastuslaitoksen pelastusjohtaja\n",
    "- Konsernipalvelujen toimialalla konsernipalvelujen toimialajohtaja\n",
    "Toimialajohtaja vastaa toimialansa toiminnasta ja taloudesta sekÃ¤ johtaa ja kehittÃ¤Ã¤ toimintaa hyvinvointialuestrategian mukaisesti aluehallituksen ja hyvinvointialuejohtajan\n",
    "alaisuudessa.\n",
    "Toimialajohtajan toimivaltaan kuuluu pÃ¤Ã¤ttÃ¤Ã¤:\n",
    "1. sopimuksista, sitoumuksista, sekÃ¤ hankinnoista 47 Â§:n mukaisesti;\n",
    "2. valtionavun hakemisesta ja muutoksen hakemisesta sitÃ¤ koskevaan pÃ¤Ã¤tÃ¶kseen sekÃ¤ EU-avustuksen hakemisesta;\n",
    "3. toimialaansa koskeviin hankkeisiin osallistumisesta;\n",
    "4. vastauksen antamisesta toimialansa toimintaa koskevaan muistutukseen,\n",
    "kanteluun ja muuhun vastaavaan selvityspyyntÃ¶Ã¶n. Useampaa toimialaa\n",
    "koskevissa muistutuksissa, kanteluissa ja muissa vastaavissa selvityspyynnÃ¶issÃ¤ kukin toimialajohtaja (jonka toimialaa asia koskee) allekirjoittaa vastauksen osaltaan;\n",
    "5. omaa toimialaansa koskevista lausunnoista sekÃ¤ nÃ¤ihin rinnastettavista\n",
    "muista tehtÃ¤vistÃ¤, jollei asiaa sen periaatteellisen tai taloudellisen merkityksen johdosta ole saatettava aluehallituksen kÃ¤siteltÃ¤vÃ¤ksi;\n",
    "6. hyvinvointialueen puhevallan kÃ¤yttÃ¤misestÃ¤ tuomioistuimissa tai missÃ¤\n",
    "muuten hyvinvointialueen oikeudellinen edunvalvonta tulee kyseeseen;\n",
    "7. toimialaa koskevista tutkimusluvista sekÃ¤ tietoluvista;\n",
    "8. toimialaan liittyviin yhdistyksiin liittymisestÃ¤, kun yhdistyksen vuotuinen jÃ¤senmaksu on alle 1000 euroa;\n",
    "9. toimialan laskujen hyvÃ¤ksyjistÃ¤;\n",
    "10. toimialan omaisuuden myymisestÃ¤ ja lahjoittamisesta;\n",
    "11. toimialan tietosuojan ja tietoturvan jÃ¤rjestÃ¤misestÃ¤;\n",
    "12. toimialansa vastuualueelle kuuluvien tyÃ¶ryhmien jÃ¤senten nimeÃ¤misestÃ¤\n",
    "sekÃ¤ edustajien nimeÃ¤misestÃ¤ toimialansa vastuualueelle kuuluviin yhdistyksiin sekÃ¤ niiden kokouksiin, ellei kokous vaadi luottamushenkilÃ¶n nimeÃ¤mistÃ¤ kokousedustajaksi;\n",
    "13. toimialaansa koskevien toimintaohjeiden (pysyvÃ¤isluonteiset mÃ¤Ã¤rÃ¤ykset)\n",
    "antamisesta;\n",
    "14. muistakin toimialalle kuuluvista asioista, ellei toisin ole sÃ¤Ã¤detty tai mÃ¤Ã¤rÃ¤tty.\"\"\"]\n",
    "\n",
    "input = \"Kuka päättää uusien virkojen perustamisesta (answer IN FINNISH)?\"\n",
    "\n",
    "calculateContextRelevancy(actual_output, retrieval_context, input )"
   ]
  },
  {
   "cell_type": "code",
   "execution_count": null,
   "id": "d54f1163-2938-4b5c-9b8c-b5b078d4d6d3",
   "metadata": {},
   "outputs": [],
   "source": []
  }
 ],
 "metadata": {
  "kernelspec": {
   "display_name": "Python 3 (ipykernel)",
   "language": "python",
   "name": "python3"
  },
  "language_info": {
   "codemirror_mode": {
    "name": "ipython",
    "version": 3
   },
   "file_extension": ".py",
   "mimetype": "text/x-python",
   "name": "python",
   "nbconvert_exporter": "python",
   "pygments_lexer": "ipython3",
   "version": "3.11.10"
  }
 },
 "nbformat": 4,
 "nbformat_minor": 5
}
