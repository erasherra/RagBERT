{
 "cells": [
  {
   "cell_type": "code",
   "execution_count": 1,
   "id": "9739e420-ec21-4da7-9f58-30bdfa90e336",
   "metadata": {},
   "outputs": [
    {
     "name": "stderr",
     "output_type": "stream",
     "text": [
      "C:\\Users\\amiri\\anaconda3\\envs\\RagBERT\\Lib\\site-packages\\deepeval\\__init__.py:51: UserWarning: You are using deepeval version 2.1.7, however version 2.3.2 is available. You should consider upgrading via the \"pip install --upgrade deepeval\" command.\n",
      "  warnings.warn(\n"
     ]
    }
   ],
   "source": [
    "from deepeval import evaluate\n",
    "from deepeval.metrics import ContextualRelevancyMetric\n",
    "from deepeval.test_case import LLMTestCase"
   ]
  },
  {
   "cell_type": "code",
   "execution_count": 2,
   "id": "b20bfa90-0057-4d09-b0c2-cb26bdc3794b",
   "metadata": {},
   "outputs": [],
   "source": [
    "import os"
   ]
  },
  {
   "cell_type": "code",
   "execution_count": 3,
   "id": "9d4c7ea7-7080-41bc-93dd-4546b05a68ed",
   "metadata": {},
   "outputs": [],
   "source": [
    "from embedchain import App"
   ]
  },
  {
   "cell_type": "code",
   "execution_count": 4,
   "id": "e9b299f6-ce46-4dfc-91f5-f5038b3a74d9",
   "metadata": {},
   "outputs": [],
   "source": [
    "from transformers import pipeline"
   ]
  },
  {
   "cell_type": "code",
   "execution_count": 5,
   "id": "3c2d5030-f0c3-474e-a5e7-73ed59470293",
   "metadata": {},
   "outputs": [],
   "source": [
    "def calculateContextRelevancy(actual_output = \"\", retrieval_context=[], input=\"\"):\n",
    "    metric = ContextualRelevancyMetric(\n",
    "        threshold=0.7,\n",
    "        model=\"gpt-4\",\n",
    "        include_reason=True\n",
    "    )\n",
    "    test_case = LLMTestCase(\n",
    "        input,\n",
    "        actual_output=actual_output,\n",
    "        retrieval_context=retrieval_context\n",
    "    )\n",
    "\n",
    "    metric.measure(test_case)\n",
    "    print(metric.score)\n",
    "    print(metric.reason)\n",
    "    print()\n",
    "    \n",
    "    \n",
    "    return test_case, metric"
   ]
  },
  {
   "cell_type": "code",
   "execution_count": 6,
   "id": "5d0364c3-8bd1-481e-91ca-8839d6566254",
   "metadata": {},
   "outputs": [],
   "source": [
    "def evaluate_in_bulk(test_case, metric):\n",
    "    # evaluate test cases in bulk\n",
    "    evaluate([test_case], [metric])"
   ]
  },
  {
   "cell_type": "code",
   "execution_count": 7,
   "id": "4d1125d7-1be1-4bb7-9927-89d0c24d00dd",
   "metadata": {},
   "outputs": [],
   "source": [
    "inputs = [\"\"\"Voiko luottamustehtävässä edelleen olla, jos muuttaa toiselle paikkakunnalle (answer IN FINNISH)?\"\"\",\n",
    "         \"\"\"Voidaanko turhaa irtaimistoa lahjoittaa yliopistolle ja kuka päättää irtaimiston lahjoittamisesta (answer IN FINNISH)?\"\"\",\n",
    "         \"\"\"Kuka päättää uusien virkojen perustamisesta (answer IN FINNISH)?\"\"\",\n",
    "         \"\"\"Mikäli toimipisteessä sattuu vesivahinko, jonka myötä toiminta\n",
    "         tulee siirtää muualle, kuka päättää toimipisteen siirrosta, mikäli\n",
    "         asiasta on jo tehty viranhaltijapäätös kahdelle kuukaudelle, mutta\n",
    "         alkuperäisessä toimipisteessä olevien laajojen ongelmien vuoksi,\n",
    "         toimintaa joudutaan edelleen jatkamaan toisessa toimipisteessä (answer IN FINNISH)?\"\"\",\n",
    "         \"\"\"Mikä on aluehallituksen rooli osakeyhtiön perustamiseen liittyvissä asioissa (answer IN FINNISH)?\"\"\"]"
   ]
  },
  {
   "cell_type": "code",
   "execution_count": 8,
   "id": "2494746c-fd4a-49eb-9ff6-a43506e689e9",
   "metadata": {},
   "outputs": [],
   "source": [
    "dir_path = \"./chunks_hallinto/\""
   ]
  },
  {
   "cell_type": "code",
   "execution_count": 9,
   "id": "fad415b6-cdbd-45d8-b9ad-7bbc5be719fd",
   "metadata": {},
   "outputs": [],
   "source": [
    "file_names = []\n",
    "for i, file in enumerate(os.listdir(dir_path)):\n",
    "        file = dir_path + file\n",
    "        # Check if the file has a .txt extension\n",
    "        if file.endswith('.txt'):\n",
    "            file_names.append( file)"
   ]
  },
  {
   "cell_type": "code",
   "execution_count": 10,
   "id": "b82068a6-0f4f-4fc1-98f1-601f97085d71",
   "metadata": {},
   "outputs": [
    {
     "data": {
      "text/plain": [
       "['./chunks_hallinto/chunk.txt',\n",
       " './chunks_hallinto/chunk2.txt',\n",
       " './chunks_hallinto/chunk3.txt',\n",
       " './chunks_hallinto/chunk4.txt',\n",
       " './chunks_hallinto/chunk5.txt',\n",
       " './chunks_hallinto/chunk6.txt']"
      ]
     },
     "execution_count": 10,
     "metadata": {},
     "output_type": "execute_result"
    }
   ],
   "source": [
    "file_names"
   ]
  },
  {
   "cell_type": "markdown",
   "id": "f1e4bcff-8b6a-4d5d-aa1a-bf393fc82954",
   "metadata": {},
   "source": [
    "## Evaluate RAG + Vector DB"
   ]
  },
  {
   "cell_type": "markdown",
   "id": "20d73dee-7249-43e6-9721-763575f2ac0e",
   "metadata": {},
   "source": [
    "### Initialize embedcahin"
   ]
  },
  {
   "cell_type": "code",
   "execution_count": 15,
   "id": "2646b252-9e64-4adb-b077-0bfdc56304e4",
   "metadata": {},
   "outputs": [
    {
     "data": {
      "text/plain": [
       "'3e655cea63f45a0f404b6ba32ad6e35f'"
      ]
     },
     "execution_count": 15,
     "metadata": {},
     "output_type": "execute_result"
    }
   ],
   "source": [
    "app = App()\n",
    "app.add('./chunks_hallinto/chunk.txt', data_type=\"text_file\")\n",
    "app.add('./chunks_hallinto/chunk2.txt', data_type=\"text_file\")\n",
    "app.add('./chunks_hallinto/chunk3.txt', data_type=\"text_file\")\n",
    "app.add('./chunks_hallinto/chunk4.txt', data_type=\"text_file\")\n",
    "app.add('./chunks_hallinto/chunk5.txt', data_type=\"text_file\")\n",
    "app.add('./chunks_hallinto/chunk6.txt', data_type=\"text_file\")\n",
    "\n"
   ]
  },
  {
   "cell_type": "code",
   "execution_count": 16,
   "id": "5e416ba1-52e4-4c98-84cc-de22c4cdd800",
   "metadata": {},
   "outputs": [],
   "source": [
    "embedchain_results = []"
   ]
  },
  {
   "cell_type": "markdown",
   "id": "06819468-d39f-4bcd-b114-43d950066267",
   "metadata": {},
   "source": [
    "#### Analyze the inputs"
   ]
  },
  {
   "cell_type": "code",
   "execution_count": 18,
   "id": "e88319bd-d4e8-4085-8cb2-19698e0bf710",
   "metadata": {},
   "outputs": [
    {
     "data": {
      "application/vnd.jupyter.widget-view+json": {
       "model_id": "",
       "version_major": 2,
       "version_minor": 0
      },
      "text/plain": [
       "Output()"
      ]
     },
     "metadata": {},
     "output_type": "display_data"
    },
    {
     "data": {
      "text/html": [
       "<pre style=\"white-space:pre;overflow-x:auto;line-height:normal;font-family:Menlo,'DejaVu Sans Mono',consolas,'Courier New',monospace\">Event loop is already running. Applying nest_asyncio patch to allow async execution...\n",
       "</pre>\n"
      ],
      "text/plain": [
       "Event loop is already running. Applying nest_asyncio patch to allow async execution...\n"
      ]
     },
     "metadata": {},
     "output_type": "display_data"
    },
    {
     "data": {
      "text/html": [
       "<pre style=\"white-space:pre;overflow-x:auto;line-height:normal;font-family:Menlo,'DejaVu Sans Mono',consolas,'Courier New',monospace\"></pre>\n"
      ],
      "text/plain": []
     },
     "metadata": {},
     "output_type": "display_data"
    },
    {
     "name": "stdout",
     "output_type": "stream",
     "text": [
      "0.0\n",
      "The score is 0.00 because all retrieved statements such as 'jossa on kyseessä viran määräaikainen täyttö' and 'jossa on kyseessä viran uudelleen täyttäminen...' are irrelevant to the input query about continuing duties after moving to a new location, and no relevant statements were found in the retrieval context.\n"
     ]
    },
    {
     "data": {
      "text/html": [
       "<pre style=\"white-space:pre;overflow-x:auto;line-height:normal;font-family:Menlo,'DejaVu Sans Mono',consolas,'Courier New',monospace\">✨ You're running DeepEval's latest <span style=\"color: #6a00ff; text-decoration-color: #6a00ff\">Contextual Relevancy Metric</span>! <span style=\"color: #374151; text-decoration-color: #374151; font-weight: bold\">(</span><span style=\"color: #374151; text-decoration-color: #374151\">using gpt-</span><span style=\"color: #374151; text-decoration-color: #374151; font-weight: bold\">4</span><span style=\"color: #374151; text-decoration-color: #374151\">, </span><span style=\"color: #374151; text-decoration-color: #374151\">strict</span><span style=\"color: #374151; text-decoration-color: #374151\">=</span><span style=\"color: #374151; text-decoration-color: #374151; font-style: italic\">False</span><span style=\"color: #374151; text-decoration-color: #374151\">, </span><span style=\"color: #374151; text-decoration-color: #374151\">async_mode</span><span style=\"color: #374151; text-decoration-color: #374151\">=</span><span style=\"color: #374151; text-decoration-color: #374151; font-style: italic\">True</span><span style=\"color: #374151; text-decoration-color: #374151; font-weight: bold\">)</span><span style=\"color: #374151; text-decoration-color: #374151\">...</span>\n",
       "</pre>\n"
      ],
      "text/plain": [
       "✨ You're running DeepEval's latest \u001b[38;2;106;0;255mContextual Relevancy Metric\u001b[0m! \u001b[1;38;2;55;65;81m(\u001b[0m\u001b[38;2;55;65;81musing gpt-\u001b[0m\u001b[1;38;2;55;65;81m4\u001b[0m\u001b[38;2;55;65;81m, \u001b[0m\u001b[38;2;55;65;81mstrict\u001b[0m\u001b[38;2;55;65;81m=\u001b[0m\u001b[3;38;2;55;65;81mFalse\u001b[0m\u001b[38;2;55;65;81m, \u001b[0m\u001b[38;2;55;65;81masync_mode\u001b[0m\u001b[38;2;55;65;81m=\u001b[0m\u001b[3;38;2;55;65;81mTrue\u001b[0m\u001b[1;38;2;55;65;81m)\u001b[0m\u001b[38;2;55;65;81m...\u001b[0m\n"
      ]
     },
     "metadata": {},
     "output_type": "display_data"
    },
    {
     "name": "stdout",
     "output_type": "stream",
     "text": [
      "Event loop is already running. Applying nest_asyncio patch to allow async execution...\n"
     ]
    },
    {
     "name": "stderr",
     "output_type": "stream",
     "text": [
      "Evaluating 1 test case(s) in parallel: |██████████████████████████████|100% (1/1) [Time Taken: 00:51, 51.98s/test case]"
     ]
    },
    {
     "name": "stdout",
     "output_type": "stream",
     "text": [
      "\n",
      "======================================================================\n",
      "\n",
      "Metrics Summary\n",
      "\n",
      "  - ❌ Contextual Relevancy (score: 0.0, threshold: 0.7, strict: False, evaluation model: gpt-4, reason: The score is 0.00 because all the statements in the retrieval context are irrelevant to the question about 'continuing in a position of trust after moving to another municipality'. The statements are about different topics such as 'temporary filling of a position', 'refilling a position in certain circumstances' and 'selecting a former official who receives a disability pension'. Furthermore, none of the statements mention anything about 'moving to another location' (muuttaa toiselle paikkakunnalle)., error: None)\n",
      "\n",
      "For test case:\n",
      "\n",
      "  - input: Voiko luottamustehtävässä edelleen olla, jos muuttaa toiselle paikkakunnalle (answer IN FINNISH)?\n",
      "  - actual output: Luottamustehtävässä voi edelleen olla, mutta se riippuu tehtävän luonteesta ja mahdollisista säännöistä tai määräyksistä, jotka koskevat kyseistä tehtävää. Jos tehtävä edellyttää paikallista läsnäoloa tai on sidoksissa tiettyyn alueeseen, muutos toiselle paikkakunnalle voi vaikuttaa mahdollisuuteen jatkaa tehtävässä. On suositeltavaa tarkistaa kyseisen luottamustehtävän säännöt tai kysyä asiasta asianomaiselta organisaatiolta.\n",
      "  - expected output: None\n",
      "  - context: None\n",
      "  - retrieval context: ['Vantaan ja Keravan hyvinvointialueen hallintosääntö Sivu 49\\n1. jossa on kyseessä viran määräaikainen täyttö;\\n2. jossa on kyseessä viran uudelleen täyttäminen sitä aikaisemmin hakeneiden, asianomaiset kelpoisuusvaatimukset täyttävien joukosta virkaan valitun irtisanouduttua ennen hänelle määrättyä virantoimituksen aloittamispäivää tai ilmoitettua, ettei ota virkaa vastaan tai siitä syystä, että virkasuhde\\npuretaan koeaikana, taikka siitä syystä, että virkaan ottamista koskeva\\npäätös on lainvoimaisella päätöksellä kumottu ja asia palautettu uudelleen\\nkäsiteltäväksi;\\n3. jossa kyseessä on hyvinvointialueen sellaisen entisen viranhaltijan valitseminen, joka saa julkisten alojen eläkelaissa tarkoitettua työkyvyttömyyseläkettä ja joka ennen eläkeiän saavuttamista todetaan ansiotyöhön kykeneväksi;\\n4. johon Vantaan ja Keravan hyvinvointialue on hänet kouluttanut tai johon\\nvaadittavaa pätevöitymiskoulutusta hyvinvointialue on tukenut ja jonka kelpoisuusvaatimukset henkilö täyttää,\\n5. johon henkilö on tarkoituksenmukaista ottaa hänen palvelussuhdettaan\\nkoskevien uudelleen järjestelyjen vuoksi;\\n6. muu edellä mainittuihin verrattava, hyväksyttävä syy.', '50 § Toimivalta henkilöstöasioissa\\nMikäli toimivallasta henkilöstöasioissa ei ole säädetty laissa eikä määrätty hallintosäännössä, toimivalta on hyvinvointialuejohtajalla.\\n51 § Viran perustaminen ja lakkauttaminen sekä viran kelpoisuusvaatimukset ja\\nnimikkeen muuttaminen\\nAluevaltuusto päättää hyvinvointialuejohtajan ja toimialajohtajien virkojen perustamisesta ja lakkauttamisesta sekä virkanimikkeen muuttamisesta.\\nAluehallitus päättää muiden virkojen perustamisesta ja lakkauttamisesta. Virkanimikkeen muuttamisesta päättää hyvinvointialuejohtaja.\\nViran kelpoisuusvaatimusten muuttamisesta päättää toimialajohtaja alaistensa\\nviranhaltijoiden osalta ottaen huomioon, mitä erikseen on säädetty tai määrätty.\\nHyvinvointialuejohtajan viran kelpoisuusvaatimuksista päättää aluevaltuusto.\\nMuiden virkojen kelpoisuusvaatimuksista päätetään virkaa perustettaessa.\\nPelastuslautakunta päättää pelastuslaitosta koskevat asiat 25 §:n mukaisesti.\\n52 § Palvelussuhdetta koskevat muutokset\\nPalvelussuhdetta koskevista muutoksista mukaan lukien virkasuhteen muuttaminen työsuhteeksi, palvelussuhteen muuttaminen osa-aikaiseksi, viranhaltijan virantoimitusvelvollisuuden muuttaminen ja viranhaltijan siirtäminen toiseen virkasuhteeseen päättää palvelussuhteeseen ottava viranomainen.\\n53 § Siirrot\\nViran siirtämisestä toimialalta toiselle päättää hyvinvointialuejohtaja tai hänen\\nmääräämänsä viranhaltija.\\nKuitenkin mikäli aluevaltuusto tai aluehallitus tai pelastuslautakunta päättää viran\\ntäyttämisestä, aluevaltuusto ja vastaavasti aluehallitus ja pelastuslautakunta\\nmyös päättää viran siirtämisestä.\\n54 § Viran haettavaksi julistaminen\\nViran julistaa haettavaksi valinnasta päättävä toimielin tai viranhaltija. Viran julistaa kuitenkin haettavaksi aluehallitus, kun valinnasta päättävä viranomainen on\\naluevaltuusto. Kunnan ja hyvinvointialueen viranhaltijasta annetun lain 4 §:n 3\\nmomentissa säädetyn lisäksi henkilö voidaan ottaa ilman julkista hakumenettelyä\\nsellaiseen virkasuhteeseen:', '4)\\u2002henkilö, joka on hallituksen tai siihen rinnastettavan toimielimen jäsenenä taikka johtavassa ja vastuullisessa tehtävässä tai siihen rinnastettavassa asemassa liiketoimintaa harjoittavassa yhteisössä tai säätiössä, jos kysymyksessä on sellainen yhteisö, jolle aluehallituksessa tavanomaisesti käsiteltävien asioiden ratkaisu on omiaan tuottamaan olennaista hyötyä tai vahinkoa.\\n\\nHenkilöstön edunvalvonnasta asianomaisella hyvinvointialueella huolehtivan yhteisön hallituksen tai siihen rinnastettavan toimielimen puheenjohtaja ei ole vaalikelpoinen aluehallitukseen. Vaalikelpoinen ei myöskään ole henkilö, joka yhteisön neuvottelijana tai muussa vastaavassa ominaisuudessa vastaa sen edunvalvonnasta.\\n\\nEnemmistön aluehallituksen jäsenistä on oltava muita kuin hyvinvointialueen tai hyvinvointialueen määräysvallassa olevan yhteisön tai säätiön palveluksessa olevia henkilöitä.\\n\\nEdellä 1 momentin 4 kohtaa ei sovelleta hyvinvointialueen määräysvallassa olevan yhteisön hallituksen tai siihen rinnastettavan toimielimen jäseneen.']\n",
      "\n",
      "======================================================================\n",
      "\n",
      "Overall Metric Pass Rates\n",
      "\n",
      "Contextual Relevancy: 0.00% pass rate\n",
      "\n",
      "======================================================================\n",
      "\n"
     ]
    },
    {
     "name": "stderr",
     "output_type": "stream",
     "text": [
      "\n"
     ]
    },
    {
     "data": {
      "text/html": [
       "<pre style=\"white-space:pre;overflow-x:auto;line-height:normal;font-family:Menlo,'DejaVu Sans Mono',consolas,'Courier New',monospace\"><span style=\"color: #05f58d; text-decoration-color: #05f58d\">✓</span> Tests finished 🎉! Run <span style=\"color: #008000; text-decoration-color: #008000\">'deepeval login'</span> to save and analyze evaluation results on Confident AI. \n",
       "‼️  Friendly reminder 😇: You can also run evaluations with ALL of deepeval's metrics directly on Confident AI \n",
       "instead.\n",
       "</pre>\n"
      ],
      "text/plain": [
       "\u001b[38;2;5;245;141m✓\u001b[0m Tests finished 🎉! Run \u001b[32m'deepeval login'\u001b[0m to save and analyze evaluation results on Confident AI. \n",
       "‼️  Friendly reminder 😇: You can also run evaluations with ALL of deepeval's metrics directly on Confident AI \n",
       "instead.\n"
      ]
     },
     "metadata": {},
     "output_type": "display_data"
    },
    {
     "data": {
      "application/vnd.jupyter.widget-view+json": {
       "model_id": "",
       "version_major": 2,
       "version_minor": 0
      },
      "text/plain": [
       "Output()"
      ]
     },
     "metadata": {},
     "output_type": "display_data"
    },
    {
     "data": {
      "text/html": [
       "<pre style=\"white-space:pre;overflow-x:auto;line-height:normal;font-family:Menlo,'DejaVu Sans Mono',consolas,'Courier New',monospace\">Event loop is already running. Applying nest_asyncio patch to allow async execution...\n",
       "</pre>\n"
      ],
      "text/plain": [
       "Event loop is already running. Applying nest_asyncio patch to allow async execution...\n"
      ]
     },
     "metadata": {},
     "output_type": "display_data"
    },
    {
     "data": {
      "text/html": [
       "<pre style=\"white-space:pre;overflow-x:auto;line-height:normal;font-family:Menlo,'DejaVu Sans Mono',consolas,'Courier New',monospace\"></pre>\n"
      ],
      "text/plain": []
     },
     "metadata": {},
     "output_type": "display_data"
    },
    {
     "name": "stdout",
     "output_type": "stream",
     "text": [
      "0.0\n",
      "The score is 0.00 because none of the information or statements in the retrieval context are related to the question about donating unnecessary property to the university. Statements such as 'jossa on kyseessä viran määräaikainen täyttö' and 'Aluevaltuusto' are not relevant to the input.\n"
     ]
    },
    {
     "data": {
      "text/html": [
       "<pre style=\"white-space:pre;overflow-x:auto;line-height:normal;font-family:Menlo,'DejaVu Sans Mono',consolas,'Courier New',monospace\">✨ You're running DeepEval's latest <span style=\"color: #6a00ff; text-decoration-color: #6a00ff\">Contextual Relevancy Metric</span>! <span style=\"color: #374151; text-decoration-color: #374151; font-weight: bold\">(</span><span style=\"color: #374151; text-decoration-color: #374151\">using gpt-</span><span style=\"color: #374151; text-decoration-color: #374151; font-weight: bold\">4</span><span style=\"color: #374151; text-decoration-color: #374151\">, </span><span style=\"color: #374151; text-decoration-color: #374151\">strict</span><span style=\"color: #374151; text-decoration-color: #374151\">=</span><span style=\"color: #374151; text-decoration-color: #374151; font-style: italic\">False</span><span style=\"color: #374151; text-decoration-color: #374151\">, </span><span style=\"color: #374151; text-decoration-color: #374151\">async_mode</span><span style=\"color: #374151; text-decoration-color: #374151\">=</span><span style=\"color: #374151; text-decoration-color: #374151; font-style: italic\">True</span><span style=\"color: #374151; text-decoration-color: #374151; font-weight: bold\">)</span><span style=\"color: #374151; text-decoration-color: #374151\">...</span>\n",
       "</pre>\n"
      ],
      "text/plain": [
       "✨ You're running DeepEval's latest \u001b[38;2;106;0;255mContextual Relevancy Metric\u001b[0m! \u001b[1;38;2;55;65;81m(\u001b[0m\u001b[38;2;55;65;81musing gpt-\u001b[0m\u001b[1;38;2;55;65;81m4\u001b[0m\u001b[38;2;55;65;81m, \u001b[0m\u001b[38;2;55;65;81mstrict\u001b[0m\u001b[38;2;55;65;81m=\u001b[0m\u001b[3;38;2;55;65;81mFalse\u001b[0m\u001b[38;2;55;65;81m, \u001b[0m\u001b[38;2;55;65;81masync_mode\u001b[0m\u001b[38;2;55;65;81m=\u001b[0m\u001b[3;38;2;55;65;81mTrue\u001b[0m\u001b[1;38;2;55;65;81m)\u001b[0m\u001b[38;2;55;65;81m...\u001b[0m\n"
      ]
     },
     "metadata": {},
     "output_type": "display_data"
    },
    {
     "name": "stdout",
     "output_type": "stream",
     "text": [
      "Event loop is already running. Applying nest_asyncio patch to allow async execution...\n"
     ]
    },
    {
     "name": "stderr",
     "output_type": "stream",
     "text": [
      "Evaluating 1 test case(s) in parallel: |██████████████████████████████|100% (1/1) [Time Taken: 00:57, 57.73s/test case]"
     ]
    },
    {
     "name": "stdout",
     "output_type": "stream",
     "text": [
      "\n",
      "======================================================================\n",
      "\n",
      "Metrics Summary\n",
      "\n",
      "  - ❌ Contextual Relevancy (score: 0.0, threshold: 0.7, strict: False, evaluation model: gpt-4, reason: The score is 0.00 because none of the statements in the retrieval context are relevant to the question about the possibility of donating unnecessary property to the university and who decides on the donation of property. The statements primarily concern personnel matters, establishing and abolishing a position, changing the title of the position, service relationship, and the qualifications of a person to be part of a governing body, which are all irrelevant to the input question., error: None)\n",
      "\n",
      "For test case:\n",
      "\n",
      "  - input: Voidaanko turhaa irtaimistoa lahjoittaa yliopistolle ja kuka päättää irtaimiston lahjoittamisesta (answer IN FINNISH)?\n",
      "  - actual output: Turhan irtaimiston lahjoittaminen yliopistolle on mahdollista, mutta päätös lahjoittamisesta tehdään organisaation hallituksen tai vastaavan toimielimen toimesta. Lahjoituksesta on hyvä keskustella etukäteen, jotta varmistetaan, että se on linjassa organisaation tavoitteiden ja käytäntöjen kanssa.\n",
      "  - expected output: None\n",
      "  - context: None\n",
      "  - retrieval context: ['Vantaan ja Keravan hyvinvointialueen hallintosääntö Sivu 49\\n1. jossa on kyseessä viran määräaikainen täyttö;\\n2. jossa on kyseessä viran uudelleen täyttäminen sitä aikaisemmin hakeneiden, asianomaiset kelpoisuusvaatimukset täyttävien joukosta virkaan valitun irtisanouduttua ennen hänelle määrättyä virantoimituksen aloittamispäivää tai ilmoitettua, ettei ota virkaa vastaan tai siitä syystä, että virkasuhde\\npuretaan koeaikana, taikka siitä syystä, että virkaan ottamista koskeva\\npäätös on lainvoimaisella päätöksellä kumottu ja asia palautettu uudelleen\\nkäsiteltäväksi;\\n3. jossa kyseessä on hyvinvointialueen sellaisen entisen viranhaltijan valitseminen, joka saa julkisten alojen eläkelaissa tarkoitettua työkyvyttömyyseläkettä ja joka ennen eläkeiän saavuttamista todetaan ansiotyöhön kykeneväksi;\\n4. johon Vantaan ja Keravan hyvinvointialue on hänet kouluttanut tai johon\\nvaadittavaa pätevöitymiskoulutusta hyvinvointialue on tukenut ja jonka kelpoisuusvaatimukset henkilö täyttää,\\n5. johon henkilö on tarkoituksenmukaista ottaa hänen palvelussuhdettaan\\nkoskevien uudelleen järjestelyjen vuoksi;\\n6. muu edellä mainittuihin verrattava, hyväksyttävä syy.', '50 § Toimivalta henkilöstöasioissa\\nMikäli toimivallasta henkilöstöasioissa ei ole säädetty laissa eikä määrätty hallintosäännössä, toimivalta on hyvinvointialuejohtajalla.\\n51 § Viran perustaminen ja lakkauttaminen sekä viran kelpoisuusvaatimukset ja\\nnimikkeen muuttaminen\\nAluevaltuusto päättää hyvinvointialuejohtajan ja toimialajohtajien virkojen perustamisesta ja lakkauttamisesta sekä virkanimikkeen muuttamisesta.\\nAluehallitus päättää muiden virkojen perustamisesta ja lakkauttamisesta. Virkanimikkeen muuttamisesta päättää hyvinvointialuejohtaja.\\nViran kelpoisuusvaatimusten muuttamisesta päättää toimialajohtaja alaistensa\\nviranhaltijoiden osalta ottaen huomioon, mitä erikseen on säädetty tai määrätty.\\nHyvinvointialuejohtajan viran kelpoisuusvaatimuksista päättää aluevaltuusto.\\nMuiden virkojen kelpoisuusvaatimuksista päätetään virkaa perustettaessa.\\nPelastuslautakunta päättää pelastuslaitosta koskevat asiat 25 §:n mukaisesti.\\n52 § Palvelussuhdetta koskevat muutokset\\nPalvelussuhdetta koskevista muutoksista mukaan lukien virkasuhteen muuttaminen työsuhteeksi, palvelussuhteen muuttaminen osa-aikaiseksi, viranhaltijan virantoimitusvelvollisuuden muuttaminen ja viranhaltijan siirtäminen toiseen virkasuhteeseen päättää palvelussuhteeseen ottava viranomainen.\\n53 § Siirrot\\nViran siirtämisestä toimialalta toiselle päättää hyvinvointialuejohtaja tai hänen\\nmääräämänsä viranhaltija.\\nKuitenkin mikäli aluevaltuusto tai aluehallitus tai pelastuslautakunta päättää viran\\ntäyttämisestä, aluevaltuusto ja vastaavasti aluehallitus ja pelastuslautakunta\\nmyös päättää viran siirtämisestä.\\n54 § Viran haettavaksi julistaminen\\nViran julistaa haettavaksi valinnasta päättävä toimielin tai viranhaltija. Viran julistaa kuitenkin haettavaksi aluehallitus, kun valinnasta päättävä viranomainen on\\naluevaltuusto. Kunnan ja hyvinvointialueen viranhaltijasta annetun lain 4 §:n 3\\nmomentissa säädetyn lisäksi henkilö voidaan ottaa ilman julkista hakumenettelyä\\nsellaiseen virkasuhteeseen:', '4)\\u2002henkilö, joka on hallituksen tai siihen rinnastettavan toimielimen jäsenenä taikka johtavassa ja vastuullisessa tehtävässä tai siihen rinnastettavassa asemassa liiketoimintaa harjoittavassa yhteisössä tai säätiössä, jos kysymyksessä on sellainen yhteisö, jolle aluehallituksessa tavanomaisesti käsiteltävien asioiden ratkaisu on omiaan tuottamaan olennaista hyötyä tai vahinkoa.\\n\\nHenkilöstön edunvalvonnasta asianomaisella hyvinvointialueella huolehtivan yhteisön hallituksen tai siihen rinnastettavan toimielimen puheenjohtaja ei ole vaalikelpoinen aluehallitukseen. Vaalikelpoinen ei myöskään ole henkilö, joka yhteisön neuvottelijana tai muussa vastaavassa ominaisuudessa vastaa sen edunvalvonnasta.\\n\\nEnemmistön aluehallituksen jäsenistä on oltava muita kuin hyvinvointialueen tai hyvinvointialueen määräysvallassa olevan yhteisön tai säätiön palveluksessa olevia henkilöitä.\\n\\nEdellä 1 momentin 4 kohtaa ei sovelleta hyvinvointialueen määräysvallassa olevan yhteisön hallituksen tai siihen rinnastettavan toimielimen jäseneen.']\n",
      "\n",
      "======================================================================\n",
      "\n",
      "Overall Metric Pass Rates\n",
      "\n",
      "Contextual Relevancy: 0.00% pass rate\n",
      "\n",
      "======================================================================\n",
      "\n"
     ]
    },
    {
     "name": "stderr",
     "output_type": "stream",
     "text": [
      "\n"
     ]
    },
    {
     "data": {
      "text/html": [
       "<pre style=\"white-space:pre;overflow-x:auto;line-height:normal;font-family:Menlo,'DejaVu Sans Mono',consolas,'Courier New',monospace\"><span style=\"color: #05f58d; text-decoration-color: #05f58d\">✓</span> Tests finished 🎉! Run <span style=\"color: #008000; text-decoration-color: #008000\">'deepeval login'</span> to save and analyze evaluation results on Confident AI. \n",
       "‼️  Friendly reminder 😇: You can also run evaluations with ALL of deepeval's metrics directly on Confident AI \n",
       "instead.\n",
       "</pre>\n"
      ],
      "text/plain": [
       "\u001b[38;2;5;245;141m✓\u001b[0m Tests finished 🎉! Run \u001b[32m'deepeval login'\u001b[0m to save and analyze evaluation results on Confident AI. \n",
       "‼️  Friendly reminder 😇: You can also run evaluations with ALL of deepeval's metrics directly on Confident AI \n",
       "instead.\n"
      ]
     },
     "metadata": {},
     "output_type": "display_data"
    },
    {
     "data": {
      "application/vnd.jupyter.widget-view+json": {
       "model_id": "",
       "version_major": 2,
       "version_minor": 0
      },
      "text/plain": [
       "Output()"
      ]
     },
     "metadata": {},
     "output_type": "display_data"
    },
    {
     "data": {
      "text/html": [
       "<pre style=\"white-space:pre;overflow-x:auto;line-height:normal;font-family:Menlo,'DejaVu Sans Mono',consolas,'Courier New',monospace\">Event loop is already running. Applying nest_asyncio patch to allow async execution...\n",
       "</pre>\n"
      ],
      "text/plain": [
       "Event loop is already running. Applying nest_asyncio patch to allow async execution...\n"
      ]
     },
     "metadata": {},
     "output_type": "display_data"
    },
    {
     "data": {
      "text/html": [
       "<pre style=\"white-space:pre;overflow-x:auto;line-height:normal;font-family:Menlo,'DejaVu Sans Mono',consolas,'Courier New',monospace\"></pre>\n"
      ],
      "text/plain": []
     },
     "metadata": {},
     "output_type": "display_data"
    },
    {
     "name": "stdout",
     "output_type": "stream",
     "text": [
      "0.13333333333333333\n",
      "The score is 0.13 because while the retrieval context did contain relevant statements such as 'Aluevaltuusto päättää hyvinvointialuejohtajan ja toimialajohtajien virkojen perustamisesta ja lakkauttamisesta sekä virkanimikkeen muuttamisesta.' and 'Aluehallitus päättää muiden virkojen perustamisesta ja lakkauttamisesta. Virkanimikkeen muuttamisesta päättää hyvinvointialuejohtaja.', a majority of the statements were irrelevant to the input, as they did not specifically address who decides on the establishment of new positions.\n"
     ]
    },
    {
     "data": {
      "text/html": [
       "<pre style=\"white-space:pre;overflow-x:auto;line-height:normal;font-family:Menlo,'DejaVu Sans Mono',consolas,'Courier New',monospace\">✨ You're running DeepEval's latest <span style=\"color: #6a00ff; text-decoration-color: #6a00ff\">Contextual Relevancy Metric</span>! <span style=\"color: #374151; text-decoration-color: #374151; font-weight: bold\">(</span><span style=\"color: #374151; text-decoration-color: #374151\">using gpt-</span><span style=\"color: #374151; text-decoration-color: #374151; font-weight: bold\">4</span><span style=\"color: #374151; text-decoration-color: #374151\">, </span><span style=\"color: #374151; text-decoration-color: #374151\">strict</span><span style=\"color: #374151; text-decoration-color: #374151\">=</span><span style=\"color: #374151; text-decoration-color: #374151; font-style: italic\">False</span><span style=\"color: #374151; text-decoration-color: #374151\">, </span><span style=\"color: #374151; text-decoration-color: #374151\">async_mode</span><span style=\"color: #374151; text-decoration-color: #374151\">=</span><span style=\"color: #374151; text-decoration-color: #374151; font-style: italic\">True</span><span style=\"color: #374151; text-decoration-color: #374151; font-weight: bold\">)</span><span style=\"color: #374151; text-decoration-color: #374151\">...</span>\n",
       "</pre>\n"
      ],
      "text/plain": [
       "✨ You're running DeepEval's latest \u001b[38;2;106;0;255mContextual Relevancy Metric\u001b[0m! \u001b[1;38;2;55;65;81m(\u001b[0m\u001b[38;2;55;65;81musing gpt-\u001b[0m\u001b[1;38;2;55;65;81m4\u001b[0m\u001b[38;2;55;65;81m, \u001b[0m\u001b[38;2;55;65;81mstrict\u001b[0m\u001b[38;2;55;65;81m=\u001b[0m\u001b[3;38;2;55;65;81mFalse\u001b[0m\u001b[38;2;55;65;81m, \u001b[0m\u001b[38;2;55;65;81masync_mode\u001b[0m\u001b[38;2;55;65;81m=\u001b[0m\u001b[3;38;2;55;65;81mTrue\u001b[0m\u001b[1;38;2;55;65;81m)\u001b[0m\u001b[38;2;55;65;81m...\u001b[0m\n"
      ]
     },
     "metadata": {},
     "output_type": "display_data"
    },
    {
     "name": "stdout",
     "output_type": "stream",
     "text": [
      "Event loop is already running. Applying nest_asyncio patch to allow async execution...\n"
     ]
    },
    {
     "name": "stderr",
     "output_type": "stream",
     "text": [
      "Evaluating 1 test case(s) in parallel: |██████████████████████████████|100% (1/1) [Time Taken: 01:02, 62.09s/test case]"
     ]
    },
    {
     "name": "stdout",
     "output_type": "stream",
     "text": [
      "\n",
      "======================================================================\n",
      "\n",
      "Metrics Summary\n",
      "\n",
      "  - ❌ Contextual Relevancy (score: 0.10526315789473684, threshold: 0.7, strict: False, evaluation model: gpt-4, reason: The score is 0.11 because the majority of the context discussed irrelevant topics such as 'Viran kelpoisuusvaatimusten muuttamisesta', 'Hyvinvointialuejohtajan viran kelpoisuusvaatimuksista', 'Muiden virkojen kelpoisuusvaatimuksista päätetään virkaa perustettaessa', and 'Pelastuslautakunta päättää pelastuslaitosta koskevat asiat 25 §:n mukaisesti.' among others, which do not answer the question about who decides on the establishment of new positions. Only two statements, 'Aluevaltuusto päättää hyvinvointialuejohtajan ja toimialajohtajien virkojen perustamisesta ja lakkauttamisesta sekä virkanimikkeen muuttamisesta.' and 'Aluehallitus päättää muiden virkojen perustamisesta ja lakkauttamisesta. Virkanimikkeen muuttamisesta päättää hyvinvointialuejohtaja.' were relevant to the input., error: None)\n",
      "\n",
      "For test case:\n",
      "\n",
      "  - input: Kuka päättää uusien virkojen perustamisesta (answer IN FINNISH)?\n",
      "  - actual output: Uusien virkojen perustamisesta päättää aluevaltuusto hyvinvointialuejohtajan ja toimialajohtajien virkojen osalta, kun taas muiden virkojen perustamisesta päättää aluehallitus.\n",
      "  - expected output: None\n",
      "  - context: None\n",
      "  - retrieval context: ['50 § Toimivalta henkilöstöasioissa\\nMikäli toimivallasta henkilöstöasioissa ei ole säädetty laissa eikä määrätty hallintosäännössä, toimivalta on hyvinvointialuejohtajalla.\\n51 § Viran perustaminen ja lakkauttaminen sekä viran kelpoisuusvaatimukset ja\\nnimikkeen muuttaminen\\nAluevaltuusto päättää hyvinvointialuejohtajan ja toimialajohtajien virkojen perustamisesta ja lakkauttamisesta sekä virkanimikkeen muuttamisesta.\\nAluehallitus päättää muiden virkojen perustamisesta ja lakkauttamisesta. Virkanimikkeen muuttamisesta päättää hyvinvointialuejohtaja.\\nViran kelpoisuusvaatimusten muuttamisesta päättää toimialajohtaja alaistensa\\nviranhaltijoiden osalta ottaen huomioon, mitä erikseen on säädetty tai määrätty.\\nHyvinvointialuejohtajan viran kelpoisuusvaatimuksista päättää aluevaltuusto.\\nMuiden virkojen kelpoisuusvaatimuksista päätetään virkaa perustettaessa.\\nPelastuslautakunta päättää pelastuslaitosta koskevat asiat 25 §:n mukaisesti.\\n52 § Palvelussuhdetta koskevat muutokset\\nPalvelussuhdetta koskevista muutoksista mukaan lukien virkasuhteen muuttaminen työsuhteeksi, palvelussuhteen muuttaminen osa-aikaiseksi, viranhaltijan virantoimitusvelvollisuuden muuttaminen ja viranhaltijan siirtäminen toiseen virkasuhteeseen päättää palvelussuhteeseen ottava viranomainen.\\n53 § Siirrot\\nViran siirtämisestä toimialalta toiselle päättää hyvinvointialuejohtaja tai hänen\\nmääräämänsä viranhaltija.\\nKuitenkin mikäli aluevaltuusto tai aluehallitus tai pelastuslautakunta päättää viran\\ntäyttämisestä, aluevaltuusto ja vastaavasti aluehallitus ja pelastuslautakunta\\nmyös päättää viran siirtämisestä.\\n54 § Viran haettavaksi julistaminen\\nViran julistaa haettavaksi valinnasta päättävä toimielin tai viranhaltija. Viran julistaa kuitenkin haettavaksi aluehallitus, kun valinnasta päättävä viranomainen on\\naluevaltuusto. Kunnan ja hyvinvointialueen viranhaltijasta annetun lain 4 §:n 3\\nmomentissa säädetyn lisäksi henkilö voidaan ottaa ilman julkista hakumenettelyä\\nsellaiseen virkasuhteeseen:', 'Vantaan ja Keravan hyvinvointialueen hallintosääntö Sivu 49\\n1. jossa on kyseessä viran määräaikainen täyttö;\\n2. jossa on kyseessä viran uudelleen täyttäminen sitä aikaisemmin hakeneiden, asianomaiset kelpoisuusvaatimukset täyttävien joukosta virkaan valitun irtisanouduttua ennen hänelle määrättyä virantoimituksen aloittamispäivää tai ilmoitettua, ettei ota virkaa vastaan tai siitä syystä, että virkasuhde\\npuretaan koeaikana, taikka siitä syystä, että virkaan ottamista koskeva\\npäätös on lainvoimaisella päätöksellä kumottu ja asia palautettu uudelleen\\nkäsiteltäväksi;\\n3. jossa kyseessä on hyvinvointialueen sellaisen entisen viranhaltijan valitseminen, joka saa julkisten alojen eläkelaissa tarkoitettua työkyvyttömyyseläkettä ja joka ennen eläkeiän saavuttamista todetaan ansiotyöhön kykeneväksi;\\n4. johon Vantaan ja Keravan hyvinvointialue on hänet kouluttanut tai johon\\nvaadittavaa pätevöitymiskoulutusta hyvinvointialue on tukenut ja jonka kelpoisuusvaatimukset henkilö täyttää,\\n5. johon henkilö on tarkoituksenmukaista ottaa hänen palvelussuhdettaan\\nkoskevien uudelleen järjestelyjen vuoksi;\\n6. muu edellä mainittuihin verrattava, hyväksyttävä syy.', '4)\\u2002henkilö, joka on hallituksen tai siihen rinnastettavan toimielimen jäsenenä taikka johtavassa ja vastuullisessa tehtävässä tai siihen rinnastettavassa asemassa liiketoimintaa harjoittavassa yhteisössä tai säätiössä, jos kysymyksessä on sellainen yhteisö, jolle aluehallituksessa tavanomaisesti käsiteltävien asioiden ratkaisu on omiaan tuottamaan olennaista hyötyä tai vahinkoa.\\n\\nHenkilöstön edunvalvonnasta asianomaisella hyvinvointialueella huolehtivan yhteisön hallituksen tai siihen rinnastettavan toimielimen puheenjohtaja ei ole vaalikelpoinen aluehallitukseen. Vaalikelpoinen ei myöskään ole henkilö, joka yhteisön neuvottelijana tai muussa vastaavassa ominaisuudessa vastaa sen edunvalvonnasta.\\n\\nEnemmistön aluehallituksen jäsenistä on oltava muita kuin hyvinvointialueen tai hyvinvointialueen määräysvallassa olevan yhteisön tai säätiön palveluksessa olevia henkilöitä.\\n\\nEdellä 1 momentin 4 kohtaa ei sovelleta hyvinvointialueen määräysvallassa olevan yhteisön hallituksen tai siihen rinnastettavan toimielimen jäseneen.']\n",
      "\n",
      "======================================================================\n",
      "\n",
      "Overall Metric Pass Rates\n",
      "\n",
      "Contextual Relevancy: 0.00% pass rate\n",
      "\n",
      "======================================================================\n",
      "\n"
     ]
    },
    {
     "name": "stderr",
     "output_type": "stream",
     "text": [
      "\n"
     ]
    },
    {
     "data": {
      "text/html": [
       "<pre style=\"white-space:pre;overflow-x:auto;line-height:normal;font-family:Menlo,'DejaVu Sans Mono',consolas,'Courier New',monospace\"><span style=\"color: #05f58d; text-decoration-color: #05f58d\">✓</span> Tests finished 🎉! Run <span style=\"color: #008000; text-decoration-color: #008000\">'deepeval login'</span> to save and analyze evaluation results on Confident AI. \n",
       "‼️  Friendly reminder 😇: You can also run evaluations with ALL of deepeval's metrics directly on Confident AI \n",
       "instead.\n",
       "</pre>\n"
      ],
      "text/plain": [
       "\u001b[38;2;5;245;141m✓\u001b[0m Tests finished 🎉! Run \u001b[32m'deepeval login'\u001b[0m to save and analyze evaluation results on Confident AI. \n",
       "‼️  Friendly reminder 😇: You can also run evaluations with ALL of deepeval's metrics directly on Confident AI \n",
       "instead.\n"
      ]
     },
     "metadata": {},
     "output_type": "display_data"
    },
    {
     "data": {
      "application/vnd.jupyter.widget-view+json": {
       "model_id": "",
       "version_major": 2,
       "version_minor": 0
      },
      "text/plain": [
       "Output()"
      ]
     },
     "metadata": {},
     "output_type": "display_data"
    },
    {
     "data": {
      "text/html": [
       "<pre style=\"white-space:pre;overflow-x:auto;line-height:normal;font-family:Menlo,'DejaVu Sans Mono',consolas,'Courier New',monospace\">Event loop is already running. Applying nest_asyncio patch to allow async execution...\n",
       "</pre>\n"
      ],
      "text/plain": [
       "Event loop is already running. Applying nest_asyncio patch to allow async execution...\n"
      ]
     },
     "metadata": {},
     "output_type": "display_data"
    },
    {
     "data": {
      "text/html": [
       "<pre style=\"white-space:pre;overflow-x:auto;line-height:normal;font-family:Menlo,'DejaVu Sans Mono',consolas,'Courier New',monospace\"></pre>\n"
      ],
      "text/plain": []
     },
     "metadata": {},
     "output_type": "display_data"
    },
    {
     "name": "stdout",
     "output_type": "stream",
     "text": [
      "0.4166666666666667\n",
      "The score is 0.42 because while the input discusses decision-making in the event of water damage and the need to transfer operations, the retrieval context often discusses unrelated topics such as 'perustamisesta ja lakkauttamisesta' (establishing and abolishing positions), 'virkanimikkeen muuttamisesta' (changing job title), and 'toimialan tietosuojan ja tietoturvan järjestämisestä' (data protection and information security). However, there are relevant statements such as 'Viran siirtämisestä toimialalta toiselle päättää hyvinvointialuejohtaja tai hänen määräämänsä viranhaltija.' (The transfer of a position from one area of responsibility to another is decided by the regional director or an official appointed by him.) and 'Toimialajohtaja vastaa toimialansa toiminnasta ja taloudesta sekä johtaa ja kehittää toimintaa hyvinvointialuestrategian mukaisesti aluehallituksen ja hyvinvointialuejohtajan alaisuudessa.' (The department director is responsible for the operations and finances of his department and manages and develops operations in accordance with the regional strategy under the regional board and regional director.)\n"
     ]
    },
    {
     "data": {
      "text/html": [
       "<pre style=\"white-space:pre;overflow-x:auto;line-height:normal;font-family:Menlo,'DejaVu Sans Mono',consolas,'Courier New',monospace\">✨ You're running DeepEval's latest <span style=\"color: #6a00ff; text-decoration-color: #6a00ff\">Contextual Relevancy Metric</span>! <span style=\"color: #374151; text-decoration-color: #374151; font-weight: bold\">(</span><span style=\"color: #374151; text-decoration-color: #374151\">using gpt-</span><span style=\"color: #374151; text-decoration-color: #374151; font-weight: bold\">4</span><span style=\"color: #374151; text-decoration-color: #374151\">, </span><span style=\"color: #374151; text-decoration-color: #374151\">strict</span><span style=\"color: #374151; text-decoration-color: #374151\">=</span><span style=\"color: #374151; text-decoration-color: #374151; font-style: italic\">False</span><span style=\"color: #374151; text-decoration-color: #374151\">, </span><span style=\"color: #374151; text-decoration-color: #374151\">async_mode</span><span style=\"color: #374151; text-decoration-color: #374151\">=</span><span style=\"color: #374151; text-decoration-color: #374151; font-style: italic\">True</span><span style=\"color: #374151; text-decoration-color: #374151; font-weight: bold\">)</span><span style=\"color: #374151; text-decoration-color: #374151\">...</span>\n",
       "</pre>\n"
      ],
      "text/plain": [
       "✨ You're running DeepEval's latest \u001b[38;2;106;0;255mContextual Relevancy Metric\u001b[0m! \u001b[1;38;2;55;65;81m(\u001b[0m\u001b[38;2;55;65;81musing gpt-\u001b[0m\u001b[1;38;2;55;65;81m4\u001b[0m\u001b[38;2;55;65;81m, \u001b[0m\u001b[38;2;55;65;81mstrict\u001b[0m\u001b[38;2;55;65;81m=\u001b[0m\u001b[3;38;2;55;65;81mFalse\u001b[0m\u001b[38;2;55;65;81m, \u001b[0m\u001b[38;2;55;65;81masync_mode\u001b[0m\u001b[38;2;55;65;81m=\u001b[0m\u001b[3;38;2;55;65;81mTrue\u001b[0m\u001b[1;38;2;55;65;81m)\u001b[0m\u001b[38;2;55;65;81m...\u001b[0m\n"
      ]
     },
     "metadata": {},
     "output_type": "display_data"
    },
    {
     "name": "stdout",
     "output_type": "stream",
     "text": [
      "Event loop is already running. Applying nest_asyncio patch to allow async execution...\n"
     ]
    },
    {
     "name": "stderr",
     "output_type": "stream",
     "text": [
      "Evaluating 1 test case(s) in parallel: |██████████████████████████████|100% (1/1) [Time Taken: 00:57, 57.90s/test case]"
     ]
    },
    {
     "name": "stdout",
     "output_type": "stream",
     "text": [
      "\n",
      "======================================================================\n",
      "\n",
      "Metrics Summary\n",
      "\n",
      "  - ❌ Contextual Relevancy (score: 0.3181818181818182, threshold: 0.7, strict: False, evaluation model: gpt-4, reason: The score is 0.32 because although the retrieval context contains some information about the responsibilities and decision-making power of the wellbeing area manager and department manager, it does not specifically address who would decide on the relocation of an office in case of a severe water damage. The irrelevancy reasons highlight that the context contains a lot of unrelated information about other aspects of their roles and responsibilities., error: None)\n",
      "\n",
      "For test case:\n",
      "\n",
      "  - input: Mikäli toimipisteessä sattuu vesivahinko, jonka myötä toiminta\n",
      "         tulee siirtää muualle, kuka päättää toimipisteen siirrosta, mikäli\n",
      "         asiasta on jo tehty viranhaltijapäätös kahdelle kuukaudelle, mutta\n",
      "         alkuperäisessä toimipisteessä olevien laajojen ongelmien vuoksi,\n",
      "         toimintaa joudutaan edelleen jatkamaan toisessa toimipisteessä (answer IN FINNISH)?\n",
      "  - actual output: Toimipisteen siirrosta päättää hyvinvointialuejohtaja tai hänen määräämänsä viranhaltija. Mikäli aluevaltuusto tai aluehallitus on aikaisemmin päättänyt viran täyttämisestä, heillä on myös päätösvalta viran siirtämisestä. Jos alkuperäisessä toimipisteessä on laajoja ongelmia, ja toimintaa on tarpeen jatkaa toisessa toimipisteessä, päätös siirrosta tulee tehdä asianmukaisesti.\n",
      "  - expected output: None\n",
      "  - context: None\n",
      "  - retrieval context: ['50 § Toimivalta henkilöstöasioissa\\nMikäli toimivallasta henkilöstöasioissa ei ole säädetty laissa eikä määrätty hallintosäännössä, toimivalta on hyvinvointialuejohtajalla.\\n51 § Viran perustaminen ja lakkauttaminen sekä viran kelpoisuusvaatimukset ja\\nnimikkeen muuttaminen\\nAluevaltuusto päättää hyvinvointialuejohtajan ja toimialajohtajien virkojen perustamisesta ja lakkauttamisesta sekä virkanimikkeen muuttamisesta.\\nAluehallitus päättää muiden virkojen perustamisesta ja lakkauttamisesta. Virkanimikkeen muuttamisesta päättää hyvinvointialuejohtaja.\\nViran kelpoisuusvaatimusten muuttamisesta päättää toimialajohtaja alaistensa\\nviranhaltijoiden osalta ottaen huomioon, mitä erikseen on säädetty tai määrätty.\\nHyvinvointialuejohtajan viran kelpoisuusvaatimuksista päättää aluevaltuusto.\\nMuiden virkojen kelpoisuusvaatimuksista päätetään virkaa perustettaessa.\\nPelastuslautakunta päättää pelastuslaitosta koskevat asiat 25 §:n mukaisesti.\\n52 § Palvelussuhdetta koskevat muutokset\\nPalvelussuhdetta koskevista muutoksista mukaan lukien virkasuhteen muuttaminen työsuhteeksi, palvelussuhteen muuttaminen osa-aikaiseksi, viranhaltijan virantoimitusvelvollisuuden muuttaminen ja viranhaltijan siirtäminen toiseen virkasuhteeseen päättää palvelussuhteeseen ottava viranomainen.\\n53 § Siirrot\\nViran siirtämisestä toimialalta toiselle päättää hyvinvointialuejohtaja tai hänen\\nmääräämänsä viranhaltija.\\nKuitenkin mikäli aluevaltuusto tai aluehallitus tai pelastuslautakunta päättää viran\\ntäyttämisestä, aluevaltuusto ja vastaavasti aluehallitus ja pelastuslautakunta\\nmyös päättää viran siirtämisestä.\\n54 § Viran haettavaksi julistaminen\\nViran julistaa haettavaksi valinnasta päättävä toimielin tai viranhaltija. Viran julistaa kuitenkin haettavaksi aluehallitus, kun valinnasta päättävä viranomainen on\\naluevaltuusto. Kunnan ja hyvinvointialueen viranhaltijasta annetun lain 4 §:n 3\\nmomentissa säädetyn lisäksi henkilö voidaan ottaa ilman julkista hakumenettelyä\\nsellaiseen virkasuhteeseen:', '11. toimialan tietosuojan ja tietoturvan järjestämisestä;\\n12. toimialansa vastuualueelle kuuluvien työryhmien jäsenten nimeämisestä\\nsekä edustajien nimeämisestä toimialansa vastuualueelle kuuluviin yhdistyksiin sekä niiden kokouksiin, ellei kokous vaadi luottamushenkilön nimeämistä kokousedustajaksi;\\n13. toimialaansa koskevien toimintaohjeiden (pysyväisluonteiset määräykset)\\nantamisesta;\\n14. muistakin toimialalle kuuluvista asioista, ellei toisin ole säädetty tai määrätty.', '33 § Toimialajohtajien tehtävät ja toimivalta\\nToimialajohtajia ovat:\\n- Lasten, nuorten ja perheiden palvelujen toimialalla lasten, nuorten ja perheiden palvelujen toimialajohtaja\\n- Aikuissosiaalityön ja vammaisten palvelujen toimialalla aikuissosiaalityön ja\\nvammaisten palvelujen toimialajohtaja\\n- Vanhusten palvelujen toimialalla vanhusten palvelujen toimialajohtaja\\n- Terveydenhuollon palvelujen toimialalla terveydenhuollon palvelujen toimialajohtaja\\n- Keski-Uudenmaan pelastuslaitoksen pelastusjohtaja\\n- Konsernipalvelujen toimialalla konsernipalvelujen toimialajohtaja\\nToimialajohtaja vastaa toimialansa toiminnasta ja taloudesta sekä johtaa ja kehittää toimintaa hyvinvointialuestrategian mukaisesti aluehallituksen ja hyvinvointialuejohtajan\\nalaisuudessa.\\nToimialajohtajan toimivaltaan kuuluu päättää:\\n1. sopimuksista, sitoumuksista, sekä hankinnoista 47 §:n mukaisesti;\\n2. valtionavun hakemisesta ja muutoksen hakemisesta sitä koskevaan päätökseen sekä EU-avustuksen hakemisesta;\\n3. toimialaansa koskeviin hankkeisiin osallistumisesta;\\n4. vastauksen antamisesta toimialansa toimintaa koskevaan muistutukseen,\\nkanteluun ja muuhun vastaavaan selvityspyyntöön. Useampaa toimialaa\\nkoskevissa muistutuksissa, kanteluissa ja muissa vastaavissa selvityspyynnöissä kukin toimialajohtaja (jonka toimialaa asia koskee) allekirjoittaa vastauksen osaltaan;\\n5. omaa toimialaansa koskevista lausunnoista sekä näihin rinnastettavista\\nmuista tehtävistä, jollei asiaa sen periaatteellisen tai taloudellisen merkityksen johdosta ole saatettava aluehallituksen käsiteltäväksi;\\n6. hyvinvointialueen puhevallan käyttämisestä tuomioistuimissa tai missä\\nmuuten hyvinvointialueen oikeudellinen edunvalvonta tulee kyseeseen;\\n7. toimialaa koskevista tutkimusluvista sekä tietoluvista;\\n8. toimialaan liittyviin yhdistyksiin liittymisestä, kun yhdistyksen vuotuinen jäsenmaksu on alle 1000 euroa;\\n9. toimialan laskujen hyväksyjistä;\\n10. toimialan omaisuuden myymisestä ja lahjoittamisesta;']\n",
      "\n",
      "======================================================================\n",
      "\n",
      "Overall Metric Pass Rates\n",
      "\n",
      "Contextual Relevancy: 0.00% pass rate\n",
      "\n",
      "======================================================================\n",
      "\n"
     ]
    },
    {
     "name": "stderr",
     "output_type": "stream",
     "text": [
      "\n"
     ]
    },
    {
     "data": {
      "text/html": [
       "<pre style=\"white-space:pre;overflow-x:auto;line-height:normal;font-family:Menlo,'DejaVu Sans Mono',consolas,'Courier New',monospace\"><span style=\"color: #05f58d; text-decoration-color: #05f58d\">✓</span> Tests finished 🎉! Run <span style=\"color: #008000; text-decoration-color: #008000\">'deepeval login'</span> to save and analyze evaluation results on Confident AI. \n",
       "‼️  Friendly reminder 😇: You can also run evaluations with ALL of deepeval's metrics directly on Confident AI \n",
       "instead.\n",
       "</pre>\n"
      ],
      "text/plain": [
       "\u001b[38;2;5;245;141m✓\u001b[0m Tests finished 🎉! Run \u001b[32m'deepeval login'\u001b[0m to save and analyze evaluation results on Confident AI. \n",
       "‼️  Friendly reminder 😇: You can also run evaluations with ALL of deepeval's metrics directly on Confident AI \n",
       "instead.\n"
      ]
     },
     "metadata": {},
     "output_type": "display_data"
    },
    {
     "data": {
      "application/vnd.jupyter.widget-view+json": {
       "model_id": "",
       "version_major": 2,
       "version_minor": 0
      },
      "text/plain": [
       "Output()"
      ]
     },
     "metadata": {},
     "output_type": "display_data"
    },
    {
     "data": {
      "text/html": [
       "<pre style=\"white-space:pre;overflow-x:auto;line-height:normal;font-family:Menlo,'DejaVu Sans Mono',consolas,'Courier New',monospace\">Event loop is already running. Applying nest_asyncio patch to allow async execution...\n",
       "</pre>\n"
      ],
      "text/plain": [
       "Event loop is already running. Applying nest_asyncio patch to allow async execution...\n"
      ]
     },
     "metadata": {},
     "output_type": "display_data"
    },
    {
     "data": {
      "text/html": [
       "<pre style=\"white-space:pre;overflow-x:auto;line-height:normal;font-family:Menlo,'DejaVu Sans Mono',consolas,'Courier New',monospace\"></pre>\n"
      ],
      "text/plain": []
     },
     "metadata": {},
     "output_type": "display_data"
    },
    {
     "name": "stdout",
     "output_type": "stream",
     "text": [
      "0.07692307692307693\n",
      "The score is 0.08 because almost all provided context statements are irrelevant to the input question about the role of the Regional Government in the establishment of a limited company. Only one statement, 'Aluehallitus päättää osakeyhtiön perustamisesta', was found relevant.\n"
     ]
    },
    {
     "data": {
      "text/html": [
       "<pre style=\"white-space:pre;overflow-x:auto;line-height:normal;font-family:Menlo,'DejaVu Sans Mono',consolas,'Courier New',monospace\">✨ You're running DeepEval's latest <span style=\"color: #6a00ff; text-decoration-color: #6a00ff\">Contextual Relevancy Metric</span>! <span style=\"color: #374151; text-decoration-color: #374151; font-weight: bold\">(</span><span style=\"color: #374151; text-decoration-color: #374151\">using gpt-</span><span style=\"color: #374151; text-decoration-color: #374151; font-weight: bold\">4</span><span style=\"color: #374151; text-decoration-color: #374151\">, </span><span style=\"color: #374151; text-decoration-color: #374151\">strict</span><span style=\"color: #374151; text-decoration-color: #374151\">=</span><span style=\"color: #374151; text-decoration-color: #374151; font-style: italic\">False</span><span style=\"color: #374151; text-decoration-color: #374151\">, </span><span style=\"color: #374151; text-decoration-color: #374151\">async_mode</span><span style=\"color: #374151; text-decoration-color: #374151\">=</span><span style=\"color: #374151; text-decoration-color: #374151; font-style: italic\">True</span><span style=\"color: #374151; text-decoration-color: #374151; font-weight: bold\">)</span><span style=\"color: #374151; text-decoration-color: #374151\">...</span>\n",
       "</pre>\n"
      ],
      "text/plain": [
       "✨ You're running DeepEval's latest \u001b[38;2;106;0;255mContextual Relevancy Metric\u001b[0m! \u001b[1;38;2;55;65;81m(\u001b[0m\u001b[38;2;55;65;81musing gpt-\u001b[0m\u001b[1;38;2;55;65;81m4\u001b[0m\u001b[38;2;55;65;81m, \u001b[0m\u001b[38;2;55;65;81mstrict\u001b[0m\u001b[38;2;55;65;81m=\u001b[0m\u001b[3;38;2;55;65;81mFalse\u001b[0m\u001b[38;2;55;65;81m, \u001b[0m\u001b[38;2;55;65;81masync_mode\u001b[0m\u001b[38;2;55;65;81m=\u001b[0m\u001b[3;38;2;55;65;81mTrue\u001b[0m\u001b[1;38;2;55;65;81m)\u001b[0m\u001b[38;2;55;65;81m...\u001b[0m\n"
      ]
     },
     "metadata": {},
     "output_type": "display_data"
    },
    {
     "name": "stdout",
     "output_type": "stream",
     "text": [
      "Event loop is already running. Applying nest_asyncio patch to allow async execution...\n"
     ]
    },
    {
     "name": "stderr",
     "output_type": "stream",
     "text": [
      "Evaluating 1 test case(s) in parallel: |██████████████████████████████|100% (1/1) [Time Taken: 00:56, 56.89s/test case]"
     ]
    },
    {
     "name": "stdout",
     "output_type": "stream",
     "text": [
      "\n",
      "======================================================================\n",
      "\n",
      "Metrics Summary\n",
      "\n",
      "  - ❌ Contextual Relevancy (score: 0.06666666666666667, threshold: 0.7, strict: False, evaluation model: gpt-4, reason: The score is 0.07 because the majority of statements in the retrieval context discuss topics such as 'hyvinvointialueen toiminta', 'henkilöstöasiat', and 'document management', which are not related to 'osakeyhtiön perustamiseen'. Only one relevant statement was found: 'Aluehallitus päättää osakeyhtiön perustamisesta'., error: None)\n",
      "\n",
      "For test case:\n",
      "\n",
      "  - input: Mikä on aluehallituksen rooli osakeyhtiön perustamiseen liittyvissä asioissa (answer IN FINNISH)?\n",
      "  - actual output: Aluehallitus päättää osakeyhtiön perustamisesta. Tämä tarkoittaa, että aluehallitus on vastuussa osakeyhtiön perustamiseen liittyvistä päätöksistä ja toimenpiteistä hyvinvointialueella.\n",
      "  - expected output: None\n",
      "  - context: None\n",
      "  - retrieval context: ['24 § Aluehallituksen tehtävät ja toimivalta\\nAluehallitus johtaa hyvinvointialueen toimintaa, hallintoa ja taloutta.\\nAluehallitus laissa säädettyjen tehtävien lisäksi:\\n1. vastaa järjestämisvastuun toteutumisesta;\\n2. vastaa henkilöstöpolitiikan yleisperiaatteista;\\n3. päättää osakeyhtiön perustamisesta;\\n4. päättää hyvinvointialuejohtajaa koskevista henkilöstöhallinnollista asioista;\\n5. vahvistaa palveluiden myyntihinnat aluevaltuuston vahvistamien hinnoitteluperiaatteiden mukaisesti;\\n6. vastaa arkistotoimen järjestämisestä ja määrää arkistotoimea johtavan viranhaltijan;\\n7. päättää hyvinvointialueen toimialojen erityislainsäädännössä edellytetyistä\\nvastuuviranhaltijoista;\\n8. vastaa hyvinvointialuekonsernin turvallisuudesta ja varautumisesta yhteistyössä alueen kuntien, elinkeinoelämän ja järjestöjen kanssa;\\n9. valvoo, että turvallisuus- ja varautumisjärjestelyt toimeenpannaan ohjeistuksen mukaisesti sekä;\\n10.antaa osana sisäisen valvonnan raportointia sekä toimintakertomuksessa\\ntiedot turvallisuus- ja varautumisjärjestelyistä, keskeisistä johtopäätöksistä\\nsekä myös selvityksen merkittävimmistä turvallisuuteen ja varautumiseen\\nliittyvistä riskeistä ja epävarmuustekijöistä;\\n11.vastaa siitä, että hyvinvointialue täyttää tietosuojalainsäädännön mukaiset\\nvelvoitteet;\\n12.vastaa kestävän kehityksen ja ympäristönäkökulmien huomioimisesta hyvinvointialueella;\\n13.päättää avustusperiaatteiden hyväksymisestä;\\n14.päättää avustusten myöntämisestä, käyttöselvitysten hyväksymisestä/hylkäämisestä sekä takaisinperinnästä lähidemokratia- ja osallisuuslautakunnan ehdotuksen pohjalta;\\n15.päättää sosiaalisen luoton myöntämisen perusteista.\\nMikäli toimivallasta ei ole säädetty laissa eikä määrätty hallintosäännössä tai edelleen\\ndelegointipäätöksessä, toimivalta on aluehallituksella.', '50 § Toimivalta henkilöstöasioissa\\nMikäli toimivallasta henkilöstöasioissa ei ole säädetty laissa eikä määrätty hallintosäännössä, toimivalta on hyvinvointialuejohtajalla.\\n51 § Viran perustaminen ja lakkauttaminen sekä viran kelpoisuusvaatimukset ja\\nnimikkeen muuttaminen\\nAluevaltuusto päättää hyvinvointialuejohtajan ja toimialajohtajien virkojen perustamisesta ja lakkauttamisesta sekä virkanimikkeen muuttamisesta.\\nAluehallitus päättää muiden virkojen perustamisesta ja lakkauttamisesta. Virkanimikkeen muuttamisesta päättää hyvinvointialuejohtaja.\\nViran kelpoisuusvaatimusten muuttamisesta päättää toimialajohtaja alaistensa\\nviranhaltijoiden osalta ottaen huomioon, mitä erikseen on säädetty tai määrätty.\\nHyvinvointialuejohtajan viran kelpoisuusvaatimuksista päättää aluevaltuusto.\\nMuiden virkojen kelpoisuusvaatimuksista päätetään virkaa perustettaessa.\\nPelastuslautakunta päättää pelastuslaitosta koskevat asiat 25 §:n mukaisesti.\\n52 § Palvelussuhdetta koskevat muutokset\\nPalvelussuhdetta koskevista muutoksista mukaan lukien virkasuhteen muuttaminen työsuhteeksi, palvelussuhteen muuttaminen osa-aikaiseksi, viranhaltijan virantoimitusvelvollisuuden muuttaminen ja viranhaltijan siirtäminen toiseen virkasuhteeseen päättää palvelussuhteeseen ottava viranomainen.\\n53 § Siirrot\\nViran siirtämisestä toimialalta toiselle päättää hyvinvointialuejohtaja tai hänen\\nmääräämänsä viranhaltija.\\nKuitenkin mikäli aluevaltuusto tai aluehallitus tai pelastuslautakunta päättää viran\\ntäyttämisestä, aluevaltuusto ja vastaavasti aluehallitus ja pelastuslautakunta\\nmyös päättää viran siirtämisestä.\\n54 § Viran haettavaksi julistaminen\\nViran julistaa haettavaksi valinnasta päättävä toimielin tai viranhaltija. Viran julistaa kuitenkin haettavaksi aluehallitus, kun valinnasta päättävä viranomainen on\\naluevaltuusto. Kunnan ja hyvinvointialueen viranhaltijasta annetun lain 4 §:n 3\\nmomentissa säädetyn lisäksi henkilö voidaan ottaa ilman julkista hakumenettelyä\\nsellaiseen virkasuhteeseen:', '67 § Aluehallituksen tiedonhallinnan tehtävät\\nAluehallitus vastaa siitä, että tiedonhallintalain 4.2 §:n vastuut, käytännöt ja valvonta on\\nmääritelty hyvinvointialueella.\\nTiedonhallinnan toteuttamiseen liittyvien tehtävien vastuut ovat:\\n1. vastuu tiedonhallintalain mukaisten kuvausten koostamisesta ja ylläpidosta,\\nmuutosvaikutusten arvioinnista ja asiakirjajulkisuutta koskevasta kuvauksesta,\\n2. vastuu tietoaineistojen sähköiseen muotoon muuttamisesta ja saatavuudesta,\\n3. vastuu tietoturvallisuusjärjestelyistä, tietojärjestelmien toiminnasta ja yhteistoimivuudesta sekä tietovarantojen yhteentoimivuudesta, ja\\n4. vastuu asianhallinnan sekä palvelujen tiedonhallinnan järjestämisestä sekä tietoaineistojen säilyttämisen järjestämisestä.\\n68 § Aluehallituksen asiakirjahallinnon tehtävät\\nAluehallitus vastaa siitä, että asiakirjahallinnon ohjeistus, käytännöt, vastuut ja valvonta\\non määritelty hyvinvointialueen eri tehtävissä sekä:\\n1. vastaa hyvän tiedonhallintatavan ja hyvän henkilötietojen käsittelyn toteuttamisesta,\\n2. päättää hyvinvointialueen asiakirjahallintoa johtavasta viranhaltijasta ja tämän\\ntehtävistä.\\n69 § Asiakirjahallintoa johtavan viranhaltijan päätösvalta\\nAsiakirjahallintoa johtava viranhaltija johtaa aluehallituksen alaisena asiakirjahallintoa ja\\nvastaa pysyvästi säilytettävistä asiakirjatiedoista.\\nAsiakirjahallintoa johtava viranhaltija päättää:\\n1. hyvinvointialueen arkistonmuodostussuunnitelman sekä tiedonohjaussuunnitelman hyväksymisestä,\\n2. hyvinvointialueen arkistonmuodostajien nimeämisestä,\\n3. hyvinvointialueen asiakirjahallintoon liittyvästä ohjeistuksesta.\\n70 § Hyvinvointialuejohtajan asiakirjahallinnon tehtävät\\nHyvinvointialuejohtaja vastaa siitä, että asiakirjahallinnon hoitaminen on järjestetty annettujen määräysten ja ohjeiden mukaisesti.']\n",
      "\n",
      "======================================================================\n",
      "\n",
      "Overall Metric Pass Rates\n",
      "\n",
      "Contextual Relevancy: 0.00% pass rate\n",
      "\n",
      "======================================================================\n",
      "\n"
     ]
    },
    {
     "name": "stderr",
     "output_type": "stream",
     "text": [
      "\n"
     ]
    },
    {
     "data": {
      "text/html": [
       "<pre style=\"white-space:pre;overflow-x:auto;line-height:normal;font-family:Menlo,'DejaVu Sans Mono',consolas,'Courier New',monospace\"><span style=\"color: #05f58d; text-decoration-color: #05f58d\">✓</span> Tests finished 🎉! Run <span style=\"color: #008000; text-decoration-color: #008000\">'deepeval login'</span> to save and analyze evaluation results on Confident AI. \n",
       "‼️  Friendly reminder 😇: You can also run evaluations with ALL of deepeval's metrics directly on Confident AI \n",
       "instead.\n",
       "</pre>\n"
      ],
      "text/plain": [
       "\u001b[38;2;5;245;141m✓\u001b[0m Tests finished 🎉! Run \u001b[32m'deepeval login'\u001b[0m to save and analyze evaluation results on Confident AI. \n",
       "‼️  Friendly reminder 😇: You can also run evaluations with ALL of deepeval's metrics directly on Confident AI \n",
       "instead.\n"
      ]
     },
     "metadata": {},
     "output_type": "display_data"
    }
   ],
   "source": [
    "\n",
    "for input in inputs:\n",
    "    answer, sources = app.query(input, citations=True)\n",
    "    source_list = []\n",
    "    for s in sources:\n",
    "        source_list.append(s[0])\n",
    "    test_case_ragV, metric_ragV = calculateContextRelevancy(answer, source_list, input)\n",
    "    embedchain_results.append((test_case_ragV, metric_ragV))"
   ]
  },
  {
   "cell_type": "code",
   "execution_count": 19,
   "id": "733b5bc8-ecfe-4c7b-9518-b44541649f34",
   "metadata": {},
   "outputs": [
    {
     "name": "stdout",
     "output_type": "stream",
     "text": [
      "[None, None, None, None, None]\n"
     ]
    }
   ],
   "source": [
    "print(embedchain_results)"
   ]
  },
  {
   "cell_type": "code",
   "execution_count": null,
   "id": "6cd3981d-9ac5-4f71-be56-a2f4d2c0d45f",
   "metadata": {},
   "outputs": [],
   "source": []
  },
  {
   "cell_type": "markdown",
   "id": "ac5473d3-ff18-41bb-b3d7-ac63998cf48d",
   "metadata": {},
   "source": [
    "## Evaluate RagBERT"
   ]
  },
  {
   "cell_type": "code",
   "execution_count": 11,
   "id": "abfaf382-01e0-4164-af51-b4d903de6a65",
   "metadata": {},
   "outputs": [],
   "source": [
    "from RAGBERT import RagBERT"
   ]
  },
  {
   "cell_type": "code",
   "execution_count": 12,
   "id": "6e5f2fac-d61a-4a06-9dae-1d2c5d038e42",
   "metadata": {},
   "outputs": [
    {
     "name": "stderr",
     "output_type": "stream",
     "text": [
      "Device set to use cuda:0\n"
     ]
    }
   ],
   "source": [
    "bert_model = \"distil_bert_fine_chunk_hallinto_classifier-v2\"\n",
    "classifier = pipeline(\"text-classification\", model=bert_model)"
   ]
  },
  {
   "cell_type": "code",
   "execution_count": 17,
   "id": "50e6c3e5-4296-4781-8b8a-519270abc360",
   "metadata": {},
   "outputs": [],
   "source": [
    "ragbert_results = []"
   ]
  },
  {
   "cell_type": "code",
   "execution_count": 18,
   "id": "303240d3-bc27-457d-8067-0840476cb084",
   "metadata": {},
   "outputs": [],
   "source": [
    "chunk_map = [{'label':'LABEL_0', 'file':'chunk.txt'},\n",
    "                 {'label':'LABEL_1', 'file':'chunk2.txt'},\n",
    "                 {'label':'LABEL_2', 'file':'chunk3.txt'},\n",
    "                 {'label':'LABEL_3', 'file':'chunk4.txt'},\n",
    "                 {'label':'LABEL_4', 'file':'chunk5.txt'},\n",
    "                 {'label':'LABEL_5', 'file':'chunk6.txt'}]"
   ]
  },
  {
   "cell_type": "code",
   "execution_count": null,
   "id": "8538d8d5-4918-46e4-aa60-3a3d7698110c",
   "metadata": {},
   "outputs": [],
   "source": []
  },
  {
   "cell_type": "code",
   "execution_count": 19,
   "id": "0eb9fcd6-db07-46d6-9f18-e9e6932da25e",
   "metadata": {
    "scrolled": true
   },
   "outputs": [
    {
     "name": "stdout",
     "output_type": "stream",
     "text": [
      "[[{'label': 'LABEL_0', 'score': 0.7795916199684143}, {'label': 'LABEL_1', 'score': 0.03009897656738758}, {'label': 'LABEL_2', 'score': 0.09950163960456848}, {'label': 'LABEL_3', 'score': 0.03744695708155632}, {'label': 'LABEL_4', 'score': 0.03293641656637192}, {'label': 'LABEL_5', 'score': 0.020424384623765945}]]\n",
      "LABEL_0 [{'label': 'LABEL_0', 'file': 'chunk.txt'}]\n",
      "[{'label': 'LABEL_0', 'file': 'chunk.txt'}, {'label': 'LABEL_1', 'file': 'chunk2.txt'}, {'label': 'LABEL_2', 'file': 'chunk3.txt'}, {'label': 'LABEL_3', 'file': 'chunk4.txt'}, {'label': 'LABEL_4', 'file': 'chunk5.txt'}, {'label': 'LABEL_5', 'file': 'chunk6.txt'}]\n",
      "final_query:  \n",
      "    \n",
      "        76 Â§\n",
      "Yleinen vaalikelpoisuus\n",
      "Vaalikelpoinen hyvinvointialueen luottamustoimeen on henkilÃ¶:\n",
      "\n",
      "1)â€‚joka on kyseisen hyvinvointialueen asukas;\n",
      "\n",
      "2)â€‚jolla on jollakin hyvinvointialueella Ã¤Ã¤nioikeus aluevaaleissa sinÃ¤ vuonna, jona valtuutetut valitaan tai vaali muuhun luottamustoimeen toimitetaan; ja\n",
      "\n",
      "3)â€‚jota ei ole julistettu vajaavaltaiseksi.\n",
      "\n",
      "77 Â§\n",
      "Vaalikelpoisuus aluevaltuustoon\n",
      "Vaalikelpoinen aluevaltuustoon ei ole:\n",
      "\n",
      "1)â€‚valtion virkamies, joka hoitaa vÃ¤littÃ¶mÃ¤sti hyvinvointialuetta koskevia valvontatehtÃ¤viÃ¤;\n",
      "\n",
      "2)â€‚hyvinvointialueen palveluksessa oleva henkilÃ¶, joka toimii aluehallituksen tai lautakunnan tehtÃ¤vÃ¤alueen tai hyvinvointialueen liikelaitoksen johtavassa tehtÃ¤vÃ¤ssÃ¤ tai sellaiseen rinnastettavassa vastuullisessa tehtÃ¤vÃ¤ssÃ¤;\n",
      "\n",
      "3)â€‚hyvinvointialueen mÃ¤Ã¤rÃ¤ysvallassa olevan yhteisÃ¶n tai sÃ¤Ã¤tiÃ¶n palveluksessa oleva henkilÃ¶, joka asemaltaan voidaan rinnastaa 2 kohdassa tarkoitettuun hyvinvointialueen palveluksessa olevaan henkilÃ¶Ã¶n;\n",
      "\n",
      "4)â€‚hyvinvointiyhtymÃ¤n jÃ¤senenÃ¤ olevan hyvinvointialueen aluevaltuuston osalta hyvinvointiyhtymÃ¤n palveluksessa oleva henkilÃ¶, joka asemaltaan voidaan rinnastaa 2 kohdassa tarkoitettuun hyvinvointialueen palveluksessa olevaan henkilÃ¶Ã¶n.\n",
      "\n",
      "EdellÃ¤ 1 momentissa tarkoitetussa palvelussuhteessa oleva on kuitenkin vaalikelpoinen valtuutetuksi, jos palvelussuhde pÃ¤Ã¤ttyy ennen kuin valtuutettujen toimikausi alkaa.\n",
      "\n",
      "78 Â§\n",
      "Vaalikelpoisuus aluehallitukseen\n",
      "Vaalikelpoinen aluehallitukseen on henkilÃ¶, joka on vaalikelpoinen aluevaltuustoon, ei kuitenkaan:\n",
      "\n",
      "1)â€‚vÃ¤littÃ¶mÃ¤sti aluehallituksen alaisena toimiva hyvinvointialueen palveluksessa oleva henkilÃ¶;\n",
      "\n",
      "2)â€‚hyvinvointialueen mÃ¤Ã¤rÃ¤ysvallassa olevan yhteisÃ¶n tai sÃ¤Ã¤tiÃ¶n palveluksessa oleva henkilÃ¶, joka toimii 1 kohdassa tarkoitettuun tehtÃ¤vÃ¤Ã¤n rinnastuvassa tehtÃ¤vÃ¤ssÃ¤;\n",
      "\n",
      "3)â€‚hyvinvointialueen palveluksessa oleva henkilÃ¶, joka lautakunnan esittelijÃ¤nÃ¤ tai muuten vastaa aluehallituksen kÃ¤siteltÃ¤viksi tulevien asioiden valmistelusta;\n",
      "\n",
      "4)â€‚henkilÃ¶, joka on hallituksen tai siihen rinnastettavan toimielimen jÃ¤senenÃ¤ taikka johtavassa ja vastuullisessa tehtÃ¤vÃ¤ssÃ¤ tai siihen rinnastettavassa asemassa liiketoimintaa harjoittavassa yhteisÃ¶ssÃ¤ tai sÃ¤Ã¤tiÃ¶ssÃ¤, jos kysymyksessÃ¤ on sellainen yhteisÃ¶, jolle aluehallituksessa tavanomaisesti kÃ¤siteltÃ¤vien asioiden ratkaisu on omiaan tuottamaan olennaista hyÃ¶tyÃ¤ tai vahinkoa.\n",
      "\n",
      "HenkilÃ¶stÃ¶n edunvalvonnasta asianomaisella hyvinvointialueella huolehtivan yhteisÃ¶n hallituksen tai siihen rinnastettavan toimielimen puheenjohtaja ei ole vaalikelpoinen aluehallitukseen. Vaalikelpoinen ei myÃ¶skÃ¤Ã¤n ole henkilÃ¶, joka yhteisÃ¶n neuvottelijana tai muussa vastaavassa ominaisuudessa vastaa sen edunvalvonnasta.\n",
      "\n",
      "EnemmistÃ¶n aluehallituksen jÃ¤senistÃ¤ on oltava muita kuin hyvinvointialueen tai hyvinvointialueen mÃ¤Ã¤rÃ¤ysvallassa olevan yhteisÃ¶n tai sÃ¤Ã¤tiÃ¶n palveluksessa olevia henkilÃ¶itÃ¤.\n",
      "\n",
      "EdellÃ¤ 1 momentin 4 kohtaa ei sovelleta hyvinvointialueen mÃ¤Ã¤rÃ¤ysvallassa olevan yhteisÃ¶n hallituksen tai siihen rinnastettavan toimielimen jÃ¤seneen.\n",
      "        \n",
      "        \n",
      "\n",
      "    Voiko luottamustehtävässä edelleen olla, jos muuttaa toiselle paikkakunnalle (answer IN FINNISH)?\n",
      "    \n"
     ]
    },
    {
     "data": {
      "application/vnd.jupyter.widget-view+json": {
       "model_id": "",
       "version_major": 2,
       "version_minor": 0
      },
      "text/plain": [
       "Output()"
      ]
     },
     "metadata": {},
     "output_type": "display_data"
    },
    {
     "data": {
      "text/html": [
       "<pre style=\"white-space:pre;overflow-x:auto;line-height:normal;font-family:Menlo,'DejaVu Sans Mono',consolas,'Courier New',monospace\">Event loop is already running. Applying nest_asyncio patch to allow async execution...\n",
       "</pre>\n"
      ],
      "text/plain": [
       "Event loop is already running. Applying nest_asyncio patch to allow async execution...\n"
      ]
     },
     "metadata": {},
     "output_type": "display_data"
    },
    {
     "data": {
      "text/html": [
       "<pre style=\"white-space:pre;overflow-x:auto;line-height:normal;font-family:Menlo,'DejaVu Sans Mono',consolas,'Courier New',monospace\"></pre>\n"
      ],
      "text/plain": []
     },
     "metadata": {},
     "output_type": "display_data"
    },
    {
     "name": "stdout",
     "output_type": "stream",
     "text": [
      "0.25\n",
      "The score is 0.25 because the retrieval context mostly contains irrelevant information about eligibility rules for serving on regional councils and in service relationships, which does not answer the question about continuity in a position of trust when moving to a different locality. However, there is a single relevant statement about eligibility for a position of trust requiring the person to be a resident of the respective wellbeing area.\n",
      "\n",
      "[[{'label': 'LABEL_0', 'score': 0.02966916188597679}, {'label': 'LABEL_1', 'score': 0.006383607164025307}, {'label': 'LABEL_2', 'score': 0.9290233254432678}, {'label': 'LABEL_3', 'score': 0.012153920717537403}, {'label': 'LABEL_4', 'score': 0.011851023882627487}, {'label': 'LABEL_5', 'score': 0.01091888826340437}]]\n",
      "LABEL_2 [{'label': 'LABEL_2', 'file': 'chunk3.txt'}]\n",
      "[{'label': 'LABEL_0', 'file': 'chunk.txt'}, {'label': 'LABEL_1', 'file': 'chunk2.txt'}, {'label': 'LABEL_2', 'file': 'chunk3.txt'}, {'label': 'LABEL_3', 'file': 'chunk4.txt'}, {'label': 'LABEL_4', 'file': 'chunk5.txt'}, {'label': 'LABEL_5', 'file': 'chunk6.txt'}]\n",
      "final_query:  \n",
      "    \n",
      "        50 Â§ Toimivalta henkilÃ¶stÃ¶asioissa\n",
      "MikÃ¤li toimivallasta henkilÃ¶stÃ¶asioissa ei ole sÃ¤Ã¤detty laissa eikÃ¤ mÃ¤Ã¤rÃ¤tty hallintosÃ¤Ã¤nnÃ¶ssÃ¤, toimivalta on hyvinvointialuejohtajalla.\n",
      "51 Â§ Viran perustaminen ja lakkauttaminen sekÃ¤ viran kelpoisuusvaatimukset ja\n",
      "nimikkeen muuttaminen\n",
      "Aluevaltuusto pÃ¤Ã¤ttÃ¤Ã¤ hyvinvointialuejohtajan ja toimialajohtajien virkojen perustamisesta ja lakkauttamisesta sekÃ¤ virkanimikkeen muuttamisesta.\n",
      "Aluehallitus pÃ¤Ã¤ttÃ¤Ã¤ muiden virkojen perustamisesta ja lakkauttamisesta. Virkanimikkeen muuttamisesta pÃ¤Ã¤ttÃ¤Ã¤ hyvinvointialuejohtaja.\n",
      "Viran kelpoisuusvaatimusten muuttamisesta pÃ¤Ã¤ttÃ¤Ã¤ toimialajohtaja alaistensa\n",
      "viranhaltijoiden osalta ottaen huomioon, mitÃ¤ erikseen on sÃ¤Ã¤detty tai mÃ¤Ã¤rÃ¤tty.\n",
      "Hyvinvointialuejohtajan viran kelpoisuusvaatimuksista pÃ¤Ã¤ttÃ¤Ã¤ aluevaltuusto.\n",
      "Muiden virkojen kelpoisuusvaatimuksista pÃ¤Ã¤tetÃ¤Ã¤n virkaa perustettaessa.\n",
      "Pelastuslautakunta pÃ¤Ã¤ttÃ¤Ã¤ pelastuslaitosta koskevat asiat 25 Â§:n mukaisesti.\n",
      "52 Â§ Palvelussuhdetta koskevat muutokset\n",
      "Palvelussuhdetta koskevista muutoksista mukaan lukien virkasuhteen muuttaminen tyÃ¶suhteeksi, palvelussuhteen muuttaminen osa-aikaiseksi, viranhaltijan virantoimitusvelvollisuuden muuttaminen ja viranhaltijan siirtÃ¤minen toiseen virkasuhteeseen pÃ¤Ã¤ttÃ¤Ã¤ palvelussuhteeseen ottava viranomainen.\n",
      "53 Â§ Siirrot\n",
      "Viran siirtÃ¤misestÃ¤ toimialalta toiselle pÃ¤Ã¤ttÃ¤Ã¤ hyvinvointialuejohtaja tai hÃ¤nen\n",
      "mÃ¤Ã¤rÃ¤Ã¤mÃ¤nsÃ¤ viranhaltija.\n",
      "Kuitenkin mikÃ¤li aluevaltuusto tai aluehallitus tai pelastuslautakunta pÃ¤Ã¤ttÃ¤Ã¤ viran\n",
      "tÃ¤yttÃ¤misestÃ¤, aluevaltuusto ja vastaavasti aluehallitus ja pelastuslautakunta\n",
      "myÃ¶s pÃ¤Ã¤ttÃ¤Ã¤ viran siirtÃ¤misestÃ¤.\n",
      "54 Â§ Viran haettavaksi julistaminen\n",
      "Viran julistaa haettavaksi valinnasta pÃ¤Ã¤ttÃ¤vÃ¤ toimielin tai viranhaltija. Viran julistaa kuitenkin haettavaksi aluehallitus, kun valinnasta pÃ¤Ã¤ttÃ¤vÃ¤ viranomainen on\n",
      "aluevaltuusto. Kunnan ja hyvinvointialueen viranhaltijasta annetun lain 4 Â§:n 3\n",
      "momentissa sÃ¤Ã¤detyn lisÃ¤ksi henkilÃ¶ voidaan ottaa ilman julkista hakumenettelyÃ¤\n",
      "sellaiseen virkasuhteeseen:\n",
      "Vantaan ja Keravan hyvinvointialueen hallintosÃ¤Ã¤ntÃ¶ Sivu 49\n",
      "1. jossa on kyseessÃ¤ viran mÃ¤Ã¤rÃ¤aikainen tÃ¤yttÃ¶;\n",
      "2. jossa on kyseessÃ¤ viran uudelleen tÃ¤yttÃ¤minen sitÃ¤ aikaisemmin hakeneiden, asianomaiset kelpoisuusvaatimukset tÃ¤yttÃ¤vien joukosta virkaan valitun irtisanouduttua ennen hÃ¤nelle mÃ¤Ã¤rÃ¤ttyÃ¤ virantoimituksen aloittamispÃ¤ivÃ¤Ã¤ tai ilmoitettua, ettei ota virkaa vastaan tai siitÃ¤ syystÃ¤, ettÃ¤ virkasuhde\n",
      "puretaan koeaikana, taikka siitÃ¤ syystÃ¤, ettÃ¤ virkaan ottamista koskeva\n",
      "pÃ¤Ã¤tÃ¶s on lainvoimaisella pÃ¤Ã¤tÃ¶ksellÃ¤ kumottu ja asia palautettu uudelleen\n",
      "kÃ¤siteltÃ¤vÃ¤ksi;\n",
      "3. jossa kyseessÃ¤ on hyvinvointialueen sellaisen entisen viranhaltijan valitseminen, joka saa julkisten alojen elÃ¤kelaissa tarkoitettua tyÃ¶kyvyttÃ¶myyselÃ¤kettÃ¤ ja joka ennen elÃ¤keiÃ¤n saavuttamista todetaan ansiotyÃ¶hÃ¶n kykenevÃ¤ksi;\n",
      "4. johon Vantaan ja Keravan hyvinvointialue on hÃ¤net kouluttanut tai johon\n",
      "vaadittavaa pÃ¤tevÃ¶itymiskoulutusta hyvinvointialue on tukenut ja jonka kelpoisuusvaatimukset henkilÃ¶ tÃ¤yttÃ¤Ã¤,\n",
      "5. johon henkilÃ¶ on tarkoituksenmukaista ottaa hÃ¤nen palvelussuhdettaan\n",
      "koskevien uudelleen jÃ¤rjestelyjen vuoksi;\n",
      "6. muu edellÃ¤ mainittuihin verrattava, hyvÃ¤ksyttÃ¤vÃ¤ syy.\n",
      "\n",
      "        \n",
      "        \n",
      "\n",
      "    Voidaanko turhaa irtaimistoa lahjoittaa yliopistolle ja kuka päättää irtaimiston lahjoittamisesta (answer IN FINNISH)?\n",
      "    \n"
     ]
    },
    {
     "name": "stderr",
     "output_type": "stream",
     "text": [
      "C:\\Users\\amiri\\anaconda3\\envs\\RagBERT\\Lib\\site-packages\\transformers\\pipelines\\text_classification.py:106: UserWarning: `return_all_scores` is now deprecated,  if want a similar functionality use `top_k=None` instead of `return_all_scores=True` or `top_k=1` instead of `return_all_scores=False`.\n",
      "  warnings.warn(\n"
     ]
    },
    {
     "data": {
      "application/vnd.jupyter.widget-view+json": {
       "model_id": "",
       "version_major": 2,
       "version_minor": 0
      },
      "text/plain": [
       "Output()"
      ]
     },
     "metadata": {},
     "output_type": "display_data"
    },
    {
     "data": {
      "text/html": [
       "<pre style=\"white-space:pre;overflow-x:auto;line-height:normal;font-family:Menlo,'DejaVu Sans Mono',consolas,'Courier New',monospace\">Event loop is already running. Applying nest_asyncio patch to allow async execution...\n",
       "</pre>\n"
      ],
      "text/plain": [
       "Event loop is already running. Applying nest_asyncio patch to allow async execution...\n"
      ]
     },
     "metadata": {},
     "output_type": "display_data"
    },
    {
     "data": {
      "text/html": [
       "<pre style=\"white-space:pre;overflow-x:auto;line-height:normal;font-family:Menlo,'DejaVu Sans Mono',consolas,'Courier New',monospace\"></pre>\n"
      ],
      "text/plain": []
     },
     "metadata": {},
     "output_type": "display_data"
    },
    {
     "name": "stdout",
     "output_type": "stream",
     "text": [
      "0.0\n",
      "The score is 0.00 because all statements in the retrieval context are talking about personnel matters, establishment and abolition of posts, transfer of posts, and proclamation of posts for application, which are all not relevant to the donation of unnecessary property.\n",
      "\n",
      "[[{'label': 'LABEL_0', 'score': 0.002337086945772171}, {'label': 'LABEL_1', 'score': 0.0011278341989964247}, {'label': 'LABEL_2', 'score': 0.9913187623023987}, {'label': 'LABEL_3', 'score': 0.0021168228704482317}, {'label': 'LABEL_4', 'score': 0.0013927258551120758}, {'label': 'LABEL_5', 'score': 0.0017067393055185676}]]\n",
      "LABEL_2 [{'label': 'LABEL_2', 'file': 'chunk3.txt'}]\n",
      "[{'label': 'LABEL_0', 'file': 'chunk.txt'}, {'label': 'LABEL_1', 'file': 'chunk2.txt'}, {'label': 'LABEL_2', 'file': 'chunk3.txt'}, {'label': 'LABEL_3', 'file': 'chunk4.txt'}, {'label': 'LABEL_4', 'file': 'chunk5.txt'}, {'label': 'LABEL_5', 'file': 'chunk6.txt'}]\n",
      "final_query:  \n",
      "    \n",
      "        50 Â§ Toimivalta henkilÃ¶stÃ¶asioissa\n",
      "MikÃ¤li toimivallasta henkilÃ¶stÃ¶asioissa ei ole sÃ¤Ã¤detty laissa eikÃ¤ mÃ¤Ã¤rÃ¤tty hallintosÃ¤Ã¤nnÃ¶ssÃ¤, toimivalta on hyvinvointialuejohtajalla.\n",
      "51 Â§ Viran perustaminen ja lakkauttaminen sekÃ¤ viran kelpoisuusvaatimukset ja\n",
      "nimikkeen muuttaminen\n",
      "Aluevaltuusto pÃ¤Ã¤ttÃ¤Ã¤ hyvinvointialuejohtajan ja toimialajohtajien virkojen perustamisesta ja lakkauttamisesta sekÃ¤ virkanimikkeen muuttamisesta.\n",
      "Aluehallitus pÃ¤Ã¤ttÃ¤Ã¤ muiden virkojen perustamisesta ja lakkauttamisesta. Virkanimikkeen muuttamisesta pÃ¤Ã¤ttÃ¤Ã¤ hyvinvointialuejohtaja.\n",
      "Viran kelpoisuusvaatimusten muuttamisesta pÃ¤Ã¤ttÃ¤Ã¤ toimialajohtaja alaistensa\n",
      "viranhaltijoiden osalta ottaen huomioon, mitÃ¤ erikseen on sÃ¤Ã¤detty tai mÃ¤Ã¤rÃ¤tty.\n",
      "Hyvinvointialuejohtajan viran kelpoisuusvaatimuksista pÃ¤Ã¤ttÃ¤Ã¤ aluevaltuusto.\n",
      "Muiden virkojen kelpoisuusvaatimuksista pÃ¤Ã¤tetÃ¤Ã¤n virkaa perustettaessa.\n",
      "Pelastuslautakunta pÃ¤Ã¤ttÃ¤Ã¤ pelastuslaitosta koskevat asiat 25 Â§:n mukaisesti.\n",
      "52 Â§ Palvelussuhdetta koskevat muutokset\n",
      "Palvelussuhdetta koskevista muutoksista mukaan lukien virkasuhteen muuttaminen tyÃ¶suhteeksi, palvelussuhteen muuttaminen osa-aikaiseksi, viranhaltijan virantoimitusvelvollisuuden muuttaminen ja viranhaltijan siirtÃ¤minen toiseen virkasuhteeseen pÃ¤Ã¤ttÃ¤Ã¤ palvelussuhteeseen ottava viranomainen.\n",
      "53 Â§ Siirrot\n",
      "Viran siirtÃ¤misestÃ¤ toimialalta toiselle pÃ¤Ã¤ttÃ¤Ã¤ hyvinvointialuejohtaja tai hÃ¤nen\n",
      "mÃ¤Ã¤rÃ¤Ã¤mÃ¤nsÃ¤ viranhaltija.\n",
      "Kuitenkin mikÃ¤li aluevaltuusto tai aluehallitus tai pelastuslautakunta pÃ¤Ã¤ttÃ¤Ã¤ viran\n",
      "tÃ¤yttÃ¤misestÃ¤, aluevaltuusto ja vastaavasti aluehallitus ja pelastuslautakunta\n",
      "myÃ¶s pÃ¤Ã¤ttÃ¤Ã¤ viran siirtÃ¤misestÃ¤.\n",
      "54 Â§ Viran haettavaksi julistaminen\n",
      "Viran julistaa haettavaksi valinnasta pÃ¤Ã¤ttÃ¤vÃ¤ toimielin tai viranhaltija. Viran julistaa kuitenkin haettavaksi aluehallitus, kun valinnasta pÃ¤Ã¤ttÃ¤vÃ¤ viranomainen on\n",
      "aluevaltuusto. Kunnan ja hyvinvointialueen viranhaltijasta annetun lain 4 Â§:n 3\n",
      "momentissa sÃ¤Ã¤detyn lisÃ¤ksi henkilÃ¶ voidaan ottaa ilman julkista hakumenettelyÃ¤\n",
      "sellaiseen virkasuhteeseen:\n",
      "Vantaan ja Keravan hyvinvointialueen hallintosÃ¤Ã¤ntÃ¶ Sivu 49\n",
      "1. jossa on kyseessÃ¤ viran mÃ¤Ã¤rÃ¤aikainen tÃ¤yttÃ¶;\n",
      "2. jossa on kyseessÃ¤ viran uudelleen tÃ¤yttÃ¤minen sitÃ¤ aikaisemmin hakeneiden, asianomaiset kelpoisuusvaatimukset tÃ¤yttÃ¤vien joukosta virkaan valitun irtisanouduttua ennen hÃ¤nelle mÃ¤Ã¤rÃ¤ttyÃ¤ virantoimituksen aloittamispÃ¤ivÃ¤Ã¤ tai ilmoitettua, ettei ota virkaa vastaan tai siitÃ¤ syystÃ¤, ettÃ¤ virkasuhde\n",
      "puretaan koeaikana, taikka siitÃ¤ syystÃ¤, ettÃ¤ virkaan ottamista koskeva\n",
      "pÃ¤Ã¤tÃ¶s on lainvoimaisella pÃ¤Ã¤tÃ¶ksellÃ¤ kumottu ja asia palautettu uudelleen\n",
      "kÃ¤siteltÃ¤vÃ¤ksi;\n",
      "3. jossa kyseessÃ¤ on hyvinvointialueen sellaisen entisen viranhaltijan valitseminen, joka saa julkisten alojen elÃ¤kelaissa tarkoitettua tyÃ¶kyvyttÃ¶myyselÃ¤kettÃ¤ ja joka ennen elÃ¤keiÃ¤n saavuttamista todetaan ansiotyÃ¶hÃ¶n kykenevÃ¤ksi;\n",
      "4. johon Vantaan ja Keravan hyvinvointialue on hÃ¤net kouluttanut tai johon\n",
      "vaadittavaa pÃ¤tevÃ¶itymiskoulutusta hyvinvointialue on tukenut ja jonka kelpoisuusvaatimukset henkilÃ¶ tÃ¤yttÃ¤Ã¤,\n",
      "5. johon henkilÃ¶ on tarkoituksenmukaista ottaa hÃ¤nen palvelussuhdettaan\n",
      "koskevien uudelleen jÃ¤rjestelyjen vuoksi;\n",
      "6. muu edellÃ¤ mainittuihin verrattava, hyvÃ¤ksyttÃ¤vÃ¤ syy.\n",
      "\n",
      "        \n",
      "        \n",
      "\n",
      "    Kuka päättää uusien virkojen perustamisesta (answer IN FINNISH)?\n",
      "    \n"
     ]
    },
    {
     "name": "stderr",
     "output_type": "stream",
     "text": [
      "C:\\Users\\amiri\\anaconda3\\envs\\RagBERT\\Lib\\site-packages\\transformers\\pipelines\\text_classification.py:106: UserWarning: `return_all_scores` is now deprecated,  if want a similar functionality use `top_k=None` instead of `return_all_scores=True` or `top_k=1` instead of `return_all_scores=False`.\n",
      "  warnings.warn(\n"
     ]
    },
    {
     "data": {
      "application/vnd.jupyter.widget-view+json": {
       "model_id": "",
       "version_major": 2,
       "version_minor": 0
      },
      "text/plain": [
       "Output()"
      ]
     },
     "metadata": {},
     "output_type": "display_data"
    },
    {
     "data": {
      "text/html": [
       "<pre style=\"white-space:pre;overflow-x:auto;line-height:normal;font-family:Menlo,'DejaVu Sans Mono',consolas,'Courier New',monospace\">Event loop is already running. Applying nest_asyncio patch to allow async execution...\n",
       "</pre>\n"
      ],
      "text/plain": [
       "Event loop is already running. Applying nest_asyncio patch to allow async execution...\n"
      ]
     },
     "metadata": {},
     "output_type": "display_data"
    },
    {
     "data": {
      "text/html": [
       "<pre style=\"white-space:pre;overflow-x:auto;line-height:normal;font-family:Menlo,'DejaVu Sans Mono',consolas,'Courier New',monospace\"></pre>\n"
      ],
      "text/plain": []
     },
     "metadata": {},
     "output_type": "display_data"
    },
    {
     "name": "stdout",
     "output_type": "stream",
     "text": [
      "0.5\n",
      "The score is 0.50 because the retrieved context contains relevant statements such as 'Aluevaltuusto päättää hyvinvointialuejohtajan ja toimialajohtajien virkojen perustamisesta ja lakkauttamisesta sekä virkanimikkeen muuttamisesta.' and 'Aluehallitus päättää muiden virkojen perustamisesta ja lakkauttamisesta.' However, there are also irrelevant statements like 'Mikäli toimivallasta henkilöstöasioissa ei ole säädetty laissa eikä määrätty hallintosäännössä, toimivalta on hyvinvointialuejohtajalla' and 'Pelastuslautakunta päättää pelastuslaitosta koskevat asiat 25 Â§:n mukaisesti', which are not related to the establishment of new positions.\n",
      "\n",
      "[[{'label': 'LABEL_0', 'score': 0.05718198046088219}, {'label': 'LABEL_1', 'score': 0.013595126569271088}, {'label': 'LABEL_2', 'score': 0.7902374267578125}, {'label': 'LABEL_3', 'score': 0.0677618458867073}, {'label': 'LABEL_4', 'score': 0.04866572842001915}, {'label': 'LABEL_5', 'score': 0.022558031603693962}]]\n",
      "LABEL_2 [{'label': 'LABEL_2', 'file': 'chunk3.txt'}]\n",
      "[{'label': 'LABEL_0', 'file': 'chunk.txt'}, {'label': 'LABEL_1', 'file': 'chunk2.txt'}, {'label': 'LABEL_2', 'file': 'chunk3.txt'}, {'label': 'LABEL_3', 'file': 'chunk4.txt'}, {'label': 'LABEL_4', 'file': 'chunk5.txt'}, {'label': 'LABEL_5', 'file': 'chunk6.txt'}]\n",
      "final_query:  \n",
      "    \n",
      "        50 Â§ Toimivalta henkilÃ¶stÃ¶asioissa\n",
      "MikÃ¤li toimivallasta henkilÃ¶stÃ¶asioissa ei ole sÃ¤Ã¤detty laissa eikÃ¤ mÃ¤Ã¤rÃ¤tty hallintosÃ¤Ã¤nnÃ¶ssÃ¤, toimivalta on hyvinvointialuejohtajalla.\n",
      "51 Â§ Viran perustaminen ja lakkauttaminen sekÃ¤ viran kelpoisuusvaatimukset ja\n",
      "nimikkeen muuttaminen\n",
      "Aluevaltuusto pÃ¤Ã¤ttÃ¤Ã¤ hyvinvointialuejohtajan ja toimialajohtajien virkojen perustamisesta ja lakkauttamisesta sekÃ¤ virkanimikkeen muuttamisesta.\n",
      "Aluehallitus pÃ¤Ã¤ttÃ¤Ã¤ muiden virkojen perustamisesta ja lakkauttamisesta. Virkanimikkeen muuttamisesta pÃ¤Ã¤ttÃ¤Ã¤ hyvinvointialuejohtaja.\n",
      "Viran kelpoisuusvaatimusten muuttamisesta pÃ¤Ã¤ttÃ¤Ã¤ toimialajohtaja alaistensa\n",
      "viranhaltijoiden osalta ottaen huomioon, mitÃ¤ erikseen on sÃ¤Ã¤detty tai mÃ¤Ã¤rÃ¤tty.\n",
      "Hyvinvointialuejohtajan viran kelpoisuusvaatimuksista pÃ¤Ã¤ttÃ¤Ã¤ aluevaltuusto.\n",
      "Muiden virkojen kelpoisuusvaatimuksista pÃ¤Ã¤tetÃ¤Ã¤n virkaa perustettaessa.\n",
      "Pelastuslautakunta pÃ¤Ã¤ttÃ¤Ã¤ pelastuslaitosta koskevat asiat 25 Â§:n mukaisesti.\n",
      "52 Â§ Palvelussuhdetta koskevat muutokset\n",
      "Palvelussuhdetta koskevista muutoksista mukaan lukien virkasuhteen muuttaminen tyÃ¶suhteeksi, palvelussuhteen muuttaminen osa-aikaiseksi, viranhaltijan virantoimitusvelvollisuuden muuttaminen ja viranhaltijan siirtÃ¤minen toiseen virkasuhteeseen pÃ¤Ã¤ttÃ¤Ã¤ palvelussuhteeseen ottava viranomainen.\n",
      "53 Â§ Siirrot\n",
      "Viran siirtÃ¤misestÃ¤ toimialalta toiselle pÃ¤Ã¤ttÃ¤Ã¤ hyvinvointialuejohtaja tai hÃ¤nen\n",
      "mÃ¤Ã¤rÃ¤Ã¤mÃ¤nsÃ¤ viranhaltija.\n",
      "Kuitenkin mikÃ¤li aluevaltuusto tai aluehallitus tai pelastuslautakunta pÃ¤Ã¤ttÃ¤Ã¤ viran\n",
      "tÃ¤yttÃ¤misestÃ¤, aluevaltuusto ja vastaavasti aluehallitus ja pelastuslautakunta\n",
      "myÃ¶s pÃ¤Ã¤ttÃ¤Ã¤ viran siirtÃ¤misestÃ¤.\n",
      "54 Â§ Viran haettavaksi julistaminen\n",
      "Viran julistaa haettavaksi valinnasta pÃ¤Ã¤ttÃ¤vÃ¤ toimielin tai viranhaltija. Viran julistaa kuitenkin haettavaksi aluehallitus, kun valinnasta pÃ¤Ã¤ttÃ¤vÃ¤ viranomainen on\n",
      "aluevaltuusto. Kunnan ja hyvinvointialueen viranhaltijasta annetun lain 4 Â§:n 3\n",
      "momentissa sÃ¤Ã¤detyn lisÃ¤ksi henkilÃ¶ voidaan ottaa ilman julkista hakumenettelyÃ¤\n",
      "sellaiseen virkasuhteeseen:\n",
      "Vantaan ja Keravan hyvinvointialueen hallintosÃ¤Ã¤ntÃ¶ Sivu 49\n",
      "1. jossa on kyseessÃ¤ viran mÃ¤Ã¤rÃ¤aikainen tÃ¤yttÃ¶;\n",
      "2. jossa on kyseessÃ¤ viran uudelleen tÃ¤yttÃ¤minen sitÃ¤ aikaisemmin hakeneiden, asianomaiset kelpoisuusvaatimukset tÃ¤yttÃ¤vien joukosta virkaan valitun irtisanouduttua ennen hÃ¤nelle mÃ¤Ã¤rÃ¤ttyÃ¤ virantoimituksen aloittamispÃ¤ivÃ¤Ã¤ tai ilmoitettua, ettei ota virkaa vastaan tai siitÃ¤ syystÃ¤, ettÃ¤ virkasuhde\n",
      "puretaan koeaikana, taikka siitÃ¤ syystÃ¤, ettÃ¤ virkaan ottamista koskeva\n",
      "pÃ¤Ã¤tÃ¶s on lainvoimaisella pÃ¤Ã¤tÃ¶ksellÃ¤ kumottu ja asia palautettu uudelleen\n",
      "kÃ¤siteltÃ¤vÃ¤ksi;\n",
      "3. jossa kyseessÃ¤ on hyvinvointialueen sellaisen entisen viranhaltijan valitseminen, joka saa julkisten alojen elÃ¤kelaissa tarkoitettua tyÃ¶kyvyttÃ¶myyselÃ¤kettÃ¤ ja joka ennen elÃ¤keiÃ¤n saavuttamista todetaan ansiotyÃ¶hÃ¶n kykenevÃ¤ksi;\n",
      "4. johon Vantaan ja Keravan hyvinvointialue on hÃ¤net kouluttanut tai johon\n",
      "vaadittavaa pÃ¤tevÃ¶itymiskoulutusta hyvinvointialue on tukenut ja jonka kelpoisuusvaatimukset henkilÃ¶ tÃ¤yttÃ¤Ã¤,\n",
      "5. johon henkilÃ¶ on tarkoituksenmukaista ottaa hÃ¤nen palvelussuhdettaan\n",
      "koskevien uudelleen jÃ¤rjestelyjen vuoksi;\n",
      "6. muu edellÃ¤ mainittuihin verrattava, hyvÃ¤ksyttÃ¤vÃ¤ syy.\n",
      "\n",
      "        \n",
      "        \n",
      "\n",
      "    Mikäli toimipisteessä sattuu vesivahinko, jonka myötä toiminta\n",
      "         tulee siirtää muualle, kuka päättää toimipisteen siirrosta, mikäli\n",
      "         asiasta on jo tehty viranhaltijapäätös kahdelle kuukaudelle, mutta\n",
      "         alkuperäisessä toimipisteessä olevien laajojen ongelmien vuoksi,\n",
      "         toimintaa joudutaan edelleen jatkamaan toisessa toimipisteessä (answer IN FINNISH)?\n",
      "    \n"
     ]
    },
    {
     "name": "stderr",
     "output_type": "stream",
     "text": [
      "C:\\Users\\amiri\\anaconda3\\envs\\RagBERT\\Lib\\site-packages\\transformers\\pipelines\\text_classification.py:106: UserWarning: `return_all_scores` is now deprecated,  if want a similar functionality use `top_k=None` instead of `return_all_scores=True` or `top_k=1` instead of `return_all_scores=False`.\n",
      "  warnings.warn(\n"
     ]
    },
    {
     "data": {
      "application/vnd.jupyter.widget-view+json": {
       "model_id": "",
       "version_major": 2,
       "version_minor": 0
      },
      "text/plain": [
       "Output()"
      ]
     },
     "metadata": {},
     "output_type": "display_data"
    },
    {
     "data": {
      "text/html": [
       "<pre style=\"white-space:pre;overflow-x:auto;line-height:normal;font-family:Menlo,'DejaVu Sans Mono',consolas,'Courier New',monospace\">Event loop is already running. Applying nest_asyncio patch to allow async execution...\n",
       "</pre>\n"
      ],
      "text/plain": [
       "Event loop is already running. Applying nest_asyncio patch to allow async execution...\n"
      ]
     },
     "metadata": {},
     "output_type": "display_data"
    },
    {
     "data": {
      "text/html": [
       "<pre style=\"white-space:pre;overflow-x:auto;line-height:normal;font-family:Menlo,'DejaVu Sans Mono',consolas,'Courier New',monospace\"></pre>\n"
      ],
      "text/plain": []
     },
     "metadata": {},
     "output_type": "display_data"
    },
    {
     "name": "stdout",
     "output_type": "stream",
     "text": [
      "0.4\n",
      "The score is 0.40 because while the retrieval context does provide some information about decision making related to relocation of a position or an office ('Viran siirtÃ¤misestÃ¤ toimialalta toiselle pÃ¤Ã¤ttÃ¤Ã¤ hyvinvointialuejohtaja tai hÃ¤nen mÃ¤Ã¤rÃ¤Ã¤mÃ¤nsÃ¤ viranhaltija.', 'Kuitenkin mikÃ¤li aluevaltuusto tai aluehallitus tai pelastuslautakunta pÃ¤Ã¤ttÃ¤Ã¤ viran tÃ¤yttÃ¤misestÃ¤, aluevaltuusto ja vastaavasti aluehallitus ja pelastuslautakunta myÃ¶s pÃ¤Ã¤ttÃ¤Ã¤ viran siirtÃ¤misestÃ¤.'), it doesn't specifically address the decision making in case of relocation due to extensive problems at the original location, which was the main point of the input.\n",
      "\n",
      "[[{'label': 'LABEL_0', 'score': 0.20487233996391296}, {'label': 'LABEL_1', 'score': 0.24692319333553314}, {'label': 'LABEL_2', 'score': 0.11118076741695404}, {'label': 'LABEL_3', 'score': 0.06688091158866882}, {'label': 'LABEL_4', 'score': 0.18773862719535828}, {'label': 'LABEL_5', 'score': 0.18240411579608917}]]\n",
      "LABEL_1 [{'label': 'LABEL_1', 'file': 'chunk2.txt'}]\n",
      "[{'label': 'LABEL_0', 'file': 'chunk.txt'}, {'label': 'LABEL_1', 'file': 'chunk2.txt'}, {'label': 'LABEL_2', 'file': 'chunk3.txt'}, {'label': 'LABEL_3', 'file': 'chunk4.txt'}, {'label': 'LABEL_4', 'file': 'chunk5.txt'}, {'label': 'LABEL_5', 'file': 'chunk6.txt'}]\n",
      "final_query:  \n",
      "    \n",
      "        33 Â§ Toimialajohtajien tehtÃ¤vÃ¤t ja toimivalta\n",
      "Toimialajohtajia ovat:\n",
      "- Lasten, nuorten ja perheiden palvelujen toimialalla lasten, nuorten ja perheiden palvelujen toimialajohtaja\n",
      "- AikuissosiaalityÃ¶n ja vammaisten palvelujen toimialalla aikuissosiaalityÃ¶n ja\n",
      "vammaisten palvelujen toimialajohtaja\n",
      "- Vanhusten palvelujen toimialalla vanhusten palvelujen toimialajohtaja\n",
      "- Terveydenhuollon palvelujen toimialalla terveydenhuollon palvelujen toimialajohtaja\n",
      "- Keski-Uudenmaan pelastuslaitoksen pelastusjohtaja\n",
      "- Konsernipalvelujen toimialalla konsernipalvelujen toimialajohtaja\n",
      "Toimialajohtaja vastaa toimialansa toiminnasta ja taloudesta sekÃ¤ johtaa ja kehittÃ¤Ã¤ toimintaa hyvinvointialuestrategian mukaisesti aluehallituksen ja hyvinvointialuejohtajan\n",
      "alaisuudessa.\n",
      "Toimialajohtajan toimivaltaan kuuluu pÃ¤Ã¤ttÃ¤Ã¤:\n",
      "1. sopimuksista, sitoumuksista, sekÃ¤ hankinnoista 47 Â§:n mukaisesti;\n",
      "2. valtionavun hakemisesta ja muutoksen hakemisesta sitÃ¤ koskevaan pÃ¤Ã¤tÃ¶kseen sekÃ¤ EU-avustuksen hakemisesta;\n",
      "3. toimialaansa koskeviin hankkeisiin osallistumisesta;\n",
      "4. vastauksen antamisesta toimialansa toimintaa koskevaan muistutukseen,\n",
      "kanteluun ja muuhun vastaavaan selvityspyyntÃ¶Ã¶n. Useampaa toimialaa\n",
      "koskevissa muistutuksissa, kanteluissa ja muissa vastaavissa selvityspyynnÃ¶issÃ¤ kukin toimialajohtaja (jonka toimialaa asia koskee) allekirjoittaa vastauksen osaltaan;\n",
      "5. omaa toimialaansa koskevista lausunnoista sekÃ¤ nÃ¤ihin rinnastettavista\n",
      "muista tehtÃ¤vistÃ¤, jollei asiaa sen periaatteellisen tai taloudellisen merkityksen johdosta ole saatettava aluehallituksen kÃ¤siteltÃ¤vÃ¤ksi;\n",
      "6. hyvinvointialueen puhevallan kÃ¤yttÃ¤misestÃ¤ tuomioistuimissa tai missÃ¤\n",
      "muuten hyvinvointialueen oikeudellinen edunvalvonta tulee kyseeseen;\n",
      "7. toimialaa koskevista tutkimusluvista sekÃ¤ tietoluvista;\n",
      "8. toimialaan liittyviin yhdistyksiin liittymisestÃ¤, kun yhdistyksen vuotuinen jÃ¤senmaksu on alle 1000 euroa;\n",
      "9. toimialan laskujen hyvÃ¤ksyjistÃ¤;\n",
      "10. toimialan omaisuuden myymisestÃ¤ ja lahjoittamisesta;\n",
      "11. toimialan tietosuojan ja tietoturvan jÃ¤rjestÃ¤misestÃ¤;\n",
      "12. toimialansa vastuualueelle kuuluvien tyÃ¶ryhmien jÃ¤senten nimeÃ¤misestÃ¤\n",
      "sekÃ¤ edustajien nimeÃ¤misestÃ¤ toimialansa vastuualueelle kuuluviin yhdistyksiin sekÃ¤ niiden kokouksiin, ellei kokous vaadi luottamushenkilÃ¶n nimeÃ¤mistÃ¤ kokousedustajaksi;\n",
      "13. toimialaansa koskevien toimintaohjeiden (pysyvÃ¤isluonteiset mÃ¤Ã¤rÃ¤ykset)\n",
      "antamisesta;\n",
      "14. muistakin toimialalle kuuluvista asioista, ellei toisin ole sÃ¤Ã¤detty tai mÃ¤Ã¤rÃ¤tty.\n",
      "\n",
      "\n",
      "\n",
      "\n",
      "        \n",
      "        \n",
      "\n",
      "    Mikä on aluehallituksen rooli osakeyhtiön perustamiseen liittyvissä asioissa (answer IN FINNISH)?\n",
      "    \n"
     ]
    },
    {
     "name": "stderr",
     "output_type": "stream",
     "text": [
      "C:\\Users\\amiri\\anaconda3\\envs\\RagBERT\\Lib\\site-packages\\transformers\\pipelines\\text_classification.py:106: UserWarning: `return_all_scores` is now deprecated,  if want a similar functionality use `top_k=None` instead of `return_all_scores=True` or `top_k=1` instead of `return_all_scores=False`.\n",
      "  warnings.warn(\n"
     ]
    },
    {
     "data": {
      "application/vnd.jupyter.widget-view+json": {
       "model_id": "",
       "version_major": 2,
       "version_minor": 0
      },
      "text/plain": [
       "Output()"
      ]
     },
     "metadata": {},
     "output_type": "display_data"
    },
    {
     "data": {
      "text/html": [
       "<pre style=\"white-space:pre;overflow-x:auto;line-height:normal;font-family:Menlo,'DejaVu Sans Mono',consolas,'Courier New',monospace\">Event loop is already running. Applying nest_asyncio patch to allow async execution...\n",
       "</pre>\n"
      ],
      "text/plain": [
       "Event loop is already running. Applying nest_asyncio patch to allow async execution...\n"
      ]
     },
     "metadata": {},
     "output_type": "display_data"
    },
    {
     "data": {
      "text/html": [
       "<pre style=\"white-space:pre;overflow-x:auto;line-height:normal;font-family:Menlo,'DejaVu Sans Mono',consolas,'Courier New',monospace\"></pre>\n"
      ],
      "text/plain": []
     },
     "metadata": {},
     "output_type": "display_data"
    },
    {
     "name": "stdout",
     "output_type": "stream",
     "text": [
      "0.0\n",
      "The score is 0.00 because the role of the regional director in relation to the establishment of a limited company is not discussed in the statement, and no relevant statements were found in the retrieval context.\n",
      "\n"
     ]
    }
   ],
   "source": [
    "for input in inputs:\n",
    "    resp, sources, query = RagBERT(classifier, topk=1, query=input, chunk_map=chunk_map, source=\"./chunks_hallinto\")\n",
    "    test_case_ragB, metric_ragB = calculateContextRelevancy(resp, sources, query)\n",
    "    ragbert_results.append((test_case_ragB, metric_ragB))"
   ]
  },
  {
   "cell_type": "code",
   "execution_count": 22,
   "id": "d4e79458-1b74-4f58-841b-a4b3e71e959e",
   "metadata": {},
   "outputs": [
    {
     "name": "stdout",
     "output_type": "stream",
     "text": [
      "0.25\n",
      "The score is 0.25 because the retrieval context mostly contains irrelevant information about eligibility rules for serving on regional councils and in service relationships, which does not answer the question about continuity in a position of trust when moving to a different locality. However, there is a single relevant statement about eligibility for a position of trust requiring the person to be a resident of the respective wellbeing area.\n",
      "0.0\n",
      "The score is 0.00 because all statements in the retrieval context are talking about personnel matters, establishment and abolition of posts, transfer of posts, and proclamation of posts for application, which are all not relevant to the donation of unnecessary property.\n",
      "0.5\n",
      "The score is 0.50 because the retrieved context contains relevant statements such as 'Aluevaltuusto päättää hyvinvointialuejohtajan ja toimialajohtajien virkojen perustamisesta ja lakkauttamisesta sekä virkanimikkeen muuttamisesta.' and 'Aluehallitus päättää muiden virkojen perustamisesta ja lakkauttamisesta.' However, there are also irrelevant statements like 'Mikäli toimivallasta henkilöstöasioissa ei ole säädetty laissa eikä määrätty hallintosäännössä, toimivalta on hyvinvointialuejohtajalla' and 'Pelastuslautakunta päättää pelastuslaitosta koskevat asiat 25 Â§:n mukaisesti', which are not related to the establishment of new positions.\n",
      "0.4\n",
      "The score is 0.40 because while the retrieval context does provide some information about decision making related to relocation of a position or an office ('Viran siirtÃ¤misestÃ¤ toimialalta toiselle pÃ¤Ã¤ttÃ¤Ã¤ hyvinvointialuejohtaja tai hÃ¤nen mÃ¤Ã¤rÃ¤Ã¤mÃ¤nsÃ¤ viranhaltija.', 'Kuitenkin mikÃ¤li aluevaltuusto tai aluehallitus tai pelastuslautakunta pÃ¤Ã¤ttÃ¤Ã¤ viran tÃ¤yttÃ¤misestÃ¤, aluevaltuusto ja vastaavasti aluehallitus ja pelastuslautakunta myÃ¶s pÃ¤Ã¤ttÃ¤Ã¤ viran siirtÃ¤misestÃ¤.'), it doesn't specifically address the decision making in case of relocation due to extensive problems at the original location, which was the main point of the input.\n",
      "0.0\n",
      "The score is 0.00 because the role of the regional director in relation to the establishment of a limited company is not discussed in the statement, and no relevant statements were found in the retrieval context.\n"
     ]
    }
   ],
   "source": [
    "#print(ragbert_results)\n",
    "for t,m in ragbert_results:\n",
    "    print(m.score)\n",
    "    print(m.reason)"
   ]
  },
  {
   "cell_type": "markdown",
   "id": "ddb08214-73a9-4693-bd30-07585104232e",
   "metadata": {},
   "source": [
    "## Evaluate in Bulk"
   ]
  },
  {
   "cell_type": "code",
   "execution_count": null,
   "id": "ec9782e6-133b-4b19-9a34-9adc18f4881d",
   "metadata": {},
   "outputs": [],
   "source": [
    "# Embedchain\n",
    "for t,m in embedchain_results:\n",
    "    evaluate_in_bulk(t, m)"
   ]
  },
  {
   "cell_type": "code",
   "execution_count": null,
   "id": "d9505c07-fd10-460a-b3d3-5f9e59a75c9a",
   "metadata": {},
   "outputs": [],
   "source": [
    "# RagBERT\n",
    "for t,m in ragbert_results:\n",
    "    evaluate_in_bulk(t, m)"
   ]
  },
  {
   "cell_type": "code",
   "execution_count": null,
   "id": "499a0ca1-252e-4d34-b240-1179b9233f3b",
   "metadata": {},
   "outputs": [],
   "source": []
  }
 ],
 "metadata": {
  "kernelspec": {
   "display_name": "Python 3 (ipykernel)",
   "language": "python",
   "name": "python3"
  },
  "language_info": {
   "codemirror_mode": {
    "name": "ipython",
    "version": 3
   },
   "file_extension": ".py",
   "mimetype": "text/x-python",
   "name": "python",
   "nbconvert_exporter": "python",
   "pygments_lexer": "ipython3",
   "version": "3.11.10"
  }
 },
 "nbformat": 4,
 "nbformat_minor": 5
}
